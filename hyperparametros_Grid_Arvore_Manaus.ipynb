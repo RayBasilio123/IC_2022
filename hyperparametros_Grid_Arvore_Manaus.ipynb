{
  "nbformat": 4,
  "nbformat_minor": 0,
  "metadata": {
    "colab": {
      "name": "hyperparametros_Grid_Arvore_Manaus.ipynb",
      "provenance": [],
      "collapsed_sections": [],
      "authorship_tag": "ABX9TyM1t3mquumi14CT+6caKFxn",
      "include_colab_link": true
    },
    "kernelspec": {
      "display_name": "Python 3",
      "name": "python3"
    },
    "language_info": {
      "name": "python"
    }
  },
  "cells": [
    {
      "cell_type": "markdown",
      "metadata": {
        "id": "view-in-github",
        "colab_type": "text"
      },
      "source": [
        "<a href=\"https://colab.research.google.com/github/RayBasilio123/IC_2022/blob/main/hyperparametros_Grid_Arvore_Manaus.ipynb\" target=\"_parent\"><img src=\"https://colab.research.google.com/assets/colab-badge.svg\" alt=\"Open In Colab\"/></a>"
      ]
    },
    {
      "cell_type": "code",
      "metadata": {
        "id": "apLQnPo9gd8n"
      },
      "source": [
        "import numpy as np\n",
        "import pandas as pd\n",
        "import math\n",
        "from sklearn.tree import DecisionTreeRegressor\n",
        "import matplotlib.pyplot as plt\n",
        "from sklearn.metrics import mean_absolute_error, mean_squared_error\n",
        "from sklearn.metrics import f1_score\n",
        "from datetime import datetime\n",
        "from matplotlib import pyplot\n",
        "\n",
        "from math import nan\n",
        "from numpy import set_printoptions\n",
        "from sklearn.feature_selection import SelectKBest\n",
        "from sklearn.feature_selection import f_regression\n",
        "from sklearn.ensemble import ExtraTreesRegressor\n",
        "from sklearn.model_selection import GridSearchCV\n"
      ],
      "execution_count": 22,
      "outputs": []
    },
    {
      "cell_type": "code",
      "metadata": {
        "id": "Yymrk7qjzsHL"
      },
      "source": [
        "def get_x2(df,lista,lags,Eto,lags_eto):\n",
        "  lags=lags\n",
        "  lista_aux=[]\n",
        "  lista_aux2=[]\n",
        "  max_lag=0;\n",
        "  data = pd.DataFrame()\n",
        "  eta_nois = pd.DataFrame()\n",
        "  eta_nois['Data']=df['Data']\n",
        "  for coluna in lista:\n",
        "    data[coluna] = df[coluna]       \n",
        "\n",
        "  for i in range(len(lags)):\n",
        "    for j in range(len(lags[i])):\n",
        "      lista_aux = data.iloc[:,i].tolist()\n",
        "      for displacement in range((lags[i][j])):\n",
        "        if max_lag<(lags[i][j]):\n",
        "          max_lag=(lags[i][j])\n",
        "        del lista_aux[len(lista_aux)-1]\n",
        "        lista_aux.insert(0,nan)\n",
        "      eta_nois[((data.iloc[:,i]).name)+(\"_t-\")+str(lags[i][j])]=(lista_aux)  \n",
        "  \n",
        "  for i in range(len(lags_eto)):\n",
        "    lista_aux2=df[Eto].iloc[:,0].tolist()\n",
        "    for displacement in range((lags_eto[i])):\n",
        "      if max_lag<(lags_eto[i]):\n",
        "        max_lag=(lags_eto[i])\n",
        "      del lista_aux2[len(lista_aux2)-1]\n",
        "      lista_aux2.insert(0,nan)\n",
        "    eta_nois[((df[Eto].iloc[:,0]).name)+(\"_t-\")+str(lags_eto[i])]=lista_aux2        \n",
        "  return eta_nois,max_lag,lista,lags,Eto,lags_eto;"
      ],
      "execution_count": 23,
      "outputs": []
    },
    {
      "cell_type": "code",
      "metadata": {
        "id": "aNMrPVD-GHOq"
      },
      "source": [
        "def get_x30(df,lista, Eto):\n",
        "  ix = []\n",
        "  idx =  [i for i in np.arange(1, 31)]\n",
        "  for i in range(len(lista)):\n",
        "    ix.append(idx)\n",
        "\n",
        "  resultado = get_x2(df, lista, ix, Eto, idx)\n",
        "  return resultado"
      ],
      "execution_count": 24,
      "outputs": []
    },
    {
      "cell_type": "code",
      "metadata": {
        "id": "w3HkdxhWCU5H"
      },
      "source": [
        "def column_Filter(df,dias):\n",
        "  list_column = []\n",
        "  # pegando colunas do data frame\n",
        "  for column in (df.columns):\n",
        "    if column != 'Data':\n",
        "      list_column.append(column)\n",
        "  # prosseguindo com a filtração\n",
        "  b=[]\n",
        "  lags=[]\n",
        "  aux3=[]\n",
        "  lista=[]\n",
        "  Eto=[]\n",
        "  lags_eto=[]\n",
        " \n",
        "  # filtra e  remove colunas \n",
        "  for i in range(len(list_column)):\n",
        "    j=list_column[i].split(\"_t-\")\n",
        "    if (int(j[1])>=dias):\n",
        "      b.append(j)\n",
        "  # print(\"Lista_Filtrada\",b)\n",
        "\n",
        "  #localiza as colunas  e faz uma lista se a coluna for Eto cria uma lista só pra ela\n",
        "  for k in range(len(b)):\n",
        "    if b[k][0] not in lista and b[k][0]!=\"Eto\":\n",
        "        lista.append(b[k][0])\n",
        "    elif b[k][0] not in Eto and b[k][0]==\"Eto\":\n",
        "        Eto.append(b[k][0])\n",
        "\n",
        " \n",
        "  # localiza as colunas e cria uma lista de lags para cada\n",
        "  for i in range(len(lista)):\n",
        "    aux=[]\n",
        "    for k in range(len(b)):\n",
        "      if (lista[i]==b[k][0])  :\n",
        "          aux.append(int(b[k][1]))\n",
        "    lags.append(aux)\n",
        "    del(aux)\n",
        "  \n",
        "  \n",
        "  if Eto!=[]:\n",
        "    for k in range(len(b)):\n",
        "      if b[k][0]==Eto[0]:\n",
        "        lags_eto.append(int(b[k][1]))\n",
        " \n",
        "  aux3.append(lista)\n",
        "  aux3.append(lags)\n",
        "  aux3.append(Eto)\n",
        "  aux3.append(lags_eto)\n",
        " \n",
        "\n",
        "  return aux3\n",
        "\n",
        "\n",
        "\n",
        "\n",
        "\n",
        "\n",
        "\n"
      ],
      "execution_count": 25,
      "outputs": []
    },
    {
      "cell_type": "code",
      "metadata": {
        "id": "TjXOWhtbCQwR"
      },
      "source": [
        "def resource_ranking(df,lista_filtrada3,variavel_alvo) :\n",
        "  \n",
        "  # resource_ranking(df_la,lista_filtrada2,\"temp_min\")  \n",
        "  #Monta a tabela com os dados filtrados \n",
        "  \n",
        "  tab=get_x2(df,lista_filtrada3[0],lista_filtrada3[1],lista_filtrada3[2],lista_filtrada3[3])\n",
        " \n",
        "  # dff=tab[0].drop(\"Data\",axis=1)\n",
        "  \n",
        "  # train_size = int(((len(tab[0]))-tab[1]) )\n",
        "  # dff=dff.iloc[tab[1]:train_size,:]\n",
        "\n",
        "  # array1 = dff.values\n",
        "\n",
        "  # df= df.drop(\"Data\",axis=1)\n",
        "  # df=df.iloc[tab[1]:train_size,:]\n",
        "  # array2 = df[variavel_alvo]\n",
        "  selecao_treino = (tab[0]['Data'] >= '2014') & (tab[0]['Data'] <= '2018-12-31')\n",
        "  \n",
        "  dff=tab[0][selecao_treino].drop(\"Data\",axis=1)\n",
        "\n",
        "  train_size = int(((len(tab[0][selecao_treino]))-tab[1]) )\n",
        "  dff=dff.iloc[tab[1]:train_size,:]\n",
        "  array1 = dff.values\n",
        "\n",
        "  df= df[selecao_treino].drop(\"Data\",axis=1)\n",
        "  df=df.iloc[tab[1]:train_size,:]\n",
        "  array2 = df[variavel_alvo]\n",
        "\n",
        " \n",
        "\n",
        "  X =array1[:,0:len(tab[0].columns)]\n",
        "  Y = array2\n",
        "  # feature extraction\n",
        "  test = SelectKBest(score_func=f_regression, k=4)\n",
        "  fit = test.fit(X, Y)\n",
        "  # summarize scores\n",
        "  set_printoptions(precision=3)\n",
        " \n",
        "\n",
        "    \n",
        "  # print(\"Selecao_univariada\",fit.scores_)\n",
        "  f=fit.scores_\n",
        "  f_ord = sorted(f,reverse=True)\n",
        "  # print(\"Selecao_univariada_ordenada\",f_ord)\n",
        "\n",
        "  ll=[]\n",
        "  for y in range(len(f_ord)):\n",
        "    for i in range(len(f)):\n",
        "      if (f_ord[y]==f[i]):\n",
        "        ll.append(i)\n",
        "        # print(\"f[i]\",f[i])\n",
        "        # print(\"f_ord[y]\",f_ord[y])\n",
        "  leg_seq=[]\n",
        "  for i in range(len(ll)):\n",
        "    leg_seq.append(dff.columns[ll[i]])    \n",
        "\n",
        "  # print(\"Colunas_selecionadas [0]- Selecao_univariada\",leg_seq)\n",
        " \n",
        "  model = ExtraTreesRegressor(n_estimators=10,random_state=42)\n",
        "  model.fit(X,Y)\n",
        "  g=model.feature_importances_\n",
        "  g_ord=sorted(model.feature_importances_,reverse=True)\n",
        "  # print(\"Importancia\",g)\n",
        "  # print(\"Importancia_ordenada\",g_ord)\n",
        "  jj=[]\n",
        "  for y in range(len(g_ord)):\n",
        "    for i in range(len(g)):\n",
        "      if (g_ord[y]==g[i]):\n",
        "        jj.append(i)\n",
        "  leg_seq2=[]\n",
        "  for i in range(len(ll)):\n",
        "    leg_seq2.append(dff.columns[jj[i]])    \n",
        "  # print(\"Colunas_selecionadas [1]- Importância do recurso\",leg_seq2)\n",
        "  return leg_seq,leg_seq2"
      ],
      "execution_count": 26,
      "outputs": []
    },
    {
      "cell_type": "code",
      "metadata": {
        "id": "8JVCQk5uCPU9"
      },
      "source": [
        "\n",
        "\n",
        "def list_Format(melhores_recursos,q,dias):\n",
        "  b=[]\n",
        "  lags=[]\n",
        "  aux3=[]\n",
        "  lista=[]\n",
        "  Eto=[]\n",
        "  lags_eto=[]\n",
        "  q = len(melhores_recursos) if q==0 else q\n",
        "  # filtra e  remove colunas \n",
        "  for i in range(q):\n",
        "    j=melhores_recursos[i].split(\"_t-\")\n",
        "    if (int(j[1])>=dias):\n",
        "      b.append(j)\n",
        "  print(\"lista_selecionada\",b)\n",
        "\n",
        "  #localiza as colunas  e faz uma lista se a coluna for Eto cria uma lista só pra ela\n",
        "  for k in range(len(b)):\n",
        "    if b[k][0] not in lista and b[k][0]!=\"Eto\":\n",
        "        lista.append(b[k][0])\n",
        "    elif b[k][0] not in Eto and b[k][0]==\"Eto\":\n",
        "        Eto.append(b[k][0])\n",
        "\n",
        "  print(\"lista\",lista)\n",
        "  print(\"Eto\",Eto)\n",
        " \n",
        "  # localiza as colunas e cria uma lista de lags para cada\n",
        "  for i in range(len(lista)):\n",
        "    aux=[]\n",
        "    for k in range(len(b)):\n",
        "      if (lista[i]==b[k][0])  :\n",
        "          aux.append(int(b[k][1]))\n",
        "    lags.append(aux)\n",
        "    del(aux)\n",
        "\n",
        "  print(\"lags\",lags)\n",
        "           \n",
        "  # print(\"Eto\",Eto)\n",
        "  \n",
        "  \n",
        "  if Eto!=[]:\n",
        "    for k in range(len(b)):\n",
        "      if b[k][0]==Eto[0]:\n",
        "        lags_eto.append(int(b[k][1]))\n",
        "  print(\"lags_eto\",lags_eto)\n",
        " \n",
        "  aux3.append(lista)\n",
        "  aux3.append(lags)\n",
        "  aux3.append(Eto)\n",
        "  aux3.append(lags_eto)\n",
        " \n",
        "\n",
        "  return aux3"
      ],
      "execution_count": 27,
      "outputs": []
    },
    {
      "cell_type": "code",
      "metadata": {
        "id": "H76rZiKFRrzz"
      },
      "source": [
        "def train_test(df, lista,lags,Eto,lags_eto,variavel_Alvo,data_Itest= '2019-01-01',data_Ftest= '2020-12-31',data_Itreino='2014-01-01',data_Ftreino='2018-12-31'):\n",
        "  tabela = get_x2(df, lista,lags,Eto,lags_eto)\n",
        "  selecao_treino = (tabela[0]['Data'] >= data_Itreino) & (tabela[0]['Data'] <= data_Ftreino)\n",
        "  selecao_teste = (tabela[0]['Data'] >= data_Itest) & (tabela[0]['Data'] <= data_Ftest)\n",
        "\n",
        "  x1_train = tabela[0][selecao_treino].drop(\"Data\", axis=1)\n",
        "  x1_test = tabela[0][selecao_teste].drop(\"Data\", axis=1)\n",
        "  \n",
        "  y1_train = df[variavel_Alvo][selecao_treino]\n",
        "  y1_test = df[variavel_Alvo][selecao_teste]\n",
        "\n",
        "  x1_train = x1_train[tabela[1]:]\n",
        "  y1_train = y1_train[tabela[1]:]\n",
        "\n",
        "  \n",
        "  print(\"***************************************\")\n",
        "  print(x1_train.shape,\"x1_train\")\n",
        "  #[6569 rows x 10 columns] x1_train\n",
        "  print(\"*****************++*********************\")\n",
        "  print(x1_test.shape,\"x1_test\")\n",
        "  print(\"******************---********************\")\n",
        "  print(y1_train.shape,\"y1_train\")\n",
        "  print(\"****************1234*********************\")\n",
        "  print(y1_test.shape,\"y1_test\")\n",
        "  print(\"*****************asddfg******************\")\n",
        " \n",
        "  \n",
        "  return x1_train, x1_test,y1_train, y1_test"
      ],
      "execution_count": 28,
      "outputs": []
    },
    {
      "cell_type": "code",
      "metadata": {
        "id": "XzJAD6VzzbK2"
      },
      "source": [
        "def arvore(df,lista, lags, Eto, lags_eto,variavel_Alvo):\n",
        "  \n",
        "  x1_train, x1_test,y1_train, y1_test = train_test(df, lista,lags,Eto,lags_eto,variavel_Alvo)\n",
        "  # print(\"***************************************\")\n",
        "  # print(x1_train,\"x1_train\")\n",
        "  # #[6569 rows x 10 columns] x1_train\n",
        "  # print(\"*****************++*********************\")\n",
        "  # print(x1_test,\"x1_test\")\n",
        "  # print(\"******************---********************\")\n",
        "  # print(y1_train,\"y1_train\")\n",
        "  # print(\"****************1234*********************\")\n",
        "  # print(y1_test,\"y1_test\")\n",
        "  # print(\"*****************asddfg******************\")\n",
        "\n",
        "  model = DecisionTreeRegressor(random_state=42)\n",
        "  model.fit(x1_train, y1_train)\n",
        "  print(\"------------------\")\n",
        "  print(\"Arvore\")\n",
        "  y1_pred = model.predict(x1_test)\n",
        "  mse = mean_squared_error(y1_test, y1_pred)\n",
        "  std_mse=np.std(np.sqrt((y1_pred - y1_test)**2))\n",
        "  \n",
        "  print(\"std_mse\",round(std_mse,4))\n",
        "  rmse = math.sqrt(mse)\n",
        "  print(\"Erro medio absoluto----\",round(mean_absolute_error(y1_test, y1_pred),4))\n",
        "  # pyplot.plot(y1_test, label='Expected tree ')\n",
        "  pyplot.plot(np.arange(y1_test.shape[0]),y1_test, label='Expected tree ')\n",
        "  # pyplot.plot(df[\"Eto\"], label='variavel_Alvo ')\n",
        "  pyplot.plot(y1_pred, label='Predicted tree')\n",
        "  pyplot.legend(bbox_to_anchor=(0,1.02,1,0.2), loc=\"lower left\",\n",
        "                mode=\"expand\", borderaxespad=0, ncol=3)\n",
        "  pyplot.show()\n",
        "  return lista,lags,Eto,lags_eto,round(rmse,4)\n",
        "\n",
        "def arvores(df,arvore_parametros,variavel_Alvo):\n",
        "  lista_colunas=[\"lista\",\"lista_lags\",\"Eto\",\"lags_eto\",\"rmse\"]\n",
        "  tb = pd.DataFrame(columns=lista_colunas)\n",
        "  print(\"Arvores\")\n",
        "  for x in range(len(arvore_parametros)):\n",
        "    a=arvore(df,arvore_parametros[x][0],arvore_parametros[x][1],arvore_parametros[x][2],arvore_parametros[x][3],variavel_Alvo)\n",
        " \n",
        "    tb.loc[x,'lista']=a[0]\n",
        "    tb.loc[x,'lista_lags']=a[1]\n",
        "    tb.loc[x,'Eto']=a[2]\n",
        "    tb.loc[x,'lags_eto']=a[3]\n",
        "    tb.loc[x,\"rmse\"]=a[4]\n",
        "\n",
        "  print(tb)\n",
        "\n",
        "  return tb"
      ],
      "execution_count": 29,
      "outputs": []
    },
    {
      "cell_type": "code",
      "metadata": {
        "id": "gHwvw3ghzjEP"
      },
      "source": [
        "def gridSearchF(df, lista,lags,Eto,lags_eto,variavel_Alvo):\n",
        "  x1_train, x1_test,y1_train, y1_test = train_test(df, lista,lags,Eto,lags_eto,variavel_Alvo)\n",
        "   # Create the parameter grid based on the results of random search \n",
        "  param_grid = {\n",
        "      'bootstrap': [True],\n",
        "      'max_depth': [10,80, 90, 100, 110],\n",
        "      'max_features': [2, 3],\n",
        "      'min_samples_leaf': [3, 4, 5],\n",
        "      'min_samples_split': [8, 10, 12],\n",
        "      'n_estimators': [100, 200, 300, 1000]\n",
        "  }\n",
        "\n",
        "  # Create a base model\n",
        "  rf = RandomForestRegressor(random_state = 42)\n",
        "\n",
        "  # Instantiate the grid search model\n",
        "  grid_search = GridSearchCV(estimator = rf, param_grid = param_grid, \n",
        "                            cv = 3, n_jobs = -1, verbose = 2, return_train_score=True)\n",
        "\n",
        "  print(\" -----------------grid_search.fit--------------\")\n",
        " \n",
        "  start_time=timer(None)\n",
        "\n",
        "  grid_search.fit(x1_train, y1_train);\n",
        "\n",
        "  timer(start_time)  \n",
        "  \n",
        "    \n",
        "  return rf_random.best_params_\n",
        "\n",
        "def gridSearchFs(df,parametros,variavel_Alvo):\n",
        "\n",
        "  lista_colunas=[\"gridSearch\"]\n",
        "  tb = pd.DataFrame(columns=lista_colunas)\n",
        "  \n",
        "  print(\"gridSearchFs\")\n",
        "  for x in range(len(parametros)):\n",
        "    a=RandomizedSearchF(df,parametros[x][0],parametros[x][1],parametros[x][2],parametros[x][3],variavel_Alvo)\n",
        " \n",
        "    tb.loc[x,'Best_ramdon_hyperparameter']=[a]\n",
        "  print('---------------------------------------------------------------------------------')\n",
        "  \n",
        "\n",
        "  return tb\n",
        "\n",
        "# gridSearch Arvore\n",
        "\n",
        "def gridSearchA(df, lista,lags,Eto,lags_eto,variavel_Alvo):\n",
        "  tb = pd.DataFrame()\n",
        "  x1_train, x1_test,y1_train, y1_test = train_test(df, lista,lags,Eto,lags_eto,variavel_Alvo)\n",
        "   # Create the parameter grid based on the results of random search \n",
        "  \n",
        "  param_grid={\"splitter\":[\"best\",\"random\"],\n",
        "            \"max_depth\" : [1,3,5,7,9,11,12],\n",
        "            \"min_samples_leaf\":[1,2,3,4,5,6,7,8,9,10],\n",
        "            \"min_weight_fraction_leaf\":[0.1,0.2,0.3,0.4,0.5,0.6,0.7,0.8,0.9],\n",
        "            \"max_features\":[\"auto\",\"log2\",\"sqrt\",None],\n",
        "            \"max_leaf_nodes\":[None,10,20,30,40,50,60,70,80,90] \n",
        "            }\n",
        " \n",
        "  # Create a base model\n",
        "  rf = DecisionTreeRegressor(random_state = 42)\n",
        "\n",
        "  # Instantiate the grid search model\n",
        "  grid_search=GridSearchCV(rf,param_grid=param_grid,scoring='neg_mean_squared_error',cv=3,verbose=3,n_jobs = -1,return_train_score=True)\n",
        "  \n",
        "\n",
        "  print(\" -----------------grid_search.fit--------------\")\n",
        "  start_time=timer(None)\n",
        "\n",
        "  grid_search.fit(x1_train, y1_train);\n",
        "\n",
        "  timer(start_time)  \n",
        "\n",
        "  return grid_search.best_params_\n",
        "\n",
        "def gridSearchAs(df,parametros,variavel_Alvo):\n",
        "  print('---------------------------------------------------------------------------------')\n",
        "  \n",
        "  for x in range(len(parametros)):\n",
        "    a=gridSearchA(df,parametros[x][0],parametros[x][1],parametros[x][2],parametros[x][3],variavel_Alvo)\n",
        "    \n",
        "    print(x,\"Best_hyperparameter_Arvore\", a)\n",
        "   \n",
        "  print('---------------------------------------------------------------------------------')\n",
        "  \n",
        "\n",
        "  return a\n"
      ],
      "execution_count": 31,
      "outputs": []
    },
    {
      "cell_type": "code",
      "metadata": {
        "id": "rPR_Z1XN7GCY"
      },
      "source": [
        "def timer(start_time=None):\n",
        "    if not start_time:\n",
        "        start_time=datetime.now()\n",
        "        return start_time\n",
        "    elif start_time:\n",
        "        thour,temp_sec=divmod((datetime.now()-start_time).total_seconds(),3600)\n",
        "        tmin,tsec=divmod(temp_sec,60)"
      ],
      "execution_count": 32,
      "outputs": []
    },
    {
      "cell_type": "code",
      "metadata": {
        "id": "aqzZfUSFI33R"
      },
      "source": [
        "url=('https://raw.githubusercontent.com/RayBasilio123/database/main/INMET/CSV/J_Database/MANAUS_J_2014_2020.csv')\n",
        "df = pd.read_csv(url, sep=\",\", encoding = \"ISO-8859-1\")\n",
        "df=df.drop(columns=['Unnamed: 0'])"
      ],
      "execution_count": 33,
      "outputs": []
    },
    {
      "cell_type": "code",
      "source": [
        "df"
      ],
      "metadata": {
        "colab": {
          "base_uri": "https://localhost:8080/",
          "height": 424
        },
        "id": "bkWLQYKuXbsA",
        "outputId": "027f678d-c285-43f0-e09b-94b637dc3b3b"
      },
      "execution_count": 34,
      "outputs": [
        {
          "output_type": "execute_result",
          "data": {
            "text/html": [
              "\n",
              "  <div id=\"df-2c70bbbf-024b-4b3d-8c67-7fac8d7e29c6\">\n",
              "    <div class=\"colab-df-container\">\n",
              "      <div>\n",
              "<style scoped>\n",
              "    .dataframe tbody tr th:only-of-type {\n",
              "        vertical-align: middle;\n",
              "    }\n",
              "\n",
              "    .dataframe tbody tr th {\n",
              "        vertical-align: top;\n",
              "    }\n",
              "\n",
              "    .dataframe thead th {\n",
              "        text-align: right;\n",
              "    }\n",
              "</style>\n",
              "<table border=\"1\" class=\"dataframe\">\n",
              "  <thead>\n",
              "    <tr style=\"text-align: right;\">\n",
              "      <th></th>\n",
              "      <th>Data</th>\n",
              "      <th>vento</th>\n",
              "      <th>radiacao</th>\n",
              "      <th>temp_max</th>\n",
              "      <th>temp_min</th>\n",
              "      <th>umi_max</th>\n",
              "      <th>umi_min</th>\n",
              "      <th>umi_rel</th>\n",
              "      <th>press_atm</th>\n",
              "      <th>temp_media</th>\n",
              "      <th>Eto</th>\n",
              "      <th>J</th>\n",
              "    </tr>\n",
              "  </thead>\n",
              "  <tbody>\n",
              "    <tr>\n",
              "      <th>0</th>\n",
              "      <td>2014-01-01</td>\n",
              "      <td>1.343195</td>\n",
              "      <td>1.599215</td>\n",
              "      <td>33.9</td>\n",
              "      <td>26.0</td>\n",
              "      <td>77.0</td>\n",
              "      <td>38</td>\n",
              "      <td>58.541667</td>\n",
              "      <td>1002.579167</td>\n",
              "      <td>29.504167</td>\n",
              "      <td>4.997605</td>\n",
              "      <td>1</td>\n",
              "    </tr>\n",
              "    <tr>\n",
              "      <th>1</th>\n",
              "      <td>2014-01-02</td>\n",
              "      <td>1.408641</td>\n",
              "      <td>0.920206</td>\n",
              "      <td>34.5</td>\n",
              "      <td>25.3</td>\n",
              "      <td>75.0</td>\n",
              "      <td>38</td>\n",
              "      <td>56.708333</td>\n",
              "      <td>1001.154167</td>\n",
              "      <td>29.700000</td>\n",
              "      <td>5.359660</td>\n",
              "      <td>2</td>\n",
              "    </tr>\n",
              "    <tr>\n",
              "      <th>2</th>\n",
              "      <td>2014-01-03</td>\n",
              "      <td>1.149975</td>\n",
              "      <td>0.872915</td>\n",
              "      <td>33.5</td>\n",
              "      <td>25.5</td>\n",
              "      <td>80.0</td>\n",
              "      <td>43</td>\n",
              "      <td>60.916667</td>\n",
              "      <td>1001.616667</td>\n",
              "      <td>29.462500</td>\n",
              "      <td>4.187175</td>\n",
              "      <td>3</td>\n",
              "    </tr>\n",
              "    <tr>\n",
              "      <th>3</th>\n",
              "      <td>2014-01-04</td>\n",
              "      <td>1.368127</td>\n",
              "      <td>0.855046</td>\n",
              "      <td>33.6</td>\n",
              "      <td>26.5</td>\n",
              "      <td>79.0</td>\n",
              "      <td>43</td>\n",
              "      <td>63.416667</td>\n",
              "      <td>1002.937500</td>\n",
              "      <td>29.177083</td>\n",
              "      <td>4.487894</td>\n",
              "      <td>4</td>\n",
              "    </tr>\n",
              "    <tr>\n",
              "      <th>4</th>\n",
              "      <td>2014-01-05</td>\n",
              "      <td>1.159324</td>\n",
              "      <td>0.655731</td>\n",
              "      <td>31.4</td>\n",
              "      <td>23.5</td>\n",
              "      <td>97.0</td>\n",
              "      <td>54</td>\n",
              "      <td>71.250000</td>\n",
              "      <td>1003.525000</td>\n",
              "      <td>27.766667</td>\n",
              "      <td>3.100133</td>\n",
              "      <td>5</td>\n",
              "    </tr>\n",
              "    <tr>\n",
              "      <th>...</th>\n",
              "      <td>...</td>\n",
              "      <td>...</td>\n",
              "      <td>...</td>\n",
              "      <td>...</td>\n",
              "      <td>...</td>\n",
              "      <td>...</td>\n",
              "      <td>...</td>\n",
              "      <td>...</td>\n",
              "      <td>...</td>\n",
              "      <td>...</td>\n",
              "      <td>...</td>\n",
              "      <td>...</td>\n",
              "    </tr>\n",
              "    <tr>\n",
              "      <th>2552</th>\n",
              "      <td>2020-12-27</td>\n",
              "      <td>1.564464</td>\n",
              "      <td>0.759292</td>\n",
              "      <td>31.6</td>\n",
              "      <td>24.1</td>\n",
              "      <td>91.0</td>\n",
              "      <td>56</td>\n",
              "      <td>76.479167</td>\n",
              "      <td>1001.247917</td>\n",
              "      <td>27.081250</td>\n",
              "      <td>2.990388</td>\n",
              "      <td>362</td>\n",
              "    </tr>\n",
              "    <tr>\n",
              "      <th>2553</th>\n",
              "      <td>2020-12-28</td>\n",
              "      <td>1.405525</td>\n",
              "      <td>0.650427</td>\n",
              "      <td>32.1</td>\n",
              "      <td>25.5</td>\n",
              "      <td>89.0</td>\n",
              "      <td>55</td>\n",
              "      <td>76.812500</td>\n",
              "      <td>1002.956250</td>\n",
              "      <td>27.636458</td>\n",
              "      <td>2.835460</td>\n",
              "      <td>363</td>\n",
              "    </tr>\n",
              "    <tr>\n",
              "      <th>2554</th>\n",
              "      <td>2020-12-29</td>\n",
              "      <td>1.215420</td>\n",
              "      <td>0.473719</td>\n",
              "      <td>31.5</td>\n",
              "      <td>24.9</td>\n",
              "      <td>93.0</td>\n",
              "      <td>56</td>\n",
              "      <td>81.229167</td>\n",
              "      <td>1003.039583</td>\n",
              "      <td>26.645833</td>\n",
              "      <td>2.011841</td>\n",
              "      <td>364</td>\n",
              "    </tr>\n",
              "    <tr>\n",
              "      <th>2555</th>\n",
              "      <td>2020-12-30</td>\n",
              "      <td>1.131276</td>\n",
              "      <td>0.735296</td>\n",
              "      <td>31.4</td>\n",
              "      <td>22.3</td>\n",
              "      <td>96.0</td>\n",
              "      <td>52</td>\n",
              "      <td>79.541667</td>\n",
              "      <td>1004.547917</td>\n",
              "      <td>25.605208</td>\n",
              "      <td>2.204808</td>\n",
              "      <td>365</td>\n",
              "    </tr>\n",
              "    <tr>\n",
              "      <th>2556</th>\n",
              "      <td>2020-12-31</td>\n",
              "      <td>1.034666</td>\n",
              "      <td>0.675671</td>\n",
              "      <td>32.4</td>\n",
              "      <td>23.3</td>\n",
              "      <td>89.0</td>\n",
              "      <td>49</td>\n",
              "      <td>71.333333</td>\n",
              "      <td>1004.422917</td>\n",
              "      <td>27.007292</td>\n",
              "      <td>2.672711</td>\n",
              "      <td>366</td>\n",
              "    </tr>\n",
              "  </tbody>\n",
              "</table>\n",
              "<p>2557 rows × 12 columns</p>\n",
              "</div>\n",
              "      <button class=\"colab-df-convert\" onclick=\"convertToInteractive('df-2c70bbbf-024b-4b3d-8c67-7fac8d7e29c6')\"\n",
              "              title=\"Convert this dataframe to an interactive table.\"\n",
              "              style=\"display:none;\">\n",
              "        \n",
              "  <svg xmlns=\"http://www.w3.org/2000/svg\" height=\"24px\"viewBox=\"0 0 24 24\"\n",
              "       width=\"24px\">\n",
              "    <path d=\"M0 0h24v24H0V0z\" fill=\"none\"/>\n",
              "    <path d=\"M18.56 5.44l.94 2.06.94-2.06 2.06-.94-2.06-.94-.94-2.06-.94 2.06-2.06.94zm-11 1L8.5 8.5l.94-2.06 2.06-.94-2.06-.94L8.5 2.5l-.94 2.06-2.06.94zm10 10l.94 2.06.94-2.06 2.06-.94-2.06-.94-.94-2.06-.94 2.06-2.06.94z\"/><path d=\"M17.41 7.96l-1.37-1.37c-.4-.4-.92-.59-1.43-.59-.52 0-1.04.2-1.43.59L10.3 9.45l-7.72 7.72c-.78.78-.78 2.05 0 2.83L4 21.41c.39.39.9.59 1.41.59.51 0 1.02-.2 1.41-.59l7.78-7.78 2.81-2.81c.8-.78.8-2.07 0-2.86zM5.41 20L4 18.59l7.72-7.72 1.47 1.35L5.41 20z\"/>\n",
              "  </svg>\n",
              "      </button>\n",
              "      \n",
              "  <style>\n",
              "    .colab-df-container {\n",
              "      display:flex;\n",
              "      flex-wrap:wrap;\n",
              "      gap: 12px;\n",
              "    }\n",
              "\n",
              "    .colab-df-convert {\n",
              "      background-color: #E8F0FE;\n",
              "      border: none;\n",
              "      border-radius: 50%;\n",
              "      cursor: pointer;\n",
              "      display: none;\n",
              "      fill: #1967D2;\n",
              "      height: 32px;\n",
              "      padding: 0 0 0 0;\n",
              "      width: 32px;\n",
              "    }\n",
              "\n",
              "    .colab-df-convert:hover {\n",
              "      background-color: #E2EBFA;\n",
              "      box-shadow: 0px 1px 2px rgba(60, 64, 67, 0.3), 0px 1px 3px 1px rgba(60, 64, 67, 0.15);\n",
              "      fill: #174EA6;\n",
              "    }\n",
              "\n",
              "    [theme=dark] .colab-df-convert {\n",
              "      background-color: #3B4455;\n",
              "      fill: #D2E3FC;\n",
              "    }\n",
              "\n",
              "    [theme=dark] .colab-df-convert:hover {\n",
              "      background-color: #434B5C;\n",
              "      box-shadow: 0px 1px 3px 1px rgba(0, 0, 0, 0.15);\n",
              "      filter: drop-shadow(0px 1px 2px rgba(0, 0, 0, 0.3));\n",
              "      fill: #FFFFFF;\n",
              "    }\n",
              "  </style>\n",
              "\n",
              "      <script>\n",
              "        const buttonEl =\n",
              "          document.querySelector('#df-2c70bbbf-024b-4b3d-8c67-7fac8d7e29c6 button.colab-df-convert');\n",
              "        buttonEl.style.display =\n",
              "          google.colab.kernel.accessAllowed ? 'block' : 'none';\n",
              "\n",
              "        async function convertToInteractive(key) {\n",
              "          const element = document.querySelector('#df-2c70bbbf-024b-4b3d-8c67-7fac8d7e29c6');\n",
              "          const dataTable =\n",
              "            await google.colab.kernel.invokeFunction('convertToInteractive',\n",
              "                                                     [key], {});\n",
              "          if (!dataTable) return;\n",
              "\n",
              "          const docLinkHtml = 'Like what you see? Visit the ' +\n",
              "            '<a target=\"_blank\" href=https://colab.research.google.com/notebooks/data_table.ipynb>data table notebook</a>'\n",
              "            + ' to learn more about interactive tables.';\n",
              "          element.innerHTML = '';\n",
              "          dataTable['output_type'] = 'display_data';\n",
              "          await google.colab.output.renderOutput(dataTable, element);\n",
              "          const docLink = document.createElement('div');\n",
              "          docLink.innerHTML = docLinkHtml;\n",
              "          element.appendChild(docLink);\n",
              "        }\n",
              "      </script>\n",
              "    </div>\n",
              "  </div>\n",
              "  "
            ],
            "text/plain": [
              "            Data     vento  radiacao  ...  temp_media       Eto    J\n",
              "0     2014-01-01  1.343195  1.599215  ...   29.504167  4.997605    1\n",
              "1     2014-01-02  1.408641  0.920206  ...   29.700000  5.359660    2\n",
              "2     2014-01-03  1.149975  0.872915  ...   29.462500  4.187175    3\n",
              "3     2014-01-04  1.368127  0.855046  ...   29.177083  4.487894    4\n",
              "4     2014-01-05  1.159324  0.655731  ...   27.766667  3.100133    5\n",
              "...          ...       ...       ...  ...         ...       ...  ...\n",
              "2552  2020-12-27  1.564464  0.759292  ...   27.081250  2.990388  362\n",
              "2553  2020-12-28  1.405525  0.650427  ...   27.636458  2.835460  363\n",
              "2554  2020-12-29  1.215420  0.473719  ...   26.645833  2.011841  364\n",
              "2555  2020-12-30  1.131276  0.735296  ...   25.605208  2.204808  365\n",
              "2556  2020-12-31  1.034666  0.675671  ...   27.007292  2.672711  366\n",
              "\n",
              "[2557 rows x 12 columns]"
            ]
          },
          "metadata": {},
          "execution_count": 34
        }
      ]
    },
    {
      "cell_type": "code",
      "metadata": {
        "id": "SbEuhJBPDR2E",
        "colab": {
          "base_uri": "https://localhost:8080/"
        },
        "outputId": "d14b3b24-9317-408a-db8d-f009a4319dd5"
      },
      "source": [
        "atributeP= [ 'vento'\t,'radiacao',\t'temp_max',\t'temp_min',\t'umi_max',\t'umi_min',\t'umi_rel',\t'press_atm',\t'temp_media','J']\n",
        "resultadoP=get_x30(df,atributeP,[\"Eto\"])"
      ],
      "execution_count": 35,
      "outputs": [
        {
          "output_type": "stream",
          "name": "stderr",
          "text": [
            "/usr/local/lib/python3.7/dist-packages/ipykernel_launcher.py:20: PerformanceWarning: DataFrame is highly fragmented.  This is usually the result of calling `frame.insert` many times, which has poor performance.  Consider joining all columns at once using pd.concat(axis=1) instead.  To get a de-fragmented frame, use `newframe = frame.copy()`\n",
            "/usr/local/lib/python3.7/dist-packages/ipykernel_launcher.py:29: PerformanceWarning: DataFrame is highly fragmented.  This is usually the result of calling `frame.insert` many times, which has poor performance.  Consider joining all columns at once using pd.concat(axis=1) instead.  To get a de-fragmented frame, use `newframe = frame.copy()`\n"
          ]
        }
      ]
    },
    {
      "cell_type": "code",
      "metadata": {
        "colab": {
          "base_uri": "https://localhost:8080/"
        },
        "id": "6gVC3D2w8Eoy",
        "outputId": "0967927e-5b98-47db-db22-5cbcc1a042fa"
      },
      "source": [
        "for x in [1,3,7,10]:\n",
        " lista_Filtrada=column_Filter(resultadoP[0],x)\n",
        " ranking_data = resource_ranking(df,lista_Filtrada,'Eto')\n",
        " print(ranking_data)\n",
        " lista_Formatada1=list_Format(ranking_data[0],10,0)\n",
        " lista_Formatada2=list_Format(ranking_data[1],10,0)\n",
        " print('\\n -----------Para----' + str(x) + '----dias --------\\n')\n",
        " print(\"lista_Formatada_1 -------> \",lista_Formatada1)\n",
        " print(\"lista_Formatada_2 -------> \",lista_Formatada2)\n",
        " print(\"lista_Formatada_3 -------> \",lista_Filtrada)\n",
        " print('\\n ---------------------------------------------\\n')"
      ],
      "execution_count": 36,
      "outputs": [
        {
          "output_type": "stream",
          "name": "stderr",
          "text": [
            "/usr/local/lib/python3.7/dist-packages/ipykernel_launcher.py:20: PerformanceWarning: DataFrame is highly fragmented.  This is usually the result of calling `frame.insert` many times, which has poor performance.  Consider joining all columns at once using pd.concat(axis=1) instead.  To get a de-fragmented frame, use `newframe = frame.copy()`\n",
            "/usr/local/lib/python3.7/dist-packages/ipykernel_launcher.py:29: PerformanceWarning: DataFrame is highly fragmented.  This is usually the result of calling `frame.insert` many times, which has poor performance.  Consider joining all columns at once using pd.concat(axis=1) instead.  To get a de-fragmented frame, use `newframe = frame.copy()`\n"
          ]
        },
        {
          "output_type": "stream",
          "name": "stdout",
          "text": [
            "(['Eto_t-1', 'umi_rel_t-1', 'umi_min_t-1', 'temp_media_t-1', 'temp_max_t-1', 'Eto_t-2', 'radiacao_t-1', 'umi_max_t-1', 'temp_min_t-1', 'umi_rel_t-2', 'temp_media_t-2', 'umi_min_t-2', 'umi_rel_t-3', 'umi_rel_t-13', 'Eto_t-3', 'umi_rel_t-9', 'umi_rel_t-8', 'umi_rel_t-4', 'umi_rel_t-12', 'umi_rel_t-14', 'umi_rel_t-7', 'umi_rel_t-10', 'Eto_t-13', 'Eto_t-8', 'Eto_t-4', 'umi_rel_t-5', 'umi_rel_t-11', 'umi_rel_t-15', 'Eto_t-9', 'umi_rel_t-16', 'temp_media_t-3', 'umi_rel_t-6', 'Eto_t-14', 'umi_rel_t-17', 'umi_max_t-2', 'Eto_t-7', 'Eto_t-12', 'umi_min_t-3', 'temp_max_t-2', 'temp_min_t-2', 'umi_min_t-13', 'Eto_t-5', 'Eto_t-10', 'Eto_t-6', 'temp_media_t-4', 'umi_min_t-9', 'Eto_t-11', 'umi_min_t-4', 'umi_min_t-14', 'umi_rel_t-18', 'Eto_t-15', 'umi_min_t-10', 'umi_min_t-12', 'temp_media_t-8', 'umi_min_t-8', 'umi_rel_t-19', 'umi_max_t-3', 'umi_rel_t-22', 'Eto_t-16', 'umi_rel_t-30', 'umi_rel_t-21', 'temp_media_t-9', 'temp_media_t-13', 'Eto_t-17', 'umi_rel_t-20', 'umi_min_t-11', 'umi_rel_t-23', 'umi_min_t-7', 'vento_t-1', 'temp_media_t-5', 'umi_max_t-9', 'umi_min_t-5', 'umi_min_t-16', 'temp_media_t-7', 'umi_max_t-8', 'temp_media_t-6', 'temp_media_t-12', 'umi_max_t-7', 'umi_max_t-12', 'umi_max_t-13', 'umi_min_t-17', 'umi_rel_t-29', 'temp_media_t-14', 'umi_min_t-15', 'umi_min_t-6', 'umi_max_t-4', 'umi_rel_t-24', 'temp_media_t-10', 'umi_max_t-11', 'umi_max_t-14', 'umi_rel_t-25', 'Eto_t-18', 'umi_max_t-10', 'temp_media_t-11', 'Eto_t-19', 'umi_max_t-5', 'umi_rel_t-28', 'umi_min_t-22', 'temp_media_t-17', 'umi_min_t-23', 'umi_rel_t-26', 'temp_media_t-15', 'umi_max_t-15', 'umi_min_t-19', 'umi_min_t-18', 'temp_min_t-3', 'umi_max_t-6', 'umi_max_t-16', 'temp_media_t-16', 'temp_media_t-19', 'umi_rel_t-27', 'Eto_t-20', 'umi_min_t-21', 'Eto_t-21', 'Eto_t-22', 'Eto_t-23', 'temp_media_t-18', 'umi_max_t-17', 'temp_max_t-3', 'temp_media_t-23', 'umi_min_t-30', 'umi_min_t-24', 'temp_media_t-22', 'Eto_t-30', 'umi_min_t-20', 'temp_media_t-20', 'umi_min_t-25', 'radiacao_t-2', 'temp_min_t-4', 'temp_media_t-21', 'Eto_t-24', 'Eto_t-29', 'Eto_t-25', 'umi_max_t-18', 'temp_min_t-8', 'temp_media_t-24', 'Eto_t-28', 'umi_max_t-19', 'temp_min_t-7', 'temp_max_t-9', 'temp_max_t-4', 'umi_min_t-29', 'temp_max_t-13', 'temp_max_t-8', 'temp_media_t-30', 'umi_min_t-26', 'umi_min_t-28', 'Eto_t-26', 'temp_max_t-14', 'umi_max_t-20', 'J_t-1', 'temp_max_t-5', 'temp_max_t-12', 'temp_media_t-25', 'J_t-2', 'temp_media_t-29', 'umi_max_t-29', 'umi_max_t-22', 'umi_max_t-30', 'Eto_t-27', 'umi_max_t-21', 'temp_min_t-6', 'temp_min_t-9', 'J_t-3', 'temp_max_t-15', 'umi_min_t-27', 'temp_max_t-7', 'temp_max_t-6', 'temp_media_t-28', 'temp_max_t-10', 'J_t-4', 'umi_max_t-23', 'temp_min_t-12', 'temp_min_t-5', 'umi_max_t-26', 'temp_max_t-11', 'J_t-5', 'temp_max_t-17', 'temp_max_t-16', 'J_t-6', 'temp_min_t-13', 'umi_max_t-24', 'J_t-7', 'temp_media_t-26', 'temp_max_t-23', 'umi_max_t-28', 'J_t-10', 'umi_max_t-25', 'J_t-8', 'J_t-9', 'J_t-11', 'umi_max_t-27', 'J_t-12', 'temp_min_t-11', 'temp_max_t-19', 'temp_media_t-27', 'temp_min_t-14', 'temp_min_t-10', 'J_t-13', 'J_t-16', 'J_t-14', 'J_t-15', 'J_t-17', 'temp_max_t-24', 'J_t-18', 'temp_max_t-18', 'J_t-19', 'temp_max_t-22', 'temp_max_t-20', 'J_t-20', 'temp_min_t-17', 'temp_max_t-25', 'J_t-21', 'radiacao_t-13', 'J_t-30', 'radiacao_t-14', 'temp_max_t-21', 'temp_min_t-19', 'temp_min_t-15', 'J_t-29', 'J_t-22', 'J_t-28', 'J_t-26', 'temp_min_t-16', 'J_t-27', 'J_t-25', 'radiacao_t-3', 'temp_min_t-18', 'J_t-23', 'radiacao_t-23', 'radiacao_t-9', 'radiacao_t-10', 'J_t-24', 'radiacao_t-4', 'radiacao_t-30', 'temp_max_t-28', 'temp_min_t-22', 'temp_max_t-30', 'temp_max_t-29', 'temp_min_t-20', 'radiacao_t-8', 'radiacao_t-22', 'radiacao_t-5', 'radiacao_t-15', 'radiacao_t-24', 'temp_min_t-23', 'temp_max_t-26', 'temp_min_t-21', 'radiacao_t-21', 'radiacao_t-7', 'radiacao_t-25', 'radiacao_t-17', 'radiacao_t-19', 'radiacao_t-16', 'radiacao_t-11', 'radiacao_t-12', 'radiacao_t-18', 'vento_t-2', 'radiacao_t-20', 'radiacao_t-28', 'temp_max_t-27', 'radiacao_t-6', 'temp_min_t-30', 'radiacao_t-29', 'temp_min_t-29', 'radiacao_t-26', 'temp_min_t-24', 'temp_min_t-25', 'temp_min_t-28', 'radiacao_t-27', 'temp_min_t-26', 'temp_min_t-27', 'vento_t-14', 'vento_t-13', 'vento_t-3', 'vento_t-8', 'vento_t-7', 'vento_t-12', 'vento_t-15', 'vento_t-9', 'vento_t-4', 'vento_t-28', 'vento_t-6', 'vento_t-29', 'vento_t-26', 'vento_t-5', 'vento_t-10', 'vento_t-11', 'vento_t-30', 'vento_t-27', 'vento_t-19', 'vento_t-25', 'vento_t-16', 'vento_t-18', 'vento_t-20', 'vento_t-17', 'vento_t-21', 'vento_t-24', 'vento_t-23', 'vento_t-22', 'press_atm_t-23', 'press_atm_t-24', 'press_atm_t-7', 'press_atm_t-16', 'press_atm_t-3', 'press_atm_t-10', 'press_atm_t-9', 'press_atm_t-19', 'press_atm_t-25', 'press_atm_t-5', 'press_atm_t-8', 'press_atm_t-11', 'press_atm_t-12', 'press_atm_t-6', 'press_atm_t-30', 'press_atm_t-15', 'press_atm_t-29', 'press_atm_t-20', 'press_atm_t-18', 'press_atm_t-4', 'press_atm_t-22', 'press_atm_t-13', 'press_atm_t-17', 'press_atm_t-1', 'press_atm_t-28', 'press_atm_t-14', 'press_atm_t-26', 'press_atm_t-2', 'press_atm_t-27', 'press_atm_t-21'], ['Eto_t-1', 'umi_min_t-1', 'umi_rel_t-1', 'temp_max_t-1', 'temp_media_t-2', 'radiacao_t-1', 'temp_media_t-1', 'vento_t-1', 'umi_max_t-1', 'umi_rel_t-16', 'umi_max_t-12', 'umi_rel_t-12', 'radiacao_t-2', 'J_t-2', 'umi_min_t-2', 'umi_max_t-15', 'vento_t-8', 'umi_rel_t-9', 'press_atm_t-1', 'vento_t-7', 'umi_rel_t-13', 'J_t-26', 'umi_min_t-30', 'temp_media_t-28', 'Eto_t-8', 'umi_min_t-17', 'temp_max_t-2', 'radiacao_t-7', 'temp_max_t-3', 'umi_rel_t-15', 'vento_t-19', 'umi_min_t-4', 'vento_t-2', 'temp_min_t-8', 'vento_t-28', 'umi_min_t-6', 'J_t-29', 'umi_min_t-14', 'temp_min_t-12', 'umi_rel_t-11', 'umi_min_t-12', 'umi_rel_t-7', 'temp_max_t-6', 'vento_t-14', 'temp_min_t-15', 'vento_t-20', 'radiacao_t-17', 'umi_max_t-13', 'umi_max_t-17', 'vento_t-21', 'temp_max_t-15', 'umi_rel_t-20', 'temp_max_t-27', 'umi_max_t-7', 'temp_min_t-16', 'radiacao_t-9', 'temp_media_t-6', 'temp_media_t-7', 'umi_min_t-5', 'Eto_t-3', 'Eto_t-20', 'vento_t-3', 'press_atm_t-22', 'press_atm_t-27', 'vento_t-18', 'Eto_t-2', 'temp_min_t-20', 'vento_t-25', 'umi_min_t-27', 'temp_media_t-16', 'umi_rel_t-22', 'umi_rel_t-6', 'radiacao_t-6', 'Eto_t-28', 'temp_min_t-6', 'press_atm_t-29', 'vento_t-27', 'umi_rel_t-4', 'temp_max_t-12', 'temp_min_t-1', 'J_t-19', 'vento_t-11', 'temp_media_t-23', 'radiacao_t-25', 'temp_max_t-5', 'umi_min_t-8', 'vento_t-16', 'temp_min_t-13', 'temp_min_t-11', 'vento_t-9', 'umi_rel_t-10', 'Eto_t-4', 'umi_max_t-14', 'umi_min_t-15', 'temp_max_t-18', 'press_atm_t-9', 'radiacao_t-15', 'radiacao_t-30', 'temp_media_t-19', 'temp_media_t-4', 'temp_min_t-25', 'temp_min_t-9', 'press_atm_t-3', 'Eto_t-16', 'umi_max_t-24', 'umi_min_t-22', 'umi_min_t-16', 'Eto_t-18', 'temp_max_t-7', 'vento_t-22', 'temp_max_t-26', 'temp_max_t-30', 'umi_min_t-3', 'temp_min_t-17', 'temp_min_t-18', 'press_atm_t-8', 'temp_media_t-25', 'umi_rel_t-30', 'J_t-24', 'radiacao_t-5', 'umi_min_t-23', 'press_atm_t-30', 'Eto_t-30', 'temp_max_t-19', 'temp_min_t-14', 'umi_min_t-21', 'press_atm_t-4', 'Eto_t-29', 'vento_t-30', 'temp_max_t-13', 'J_t-8', 'umi_max_t-5', 'J_t-4', 'vento_t-26', 'temp_min_t-4', 'radiacao_t-3', 'vento_t-12', 'umi_min_t-13', 'Eto_t-21', 'temp_min_t-7', 'temp_min_t-5', 'Eto_t-6', 'umi_min_t-20', 'temp_max_t-10', 'temp_max_t-29', 'Eto_t-10', 'Eto_t-23', 'radiacao_t-11', 'umi_rel_t-14', 'radiacao_t-8', 'radiacao_t-16', 'radiacao_t-24', 'umi_min_t-10', 'temp_max_t-21', 'Eto_t-15', 'temp_max_t-17', 'umi_min_t-24', 'temp_media_t-18', 'umi_max_t-2', 'vento_t-13', 'umi_rel_t-2', 'temp_media_t-14', 'Eto_t-17', 'vento_t-6', 'temp_max_t-23', 'vento_t-17', 'radiacao_t-26', 'vento_t-5', 'radiacao_t-13', 'umi_max_t-22', 'Eto_t-24', 'umi_max_t-8', 'temp_max_t-16', 'umi_min_t-11', 'temp_min_t-27', 'umi_rel_t-3', 'radiacao_t-23', 'umi_min_t-9', 'radiacao_t-10', 'temp_min_t-29', 'Eto_t-9', 'radiacao_t-27', 'temp_max_t-14', 'umi_min_t-7', 'umi_max_t-3', 'press_atm_t-6', 'temp_media_t-17', 'Eto_t-14', 'press_atm_t-17', 'temp_media_t-27', 'temp_media_t-30', 'temp_min_t-10', 'press_atm_t-18', 'umi_min_t-18', 'umi_max_t-30', 'vento_t-10', 'Eto_t-13', 'press_atm_t-26', 'temp_media_t-20', 'temp_min_t-19', 'radiacao_t-22', 'radiacao_t-4', 'temp_media_t-29', 'temp_media_t-21', 'umi_min_t-19', 'Eto_t-27', 'vento_t-24', 'temp_media_t-12', 'Eto_t-7', 'J_t-12', 'temp_max_t-24', 'J_t-25', 'J_t-14', 'J_t-10', 'umi_rel_t-25', 'vento_t-23', 'umi_max_t-11', 'J_t-7', 'radiacao_t-20', 'press_atm_t-2', 'press_atm_t-16', 'vento_t-4', 'temp_media_t-3', 'Eto_t-26', 'temp_media_t-24', 'press_atm_t-7', 'umi_max_t-28', 'umi_max_t-19', 'umi_max_t-29', 'temp_min_t-24', 'J_t-11', 'Eto_t-11', 'temp_min_t-3', 'temp_media_t-5', 'umi_rel_t-21', 'radiacao_t-28', 'temp_min_t-22', 'temp_media_t-22', 'temp_max_t-22', 'temp_max_t-28', 'umi_min_t-29', 'press_atm_t-20', 'temp_min_t-2', 'umi_min_t-26', 'temp_media_t-13', 'umi_max_t-21', 'radiacao_t-18', 'J_t-22', 'umi_max_t-27', 'radiacao_t-19', 'radiacao_t-12', 'radiacao_t-21', 'umi_max_t-16', 'umi_max_t-25', 'radiacao_t-14', 'umi_max_t-6', 'Eto_t-12', 'press_atm_t-23', 'radiacao_t-29', 'umi_rel_t-28', 'temp_min_t-23', 'J_t-30', 'press_atm_t-12', 'press_atm_t-21', 'temp_min_t-26', 'press_atm_t-13', 'Eto_t-22', 'umi_rel_t-23', 'umi_max_t-4', 'J_t-9', 'umi_rel_t-8', 'temp_max_t-25', 'temp_max_t-4', 'umi_rel_t-27', 'umi_rel_t-24', 'umi_rel_t-19', 'temp_min_t-21', 'Eto_t-5', 'temp_media_t-11', 'umi_max_t-10', 'temp_min_t-30', 'press_atm_t-10', 'umi_min_t-25', 'Eto_t-19', 'press_atm_t-15', 'J_t-15', 'umi_rel_t-29', 'umi_min_t-28', 'press_atm_t-28', 'press_atm_t-11', 'umi_rel_t-26', 'temp_max_t-9', 'temp_media_t-26', 'temp_media_t-8', 'J_t-20', 'umi_max_t-18', 'umi_max_t-26', 'umi_max_t-20', 'temp_media_t-9', 'press_atm_t-14', 'umi_rel_t-17', 'press_atm_t-5', 'umi_rel_t-5', 'vento_t-29', 'umi_max_t-9', 'J_t-16', 'Eto_t-25', 'press_atm_t-19', 'temp_media_t-15', 'temp_min_t-28', 'J_t-21', 'temp_max_t-11', 'J_t-18', 'temp_media_t-10', 'J_t-17', 'umi_rel_t-18', 'J_t-13', 'press_atm_t-25', 'vento_t-15', 'umi_max_t-23', 'temp_max_t-8', 'J_t-1', 'J_t-23', 'temp_max_t-20', 'press_atm_t-24', 'J_t-28', 'J_t-3', 'J_t-27', 'J_t-6', 'J_t-5'])\n",
            "lista_selecionada [['Eto', '1'], ['umi_rel', '1'], ['umi_min', '1'], ['temp_media', '1'], ['temp_max', '1'], ['Eto', '2'], ['radiacao', '1'], ['umi_max', '1'], ['temp_min', '1'], ['umi_rel', '2']]\n",
            "lista ['umi_rel', 'umi_min', 'temp_media', 'temp_max', 'radiacao', 'umi_max', 'temp_min']\n",
            "Eto ['Eto']\n",
            "lags [[1, 2], [1], [1], [1], [1], [1], [1]]\n",
            "lags_eto [1, 2]\n",
            "lista_selecionada [['Eto', '1'], ['umi_min', '1'], ['umi_rel', '1'], ['temp_max', '1'], ['temp_media', '2'], ['radiacao', '1'], ['temp_media', '1'], ['vento', '1'], ['umi_max', '1'], ['umi_rel', '16']]\n",
            "lista ['umi_min', 'umi_rel', 'temp_max', 'temp_media', 'radiacao', 'vento', 'umi_max']\n",
            "Eto ['Eto']\n",
            "lags [[1], [1, 16], [1], [2, 1], [1], [1], [1]]\n",
            "lags_eto [1]\n",
            "\n",
            " -----------Para----1----dias --------\n",
            "\n",
            "lista_Formatada_1 ------->  [['umi_rel', 'umi_min', 'temp_media', 'temp_max', 'radiacao', 'umi_max', 'temp_min'], [[1, 2], [1], [1], [1], [1], [1], [1]], ['Eto'], [1, 2]]\n",
            "lista_Formatada_2 ------->  [['umi_min', 'umi_rel', 'temp_max', 'temp_media', 'radiacao', 'vento', 'umi_max'], [[1], [1, 16], [1], [2, 1], [1], [1], [1]], ['Eto'], [1]]\n",
            "lista_Formatada_3 ------->  [['vento', 'radiacao', 'temp_max', 'temp_min', 'umi_max', 'umi_min', 'umi_rel', 'press_atm', 'temp_media', 'J'], [[1, 2, 3, 4, 5, 6, 7, 8, 9, 10, 11, 12, 13, 14, 15, 16, 17, 18, 19, 20, 21, 22, 23, 24, 25, 26, 27, 28, 29, 30], [1, 2, 3, 4, 5, 6, 7, 8, 9, 10, 11, 12, 13, 14, 15, 16, 17, 18, 19, 20, 21, 22, 23, 24, 25, 26, 27, 28, 29, 30], [1, 2, 3, 4, 5, 6, 7, 8, 9, 10, 11, 12, 13, 14, 15, 16, 17, 18, 19, 20, 21, 22, 23, 24, 25, 26, 27, 28, 29, 30], [1, 2, 3, 4, 5, 6, 7, 8, 9, 10, 11, 12, 13, 14, 15, 16, 17, 18, 19, 20, 21, 22, 23, 24, 25, 26, 27, 28, 29, 30], [1, 2, 3, 4, 5, 6, 7, 8, 9, 10, 11, 12, 13, 14, 15, 16, 17, 18, 19, 20, 21, 22, 23, 24, 25, 26, 27, 28, 29, 30], [1, 2, 3, 4, 5, 6, 7, 8, 9, 10, 11, 12, 13, 14, 15, 16, 17, 18, 19, 20, 21, 22, 23, 24, 25, 26, 27, 28, 29, 30], [1, 2, 3, 4, 5, 6, 7, 8, 9, 10, 11, 12, 13, 14, 15, 16, 17, 18, 19, 20, 21, 22, 23, 24, 25, 26, 27, 28, 29, 30], [1, 2, 3, 4, 5, 6, 7, 8, 9, 10, 11, 12, 13, 14, 15, 16, 17, 18, 19, 20, 21, 22, 23, 24, 25, 26, 27, 28, 29, 30], [1, 2, 3, 4, 5, 6, 7, 8, 9, 10, 11, 12, 13, 14, 15, 16, 17, 18, 19, 20, 21, 22, 23, 24, 25, 26, 27, 28, 29, 30], [1, 2, 3, 4, 5, 6, 7, 8, 9, 10, 11, 12, 13, 14, 15, 16, 17, 18, 19, 20, 21, 22, 23, 24, 25, 26, 27, 28, 29, 30]], ['Eto'], [1, 2, 3, 4, 5, 6, 7, 8, 9, 10, 11, 12, 13, 14, 15, 16, 17, 18, 19, 20, 21, 22, 23, 24, 25, 26, 27, 28, 29, 30]]\n",
            "\n",
            " ---------------------------------------------\n",
            "\n"
          ]
        },
        {
          "output_type": "stream",
          "name": "stderr",
          "text": [
            "/usr/local/lib/python3.7/dist-packages/ipykernel_launcher.py:20: PerformanceWarning: DataFrame is highly fragmented.  This is usually the result of calling `frame.insert` many times, which has poor performance.  Consider joining all columns at once using pd.concat(axis=1) instead.  To get a de-fragmented frame, use `newframe = frame.copy()`\n",
            "/usr/local/lib/python3.7/dist-packages/ipykernel_launcher.py:29: PerformanceWarning: DataFrame is highly fragmented.  This is usually the result of calling `frame.insert` many times, which has poor performance.  Consider joining all columns at once using pd.concat(axis=1) instead.  To get a de-fragmented frame, use `newframe = frame.copy()`\n"
          ]
        },
        {
          "output_type": "stream",
          "name": "stdout",
          "text": [
            "(['umi_rel_t-3', 'umi_rel_t-13', 'Eto_t-3', 'umi_rel_t-9', 'umi_rel_t-8', 'umi_rel_t-4', 'umi_rel_t-12', 'umi_rel_t-14', 'umi_rel_t-7', 'umi_rel_t-10', 'Eto_t-13', 'Eto_t-8', 'Eto_t-4', 'umi_rel_t-5', 'umi_rel_t-11', 'umi_rel_t-15', 'Eto_t-9', 'umi_rel_t-16', 'temp_media_t-3', 'umi_rel_t-6', 'Eto_t-14', 'umi_rel_t-17', 'Eto_t-7', 'Eto_t-12', 'umi_min_t-3', 'umi_min_t-13', 'Eto_t-5', 'Eto_t-10', 'Eto_t-6', 'temp_media_t-4', 'umi_min_t-9', 'Eto_t-11', 'umi_min_t-4', 'umi_min_t-14', 'umi_rel_t-18', 'Eto_t-15', 'umi_min_t-10', 'umi_min_t-12', 'temp_media_t-8', 'umi_min_t-8', 'umi_rel_t-19', 'umi_max_t-3', 'umi_rel_t-22', 'Eto_t-16', 'umi_rel_t-30', 'umi_rel_t-21', 'temp_media_t-9', 'temp_media_t-13', 'Eto_t-17', 'umi_rel_t-20', 'umi_min_t-11', 'umi_rel_t-23', 'umi_min_t-7', 'temp_media_t-5', 'umi_max_t-9', 'umi_min_t-5', 'umi_min_t-16', 'temp_media_t-7', 'umi_max_t-8', 'temp_media_t-6', 'temp_media_t-12', 'umi_max_t-7', 'umi_max_t-12', 'umi_max_t-13', 'umi_min_t-17', 'umi_rel_t-29', 'temp_media_t-14', 'umi_min_t-15', 'umi_min_t-6', 'umi_max_t-4', 'umi_rel_t-24', 'temp_media_t-10', 'umi_max_t-11', 'umi_max_t-14', 'umi_rel_t-25', 'Eto_t-18', 'umi_max_t-10', 'temp_media_t-11', 'Eto_t-19', 'umi_max_t-5', 'umi_rel_t-28', 'umi_min_t-22', 'temp_media_t-17', 'umi_min_t-23', 'umi_rel_t-26', 'temp_media_t-15', 'umi_max_t-15', 'umi_min_t-19', 'umi_min_t-18', 'temp_min_t-3', 'umi_max_t-6', 'umi_max_t-16', 'temp_media_t-16', 'temp_media_t-19', 'umi_rel_t-27', 'Eto_t-20', 'umi_min_t-21', 'Eto_t-21', 'Eto_t-22', 'Eto_t-23', 'temp_media_t-18', 'umi_max_t-17', 'temp_max_t-3', 'temp_media_t-23', 'umi_min_t-30', 'umi_min_t-24', 'temp_media_t-22', 'Eto_t-30', 'umi_min_t-20', 'temp_media_t-20', 'umi_min_t-25', 'temp_min_t-4', 'temp_media_t-21', 'Eto_t-24', 'Eto_t-29', 'Eto_t-25', 'umi_max_t-18', 'temp_min_t-8', 'temp_media_t-24', 'Eto_t-28', 'umi_max_t-19', 'temp_min_t-7', 'temp_max_t-9', 'temp_max_t-4', 'umi_min_t-29', 'temp_max_t-13', 'temp_max_t-8', 'temp_media_t-30', 'umi_min_t-26', 'umi_min_t-28', 'Eto_t-26', 'temp_max_t-14', 'umi_max_t-20', 'temp_max_t-5', 'temp_max_t-12', 'temp_media_t-25', 'temp_media_t-29', 'umi_max_t-29', 'umi_max_t-22', 'umi_max_t-30', 'Eto_t-27', 'umi_max_t-21', 'temp_min_t-6', 'temp_min_t-9', 'J_t-3', 'temp_max_t-15', 'umi_min_t-27', 'temp_max_t-7', 'temp_max_t-6', 'temp_media_t-28', 'temp_max_t-10', 'J_t-4', 'umi_max_t-23', 'temp_min_t-12', 'temp_min_t-5', 'umi_max_t-26', 'temp_max_t-11', 'J_t-5', 'temp_max_t-17', 'temp_max_t-16', 'J_t-6', 'temp_min_t-13', 'umi_max_t-24', 'J_t-7', 'temp_media_t-26', 'temp_max_t-23', 'umi_max_t-28', 'J_t-10', 'umi_max_t-25', 'J_t-8', 'J_t-9', 'J_t-11', 'umi_max_t-27', 'J_t-12', 'temp_min_t-11', 'temp_max_t-19', 'temp_media_t-27', 'temp_min_t-14', 'temp_min_t-10', 'J_t-13', 'J_t-16', 'J_t-14', 'J_t-15', 'J_t-17', 'temp_max_t-24', 'J_t-18', 'temp_max_t-18', 'J_t-19', 'temp_max_t-22', 'temp_max_t-20', 'J_t-20', 'temp_min_t-17', 'temp_max_t-25', 'J_t-21', 'radiacao_t-13', 'J_t-30', 'radiacao_t-14', 'temp_max_t-21', 'temp_min_t-19', 'temp_min_t-15', 'J_t-29', 'J_t-22', 'J_t-28', 'J_t-26', 'temp_min_t-16', 'J_t-27', 'J_t-25', 'radiacao_t-3', 'temp_min_t-18', 'J_t-23', 'radiacao_t-23', 'radiacao_t-9', 'radiacao_t-10', 'J_t-24', 'radiacao_t-4', 'radiacao_t-30', 'temp_max_t-28', 'temp_min_t-22', 'temp_max_t-30', 'temp_max_t-29', 'temp_min_t-20', 'radiacao_t-8', 'radiacao_t-22', 'radiacao_t-5', 'radiacao_t-15', 'radiacao_t-24', 'temp_min_t-23', 'temp_max_t-26', 'temp_min_t-21', 'radiacao_t-21', 'radiacao_t-7', 'radiacao_t-25', 'radiacao_t-17', 'radiacao_t-19', 'radiacao_t-16', 'radiacao_t-11', 'radiacao_t-12', 'radiacao_t-18', 'radiacao_t-20', 'radiacao_t-28', 'temp_max_t-27', 'radiacao_t-6', 'temp_min_t-30', 'radiacao_t-29', 'temp_min_t-29', 'radiacao_t-26', 'temp_min_t-24', 'temp_min_t-25', 'temp_min_t-28', 'radiacao_t-27', 'temp_min_t-26', 'temp_min_t-27', 'vento_t-14', 'vento_t-13', 'vento_t-3', 'vento_t-8', 'vento_t-7', 'vento_t-12', 'vento_t-15', 'vento_t-9', 'vento_t-4', 'vento_t-28', 'vento_t-6', 'vento_t-29', 'vento_t-26', 'vento_t-5', 'vento_t-10', 'vento_t-11', 'vento_t-30', 'vento_t-27', 'vento_t-19', 'vento_t-25', 'vento_t-16', 'vento_t-18', 'vento_t-20', 'vento_t-17', 'vento_t-21', 'vento_t-24', 'vento_t-23', 'vento_t-22', 'press_atm_t-23', 'press_atm_t-24', 'press_atm_t-7', 'press_atm_t-16', 'press_atm_t-3', 'press_atm_t-10', 'press_atm_t-9', 'press_atm_t-19', 'press_atm_t-25', 'press_atm_t-5', 'press_atm_t-8', 'press_atm_t-11', 'press_atm_t-12', 'press_atm_t-6', 'press_atm_t-30', 'press_atm_t-15', 'press_atm_t-29', 'press_atm_t-20', 'press_atm_t-18', 'press_atm_t-4', 'press_atm_t-22', 'press_atm_t-13', 'press_atm_t-17', 'press_atm_t-28', 'press_atm_t-14', 'press_atm_t-26', 'press_atm_t-27', 'press_atm_t-21'], ['J_t-4', 'umi_min_t-4', 'J_t-5', 'J_t-19', 'J_t-15', 'J_t-6', 'J_t-13', 'J_t-7', 'J_t-21', 'Eto_t-13', 'J_t-30', 'umi_rel_t-8', 'temp_max_t-5', 'Eto_t-12', 'J_t-8', 'J_t-29', 'umi_rel_t-12', 'temp_max_t-6', 'Eto_t-5', 'Eto_t-8', 'Eto_t-16', 'Eto_t-14', 'umi_min_t-16', 'umi_min_t-3', 'temp_media_t-30', 'Eto_t-7', 'Eto_t-3', 'temp_max_t-8', 'umi_max_t-9', 'J_t-18', 'Eto_t-15', 'temp_media_t-7', 'umi_min_t-12', 'J_t-28', 'temp_media_t-13', 'temp_media_t-3', 'press_atm_t-3', 'umi_rel_t-13', 'umi_rel_t-7', 'J_t-17', 'vento_t-29', 'umi_rel_t-30', 'temp_min_t-3', 'vento_t-23', 'umi_rel_t-22', 'vento_t-25', 'umi_min_t-5', 'temp_media_t-4', 'temp_max_t-30', 'press_atm_t-4', 'press_atm_t-18', 'umi_max_t-18', 'press_atm_t-26', 'umi_rel_t-4', 'vento_t-16', 'temp_media_t-17', 'radiacao_t-13', 'vento_t-15', 'umi_rel_t-11', 'temp_min_t-30', 'umi_min_t-23', 'umi_min_t-10', 'umi_min_t-24', 'press_atm_t-14', 'temp_media_t-11', 'vento_t-8', 'Eto_t-24', 'umi_min_t-17', 'temp_max_t-7', 'Eto_t-10', 'umi_rel_t-23', 'temp_min_t-20', 'J_t-12', 'temp_min_t-11', 'radiacao_t-8', 'temp_max_t-23', 'vento_t-17', 'press_atm_t-8', 'temp_min_t-6', 'temp_max_t-15', 'temp_min_t-12', 'temp_media_t-5', 'J_t-25', 'umi_min_t-25', 'temp_max_t-3', 'temp_max_t-16', 'umi_max_t-3', 'umi_rel_t-5', 'umi_max_t-17', 'press_atm_t-19', 'temp_min_t-26', 'umi_min_t-18', 'temp_media_t-28', 'umi_max_t-30', 'J_t-24', 'umi_max_t-5', 'vento_t-3', 'Eto_t-11', 'temp_media_t-9', 'radiacao_t-12', 'umi_max_t-25', 'umi_rel_t-15', 'press_atm_t-27', 'temp_min_t-27', 'radiacao_t-26', 'temp_media_t-19', 'umi_rel_t-9', 'umi_min_t-29', 'Eto_t-25', 'umi_rel_t-6', 'radiacao_t-17', 'temp_media_t-6', 'Eto_t-18', 'umi_rel_t-18', 'vento_t-9', 'umi_max_t-7', 'umi_rel_t-17', 'vento_t-27', 'temp_max_t-27', 'radiacao_t-10', 'temp_min_t-8', 'press_atm_t-7', 'vento_t-4', 'J_t-10', 'radiacao_t-25', 'temp_min_t-9', 'temp_max_t-19', 'umi_min_t-27', 'radiacao_t-6', 'vento_t-7', 'temp_media_t-12', 'vento_t-14', 'vento_t-11', 'umi_max_t-10', 'temp_media_t-8', 'umi_max_t-4', 'umi_max_t-15', 'radiacao_t-4', 'temp_max_t-4', 'Eto_t-20', 'radiacao_t-22', 'press_atm_t-10', 'temp_min_t-18', 'temp_media_t-20', 'temp_media_t-27', 'vento_t-24', 'umi_min_t-20', 'umi_max_t-27', 'temp_min_t-4', 'press_atm_t-20', 'umi_min_t-13', 'umi_min_t-8', 'temp_min_t-5', 'umi_min_t-7', 'radiacao_t-19', 'umi_max_t-11', 'umi_min_t-28', 'radiacao_t-18', 'temp_max_t-17', 'vento_t-13', 'umi_rel_t-14', 'vento_t-28', 'Eto_t-19', 'vento_t-10', 'temp_min_t-15', 'umi_min_t-6', 'umi_min_t-14', 'umi_max_t-16', 'radiacao_t-16', 'temp_media_t-16', 'temp_media_t-29', 'umi_min_t-15', 'press_atm_t-30', 'J_t-3', 'Eto_t-30', 'vento_t-5', 'temp_min_t-25', 'umi_min_t-19', 'vento_t-22', 'J_t-20', 'temp_min_t-28', 'umi_max_t-19', 'umi_rel_t-25', 'umi_rel_t-27', 'temp_min_t-24', 'umi_rel_t-28', 'vento_t-18', 'press_atm_t-17', 'Eto_t-17', 'press_atm_t-9', 'J_t-11', 'umi_rel_t-19', 'umi_max_t-14', 'press_atm_t-5', 'press_atm_t-23', 'J_t-23', 'umi_min_t-26', 'temp_max_t-25', 'umi_max_t-26', 'umi_max_t-8', 'radiacao_t-24', 'temp_min_t-16', 'umi_max_t-23', 'vento_t-6', 'vento_t-30', 'vento_t-12', 'press_atm_t-15', 'Eto_t-29', 'Eto_t-27', 'radiacao_t-30', 'temp_max_t-26', 'umi_rel_t-20', 'radiacao_t-27', 'radiacao_t-9', 'temp_min_t-17', 'temp_media_t-25', 'J_t-14', 'vento_t-26', 'temp_media_t-21', 'temp_media_t-18', 'Eto_t-4', 'temp_max_t-9', 'temp_media_t-23', 'umi_rel_t-26', 'radiacao_t-15', 'temp_media_t-26', 'radiacao_t-21', 'umi_max_t-28', 'press_atm_t-13', 'temp_min_t-19', 'temp_max_t-11', 'radiacao_t-5', 'umi_max_t-20', 'temp_min_t-22', 'temp_min_t-7', 'temp_max_t-29', 'umi_rel_t-24', 'vento_t-21', 'radiacao_t-28', 'umi_max_t-29', 'temp_max_t-18', 'press_atm_t-16', 'temp_min_t-13', 'temp_min_t-23', 'Eto_t-22', 'temp_max_t-13', 'umi_min_t-21', 'temp_max_t-20', 'Eto_t-21', 'temp_media_t-24', 'umi_rel_t-21', 'temp_min_t-10', 'radiacao_t-23', 'umi_min_t-11', 'umi_rel_t-3', 'umi_max_t-24', 'press_atm_t-25', 'radiacao_t-20', 'press_atm_t-22', 'press_atm_t-6', 'radiacao_t-3', 'umi_rel_t-16', 'temp_min_t-14', 'umi_min_t-30', 'temp_media_t-14', 'umi_max_t-6', 'umi_min_t-9', 'Eto_t-9', 'temp_min_t-21', 'press_atm_t-29', 'Eto_t-6', 'J_t-22', 'temp_max_t-24', 'temp_max_t-22', 'radiacao_t-7', 'Eto_t-28', 'Eto_t-26', 'radiacao_t-29', 'radiacao_t-14', 'temp_media_t-10', 'umi_max_t-13', 'umi_rel_t-10', 'temp_min_t-29', 'press_atm_t-11', 'temp_media_t-15', 'temp_media_t-22', 'temp_max_t-14', 'temp_max_t-21', 'Eto_t-23', 'press_atm_t-24', 'umi_max_t-12', 'press_atm_t-28', 'umi_max_t-21', 'vento_t-19', 'J_t-9', 'umi_rel_t-29', 'temp_max_t-28', 'J_t-26', 'temp_max_t-10', 'radiacao_t-11', 'temp_max_t-12', 'press_atm_t-21', 'vento_t-20', 'press_atm_t-12', 'J_t-27', 'umi_max_t-22', 'J_t-16', 'umi_min_t-22'])\n",
            "lista_selecionada [['umi_rel', '3'], ['umi_rel', '13'], ['Eto', '3'], ['umi_rel', '9'], ['umi_rel', '8'], ['umi_rel', '4'], ['umi_rel', '12'], ['umi_rel', '14'], ['umi_rel', '7'], ['umi_rel', '10']]\n",
            "lista ['umi_rel']\n",
            "Eto ['Eto']\n",
            "lags [[3, 13, 9, 8, 4, 12, 14, 7, 10]]\n",
            "lags_eto [3]\n",
            "lista_selecionada [['J', '4'], ['umi_min', '4'], ['J', '5'], ['J', '19'], ['J', '15'], ['J', '6'], ['J', '13'], ['J', '7'], ['J', '21'], ['Eto', '13']]\n",
            "lista ['J', 'umi_min']\n",
            "Eto ['Eto']\n",
            "lags [[4, 5, 19, 15, 6, 13, 7, 21], [4]]\n",
            "lags_eto [13]\n",
            "\n",
            " -----------Para----3----dias --------\n",
            "\n",
            "lista_Formatada_1 ------->  [['umi_rel'], [[3, 13, 9, 8, 4, 12, 14, 7, 10]], ['Eto'], [3]]\n",
            "lista_Formatada_2 ------->  [['J', 'umi_min'], [[4, 5, 19, 15, 6, 13, 7, 21], [4]], ['Eto'], [13]]\n",
            "lista_Formatada_3 ------->  [['vento', 'radiacao', 'temp_max', 'temp_min', 'umi_max', 'umi_min', 'umi_rel', 'press_atm', 'temp_media', 'J'], [[3, 4, 5, 6, 7, 8, 9, 10, 11, 12, 13, 14, 15, 16, 17, 18, 19, 20, 21, 22, 23, 24, 25, 26, 27, 28, 29, 30], [3, 4, 5, 6, 7, 8, 9, 10, 11, 12, 13, 14, 15, 16, 17, 18, 19, 20, 21, 22, 23, 24, 25, 26, 27, 28, 29, 30], [3, 4, 5, 6, 7, 8, 9, 10, 11, 12, 13, 14, 15, 16, 17, 18, 19, 20, 21, 22, 23, 24, 25, 26, 27, 28, 29, 30], [3, 4, 5, 6, 7, 8, 9, 10, 11, 12, 13, 14, 15, 16, 17, 18, 19, 20, 21, 22, 23, 24, 25, 26, 27, 28, 29, 30], [3, 4, 5, 6, 7, 8, 9, 10, 11, 12, 13, 14, 15, 16, 17, 18, 19, 20, 21, 22, 23, 24, 25, 26, 27, 28, 29, 30], [3, 4, 5, 6, 7, 8, 9, 10, 11, 12, 13, 14, 15, 16, 17, 18, 19, 20, 21, 22, 23, 24, 25, 26, 27, 28, 29, 30], [3, 4, 5, 6, 7, 8, 9, 10, 11, 12, 13, 14, 15, 16, 17, 18, 19, 20, 21, 22, 23, 24, 25, 26, 27, 28, 29, 30], [3, 4, 5, 6, 7, 8, 9, 10, 11, 12, 13, 14, 15, 16, 17, 18, 19, 20, 21, 22, 23, 24, 25, 26, 27, 28, 29, 30], [3, 4, 5, 6, 7, 8, 9, 10, 11, 12, 13, 14, 15, 16, 17, 18, 19, 20, 21, 22, 23, 24, 25, 26, 27, 28, 29, 30], [3, 4, 5, 6, 7, 8, 9, 10, 11, 12, 13, 14, 15, 16, 17, 18, 19, 20, 21, 22, 23, 24, 25, 26, 27, 28, 29, 30]], ['Eto'], [3, 4, 5, 6, 7, 8, 9, 10, 11, 12, 13, 14, 15, 16, 17, 18, 19, 20, 21, 22, 23, 24, 25, 26, 27, 28, 29, 30]]\n",
            "\n",
            " ---------------------------------------------\n",
            "\n"
          ]
        },
        {
          "output_type": "stream",
          "name": "stderr",
          "text": [
            "/usr/local/lib/python3.7/dist-packages/ipykernel_launcher.py:20: PerformanceWarning: DataFrame is highly fragmented.  This is usually the result of calling `frame.insert` many times, which has poor performance.  Consider joining all columns at once using pd.concat(axis=1) instead.  To get a de-fragmented frame, use `newframe = frame.copy()`\n",
            "/usr/local/lib/python3.7/dist-packages/ipykernel_launcher.py:29: PerformanceWarning: DataFrame is highly fragmented.  This is usually the result of calling `frame.insert` many times, which has poor performance.  Consider joining all columns at once using pd.concat(axis=1) instead.  To get a de-fragmented frame, use `newframe = frame.copy()`\n"
          ]
        },
        {
          "output_type": "stream",
          "name": "stdout",
          "text": [
            "(['umi_rel_t-13', 'umi_rel_t-9', 'umi_rel_t-8', 'umi_rel_t-12', 'umi_rel_t-14', 'umi_rel_t-7', 'umi_rel_t-10', 'Eto_t-13', 'Eto_t-8', 'umi_rel_t-11', 'umi_rel_t-15', 'Eto_t-9', 'umi_rel_t-16', 'Eto_t-14', 'umi_rel_t-17', 'Eto_t-7', 'Eto_t-12', 'umi_min_t-13', 'Eto_t-10', 'umi_min_t-9', 'Eto_t-11', 'umi_min_t-14', 'umi_rel_t-18', 'Eto_t-15', 'umi_min_t-10', 'umi_min_t-12', 'temp_media_t-8', 'umi_min_t-8', 'umi_rel_t-19', 'umi_rel_t-22', 'Eto_t-16', 'umi_rel_t-30', 'umi_rel_t-21', 'temp_media_t-9', 'temp_media_t-13', 'Eto_t-17', 'umi_rel_t-20', 'umi_min_t-11', 'umi_rel_t-23', 'umi_min_t-7', 'umi_max_t-9', 'umi_min_t-16', 'temp_media_t-7', 'umi_max_t-8', 'temp_media_t-12', 'umi_max_t-7', 'umi_max_t-12', 'umi_max_t-13', 'umi_min_t-17', 'umi_rel_t-29', 'temp_media_t-14', 'umi_min_t-15', 'umi_rel_t-24', 'temp_media_t-10', 'umi_max_t-11', 'umi_max_t-14', 'umi_rel_t-25', 'Eto_t-18', 'umi_max_t-10', 'temp_media_t-11', 'Eto_t-19', 'umi_rel_t-28', 'umi_min_t-22', 'temp_media_t-17', 'umi_min_t-23', 'umi_rel_t-26', 'temp_media_t-15', 'umi_max_t-15', 'umi_min_t-19', 'umi_min_t-18', 'umi_max_t-16', 'temp_media_t-16', 'temp_media_t-19', 'umi_rel_t-27', 'Eto_t-20', 'umi_min_t-21', 'Eto_t-21', 'Eto_t-22', 'Eto_t-23', 'temp_media_t-18', 'umi_max_t-17', 'temp_media_t-23', 'umi_min_t-30', 'umi_min_t-24', 'temp_media_t-22', 'Eto_t-30', 'umi_min_t-20', 'temp_media_t-20', 'umi_min_t-25', 'temp_media_t-21', 'Eto_t-24', 'Eto_t-29', 'Eto_t-25', 'umi_max_t-18', 'temp_min_t-8', 'temp_media_t-24', 'Eto_t-28', 'umi_max_t-19', 'temp_min_t-7', 'temp_max_t-9', 'umi_min_t-29', 'temp_max_t-13', 'temp_max_t-8', 'temp_media_t-30', 'umi_min_t-26', 'umi_min_t-28', 'Eto_t-26', 'temp_max_t-14', 'umi_max_t-20', 'temp_max_t-12', 'temp_media_t-25', 'temp_media_t-29', 'umi_max_t-29', 'umi_max_t-22', 'umi_max_t-30', 'Eto_t-27', 'umi_max_t-21', 'temp_min_t-9', 'temp_max_t-15', 'umi_min_t-27', 'temp_max_t-7', 'temp_media_t-28', 'temp_max_t-10', 'umi_max_t-23', 'temp_min_t-12', 'umi_max_t-26', 'temp_max_t-11', 'temp_max_t-17', 'temp_max_t-16', 'temp_min_t-13', 'umi_max_t-24', 'J_t-7', 'temp_media_t-26', 'temp_max_t-23', 'umi_max_t-28', 'J_t-10', 'umi_max_t-25', 'J_t-8', 'J_t-9', 'J_t-11', 'umi_max_t-27', 'J_t-12', 'temp_min_t-11', 'temp_max_t-19', 'temp_media_t-27', 'temp_min_t-14', 'temp_min_t-10', 'J_t-13', 'J_t-16', 'J_t-14', 'J_t-15', 'J_t-17', 'temp_max_t-24', 'J_t-18', 'temp_max_t-18', 'J_t-19', 'temp_max_t-22', 'temp_max_t-20', 'J_t-20', 'temp_min_t-17', 'temp_max_t-25', 'J_t-21', 'radiacao_t-13', 'J_t-30', 'radiacao_t-14', 'temp_max_t-21', 'temp_min_t-19', 'temp_min_t-15', 'J_t-29', 'J_t-22', 'J_t-28', 'J_t-26', 'temp_min_t-16', 'J_t-27', 'J_t-25', 'temp_min_t-18', 'J_t-23', 'radiacao_t-23', 'radiacao_t-9', 'radiacao_t-10', 'J_t-24', 'radiacao_t-30', 'temp_max_t-28', 'temp_min_t-22', 'temp_max_t-30', 'temp_max_t-29', 'temp_min_t-20', 'radiacao_t-8', 'radiacao_t-22', 'radiacao_t-15', 'radiacao_t-24', 'temp_min_t-23', 'temp_max_t-26', 'temp_min_t-21', 'radiacao_t-21', 'radiacao_t-7', 'radiacao_t-25', 'radiacao_t-17', 'radiacao_t-19', 'radiacao_t-16', 'radiacao_t-11', 'radiacao_t-12', 'radiacao_t-18', 'radiacao_t-20', 'radiacao_t-28', 'temp_max_t-27', 'temp_min_t-30', 'radiacao_t-29', 'temp_min_t-29', 'radiacao_t-26', 'temp_min_t-24', 'temp_min_t-25', 'temp_min_t-28', 'radiacao_t-27', 'temp_min_t-26', 'temp_min_t-27', 'vento_t-14', 'vento_t-13', 'vento_t-8', 'vento_t-7', 'vento_t-12', 'vento_t-15', 'vento_t-9', 'vento_t-28', 'vento_t-29', 'vento_t-26', 'vento_t-10', 'vento_t-11', 'vento_t-30', 'vento_t-27', 'vento_t-19', 'vento_t-25', 'vento_t-16', 'vento_t-18', 'vento_t-20', 'vento_t-17', 'vento_t-21', 'vento_t-24', 'vento_t-23', 'vento_t-22', 'press_atm_t-23', 'press_atm_t-24', 'press_atm_t-7', 'press_atm_t-16', 'press_atm_t-10', 'press_atm_t-9', 'press_atm_t-19', 'press_atm_t-25', 'press_atm_t-8', 'press_atm_t-11', 'press_atm_t-12', 'press_atm_t-30', 'press_atm_t-15', 'press_atm_t-29', 'press_atm_t-20', 'press_atm_t-18', 'press_atm_t-22', 'press_atm_t-13', 'press_atm_t-17', 'press_atm_t-28', 'press_atm_t-14', 'press_atm_t-26', 'press_atm_t-27', 'press_atm_t-21'], ['temp_max_t-8', 'J_t-13', 'umi_rel_t-9', 'umi_min_t-16', 'J_t-14', 'J_t-16', 'umi_rel_t-13', 'J_t-9', 'J_t-27', 'J_t-10', 'J_t-29', 'umi_min_t-9', 'J_t-18', 'J_t-25', 'umi_rel_t-12', 'umi_max_t-14', 'J_t-23', 'J_t-28', 'J_t-22', 'temp_media_t-8', 'Eto_t-8', 'Eto_t-14', 'Eto_t-30', 'vento_t-24', 'J_t-26', 'J_t-8', 'vento_t-29', 'umi_rel_t-8', 'umi_rel_t-30', 'umi_rel_t-14', 'umi_rel_t-18', 'Eto_t-24', 'temp_max_t-14', 'vento_t-28', 'Eto_t-7', 'vento_t-13', 'umi_max_t-30', 'J_t-30', 'umi_rel_t-16', 'radiacao_t-7', 'vento_t-25', 'temp_min_t-25', 'J_t-11', 'umi_min_t-13', 'press_atm_t-20', 'Eto_t-15', 'umi_min_t-22', 'temp_media_t-7', 'Eto_t-12', 'umi_min_t-27', 'Eto_t-18', 'press_atm_t-18', 'press_atm_t-9', 'J_t-15', 'Eto_t-19', 'vento_t-8', 'temp_max_t-17', 'Eto_t-13', 'temp_max_t-30', 'umi_max_t-12', 'Eto_t-25', 'umi_max_t-13', 'Eto_t-9', 'umi_rel_t-17', 'J_t-12', 'vento_t-10', 'press_atm_t-19', 'vento_t-22', 'umi_min_t-19', 'radiacao_t-13', 'press_atm_t-8', 'J_t-24', 'Eto_t-11', 'umi_min_t-10', 'temp_media_t-18', 'umi_min_t-15', 'umi_max_t-23', 'umi_max_t-11', 'press_atm_t-17', 'umi_rel_t-11', 'vento_t-23', 'Eto_t-27', 'umi_rel_t-25', 'vento_t-16', 'temp_media_t-20', 'umi_min_t-17', 'temp_media_t-30', 'temp_min_t-14', 'umi_rel_t-28', 'press_atm_t-23', 'temp_max_t-15', 'umi_rel_t-15', 'Eto_t-10', 'temp_min_t-7', 'temp_min_t-30', 'temp_media_t-28', 'umi_min_t-11', 'J_t-17', 'umi_max_t-18', 'radiacao_t-30', 'umi_max_t-19', 'press_atm_t-30', 'temp_media_t-13', 'umi_max_t-7', 'temp_media_t-29', 'umi_min_t-18', 'vento_t-14', 'radiacao_t-11', 'temp_min_t-8', 'radiacao_t-8', 'Eto_t-22', 'umi_min_t-24', 'umi_max_t-17', 'radiacao_t-23', 'temp_max_t-16', 'umi_rel_t-10', 'umi_min_t-20', 'J_t-20', 'temp_media_t-25', 'umi_min_t-29', 'radiacao_t-28', 'temp_min_t-11', 'temp_min_t-12', 'vento_t-30', 'vento_t-18', 'vento_t-19', 'temp_max_t-19', 'umi_min_t-30', 'temp_min_t-17', 'Eto_t-16', 'Eto_t-20', 'vento_t-12', 'temp_min_t-16', 'radiacao_t-25', 'vento_t-17', 'temp_min_t-9', 'Eto_t-21', 'umi_min_t-28', 'radiacao_t-14', 'press_atm_t-7', 'temp_min_t-13', 'temp_media_t-24', 'press_atm_t-13', 'radiacao_t-18', 'umi_rel_t-22', 'temp_media_t-22', 'vento_t-9', 'temp_min_t-21', 'umi_rel_t-27', 'temp_max_t-11', 'umi_max_t-16', 'umi_max_t-20', 'temp_max_t-20', 'vento_t-21', 'press_atm_t-26', 'umi_max_t-27', 'temp_media_t-23', 'umi_rel_t-26', 'umi_min_t-25', 'press_atm_t-11', 'radiacao_t-17', 'press_atm_t-14', 'temp_min_t-24', 'umi_max_t-29', 'temp_min_t-23', 'vento_t-20', 'temp_min_t-22', 'J_t-7', 'temp_media_t-12', 'temp_max_t-25', 'press_atm_t-29', 'vento_t-15', 'temp_max_t-7', 'umi_min_t-12', 'temp_max_t-22', 'radiacao_t-10', 'press_atm_t-15', 'temp_min_t-29', 'radiacao_t-21', 'radiacao_t-19', 'umi_rel_t-23', 'temp_max_t-26', 'J_t-19', 'radiacao_t-12', 'umi_rel_t-21', 'vento_t-27', 'temp_min_t-26', 'radiacao_t-29', 'umi_rel_t-20', 'umi_max_t-28', 'umi_min_t-23', 'temp_media_t-16', 'vento_t-26', 'Eto_t-26', 'umi_min_t-21', 'press_atm_t-10', 'press_atm_t-12', 'temp_min_t-20', 'umi_max_t-9', 'temp_media_t-27', 'temp_min_t-19', 'temp_min_t-10', 'umi_min_t-14', 'umi_min_t-7', 'temp_media_t-26', 'umi_rel_t-29', 'radiacao_t-27', 'umi_max_t-8', 'Eto_t-17', 'radiacao_t-24', 'umi_rel_t-24', 'temp_media_t-19', 'temp_max_t-18', 'temp_max_t-29', 'temp_min_t-18', 'radiacao_t-22', 'press_atm_t-24', 'temp_media_t-14', 'temp_max_t-24', 'umi_max_t-24', 'umi_min_t-8', 'umi_max_t-10', 'temp_max_t-28', 'umi_rel_t-7', 'temp_min_t-28', 'press_atm_t-27', 'umi_max_t-15', 'radiacao_t-9', 'umi_rel_t-19', 'temp_max_t-13', 'temp_max_t-23', 'radiacao_t-16', 'umi_max_t-25', 'umi_max_t-21', 'temp_min_t-27', 'temp_media_t-10', 'vento_t-11', 'temp_media_t-21', 'temp_media_t-15', 'temp_max_t-10', 'press_atm_t-22', 'temp_max_t-12', 'Eto_t-29', 'umi_max_t-26', 'J_t-21', 'temp_media_t-11', 'Eto_t-28', 'temp_max_t-9', 'temp_media_t-9', 'radiacao_t-15', 'radiacao_t-26', 'press_atm_t-21', 'press_atm_t-28', 'press_atm_t-25', 'temp_max_t-21', 'vento_t-7', 'press_atm_t-16', 'umi_min_t-26', 'radiacao_t-20', 'temp_media_t-17', 'umi_max_t-22', 'Eto_t-23', 'temp_max_t-27', 'temp_min_t-15'])\n",
            "lista_selecionada [['umi_rel', '13'], ['umi_rel', '9'], ['umi_rel', '8'], ['umi_rel', '12'], ['umi_rel', '14'], ['umi_rel', '7'], ['umi_rel', '10'], ['Eto', '13'], ['Eto', '8'], ['umi_rel', '11']]\n",
            "lista ['umi_rel']\n",
            "Eto ['Eto']\n",
            "lags [[13, 9, 8, 12, 14, 7, 10, 11]]\n",
            "lags_eto [13, 8]\n",
            "lista_selecionada [['temp_max', '8'], ['J', '13'], ['umi_rel', '9'], ['umi_min', '16'], ['J', '14'], ['J', '16'], ['umi_rel', '13'], ['J', '9'], ['J', '27'], ['J', '10']]\n",
            "lista ['temp_max', 'J', 'umi_rel', 'umi_min']\n",
            "Eto []\n",
            "lags [[8], [13, 14, 16, 9, 27, 10], [9, 13], [16]]\n",
            "lags_eto []\n",
            "\n",
            " -----------Para----7----dias --------\n",
            "\n",
            "lista_Formatada_1 ------->  [['umi_rel'], [[13, 9, 8, 12, 14, 7, 10, 11]], ['Eto'], [13, 8]]\n",
            "lista_Formatada_2 ------->  [['temp_max', 'J', 'umi_rel', 'umi_min'], [[8], [13, 14, 16, 9, 27, 10], [9, 13], [16]], [], []]\n",
            "lista_Formatada_3 ------->  [['vento', 'radiacao', 'temp_max', 'temp_min', 'umi_max', 'umi_min', 'umi_rel', 'press_atm', 'temp_media', 'J'], [[7, 8, 9, 10, 11, 12, 13, 14, 15, 16, 17, 18, 19, 20, 21, 22, 23, 24, 25, 26, 27, 28, 29, 30], [7, 8, 9, 10, 11, 12, 13, 14, 15, 16, 17, 18, 19, 20, 21, 22, 23, 24, 25, 26, 27, 28, 29, 30], [7, 8, 9, 10, 11, 12, 13, 14, 15, 16, 17, 18, 19, 20, 21, 22, 23, 24, 25, 26, 27, 28, 29, 30], [7, 8, 9, 10, 11, 12, 13, 14, 15, 16, 17, 18, 19, 20, 21, 22, 23, 24, 25, 26, 27, 28, 29, 30], [7, 8, 9, 10, 11, 12, 13, 14, 15, 16, 17, 18, 19, 20, 21, 22, 23, 24, 25, 26, 27, 28, 29, 30], [7, 8, 9, 10, 11, 12, 13, 14, 15, 16, 17, 18, 19, 20, 21, 22, 23, 24, 25, 26, 27, 28, 29, 30], [7, 8, 9, 10, 11, 12, 13, 14, 15, 16, 17, 18, 19, 20, 21, 22, 23, 24, 25, 26, 27, 28, 29, 30], [7, 8, 9, 10, 11, 12, 13, 14, 15, 16, 17, 18, 19, 20, 21, 22, 23, 24, 25, 26, 27, 28, 29, 30], [7, 8, 9, 10, 11, 12, 13, 14, 15, 16, 17, 18, 19, 20, 21, 22, 23, 24, 25, 26, 27, 28, 29, 30], [7, 8, 9, 10, 11, 12, 13, 14, 15, 16, 17, 18, 19, 20, 21, 22, 23, 24, 25, 26, 27, 28, 29, 30]], ['Eto'], [7, 8, 9, 10, 11, 12, 13, 14, 15, 16, 17, 18, 19, 20, 21, 22, 23, 24, 25, 26, 27, 28, 29, 30]]\n",
            "\n",
            " ---------------------------------------------\n",
            "\n"
          ]
        },
        {
          "output_type": "stream",
          "name": "stderr",
          "text": [
            "/usr/local/lib/python3.7/dist-packages/ipykernel_launcher.py:20: PerformanceWarning: DataFrame is highly fragmented.  This is usually the result of calling `frame.insert` many times, which has poor performance.  Consider joining all columns at once using pd.concat(axis=1) instead.  To get a de-fragmented frame, use `newframe = frame.copy()`\n",
            "/usr/local/lib/python3.7/dist-packages/ipykernel_launcher.py:29: PerformanceWarning: DataFrame is highly fragmented.  This is usually the result of calling `frame.insert` many times, which has poor performance.  Consider joining all columns at once using pd.concat(axis=1) instead.  To get a de-fragmented frame, use `newframe = frame.copy()`\n"
          ]
        },
        {
          "output_type": "stream",
          "name": "stdout",
          "text": [
            "(['umi_rel_t-13', 'umi_rel_t-12', 'umi_rel_t-14', 'umi_rel_t-10', 'Eto_t-13', 'umi_rel_t-11', 'umi_rel_t-15', 'umi_rel_t-16', 'Eto_t-14', 'umi_rel_t-17', 'Eto_t-12', 'umi_min_t-13', 'Eto_t-10', 'Eto_t-11', 'umi_min_t-14', 'umi_rel_t-18', 'Eto_t-15', 'umi_min_t-10', 'umi_min_t-12', 'umi_rel_t-19', 'umi_rel_t-22', 'Eto_t-16', 'umi_rel_t-30', 'umi_rel_t-21', 'temp_media_t-13', 'Eto_t-17', 'umi_rel_t-20', 'umi_min_t-11', 'umi_rel_t-23', 'umi_min_t-16', 'temp_media_t-12', 'umi_max_t-12', 'umi_max_t-13', 'umi_min_t-17', 'umi_rel_t-29', 'temp_media_t-14', 'umi_min_t-15', 'umi_rel_t-24', 'temp_media_t-10', 'umi_max_t-11', 'umi_max_t-14', 'umi_rel_t-25', 'Eto_t-18', 'umi_max_t-10', 'temp_media_t-11', 'Eto_t-19', 'umi_rel_t-28', 'umi_min_t-22', 'temp_media_t-17', 'umi_min_t-23', 'umi_rel_t-26', 'temp_media_t-15', 'umi_max_t-15', 'umi_min_t-19', 'umi_min_t-18', 'umi_max_t-16', 'temp_media_t-16', 'temp_media_t-19', 'umi_rel_t-27', 'Eto_t-20', 'umi_min_t-21', 'Eto_t-21', 'Eto_t-22', 'Eto_t-23', 'temp_media_t-18', 'umi_max_t-17', 'temp_media_t-23', 'umi_min_t-30', 'umi_min_t-24', 'temp_media_t-22', 'Eto_t-30', 'umi_min_t-20', 'temp_media_t-20', 'umi_min_t-25', 'temp_media_t-21', 'Eto_t-24', 'Eto_t-29', 'Eto_t-25', 'umi_max_t-18', 'temp_media_t-24', 'Eto_t-28', 'umi_max_t-19', 'umi_min_t-29', 'temp_max_t-13', 'temp_media_t-30', 'umi_min_t-26', 'umi_min_t-28', 'Eto_t-26', 'temp_max_t-14', 'umi_max_t-20', 'temp_max_t-12', 'temp_media_t-25', 'temp_media_t-29', 'umi_max_t-29', 'umi_max_t-22', 'umi_max_t-30', 'Eto_t-27', 'umi_max_t-21', 'temp_max_t-15', 'umi_min_t-27', 'temp_media_t-28', 'temp_max_t-10', 'umi_max_t-23', 'temp_min_t-12', 'umi_max_t-26', 'temp_max_t-11', 'temp_max_t-17', 'temp_max_t-16', 'temp_min_t-13', 'umi_max_t-24', 'temp_media_t-26', 'temp_max_t-23', 'umi_max_t-28', 'J_t-10', 'umi_max_t-25', 'J_t-11', 'umi_max_t-27', 'J_t-12', 'temp_min_t-11', 'temp_max_t-19', 'temp_media_t-27', 'temp_min_t-14', 'temp_min_t-10', 'J_t-13', 'J_t-16', 'J_t-14', 'J_t-15', 'J_t-17', 'temp_max_t-24', 'J_t-18', 'temp_max_t-18', 'J_t-19', 'temp_max_t-22', 'temp_max_t-20', 'J_t-20', 'temp_min_t-17', 'temp_max_t-25', 'J_t-21', 'radiacao_t-13', 'J_t-30', 'radiacao_t-14', 'temp_max_t-21', 'temp_min_t-19', 'temp_min_t-15', 'J_t-29', 'J_t-22', 'J_t-28', 'J_t-26', 'temp_min_t-16', 'J_t-27', 'J_t-25', 'temp_min_t-18', 'J_t-23', 'radiacao_t-23', 'radiacao_t-10', 'J_t-24', 'radiacao_t-30', 'temp_max_t-28', 'temp_min_t-22', 'temp_max_t-30', 'temp_max_t-29', 'temp_min_t-20', 'radiacao_t-22', 'radiacao_t-15', 'radiacao_t-24', 'temp_min_t-23', 'temp_max_t-26', 'temp_min_t-21', 'radiacao_t-21', 'radiacao_t-25', 'radiacao_t-17', 'radiacao_t-19', 'radiacao_t-16', 'radiacao_t-11', 'radiacao_t-12', 'radiacao_t-18', 'radiacao_t-20', 'radiacao_t-28', 'temp_max_t-27', 'temp_min_t-30', 'radiacao_t-29', 'temp_min_t-29', 'radiacao_t-26', 'temp_min_t-24', 'temp_min_t-25', 'temp_min_t-28', 'radiacao_t-27', 'temp_min_t-26', 'temp_min_t-27', 'vento_t-14', 'vento_t-13', 'vento_t-12', 'vento_t-15', 'vento_t-28', 'vento_t-29', 'vento_t-26', 'vento_t-10', 'vento_t-11', 'vento_t-30', 'vento_t-27', 'vento_t-19', 'vento_t-25', 'vento_t-16', 'vento_t-18', 'vento_t-20', 'vento_t-17', 'vento_t-21', 'vento_t-24', 'vento_t-23', 'vento_t-22', 'press_atm_t-23', 'press_atm_t-24', 'press_atm_t-16', 'press_atm_t-10', 'press_atm_t-19', 'press_atm_t-25', 'press_atm_t-11', 'press_atm_t-12', 'press_atm_t-30', 'press_atm_t-15', 'press_atm_t-29', 'press_atm_t-20', 'press_atm_t-18', 'press_atm_t-22', 'press_atm_t-13', 'press_atm_t-17', 'press_atm_t-28', 'press_atm_t-14', 'press_atm_t-26', 'press_atm_t-27', 'press_atm_t-21'], ['J_t-21', 'J_t-14', 'J_t-30', 'umi_min_t-13', 'J_t-12', 'J_t-11', 'J_t-23', 'J_t-24', 'J_t-16', 'J_t-15', 'umi_rel_t-17', 'J_t-18', 'umi_rel_t-10', 'Eto_t-16', 'umi_rel_t-12', 'J_t-20', 'J_t-13', 'Eto_t-14', 'J_t-26', 'umi_rel_t-13', 'umi_min_t-17', 'umi_min_t-16', 'Eto_t-15', 'J_t-17', 'umi_max_t-11', 'Eto_t-10', 'umi_min_t-30', 'Eto_t-13', 'Eto_t-30', 'temp_media_t-12', 'umi_rel_t-30', 'umi_rel_t-16', 'vento_t-24', 'Eto_t-11', 'press_atm_t-28', 'temp_max_t-16', 'umi_rel_t-15', 'J_t-10', 'vento_t-23', 'temp_max_t-12', 'vento_t-16', 'Eto_t-17', 'vento_t-30', 'umi_max_t-17', 'Eto_t-25', 'J_t-19', 'temp_media_t-23', 'umi_rel_t-14', 'radiacao_t-10', 'press_atm_t-26', 'temp_min_t-30', 'temp_max_t-28', 'umi_rel_t-11', 'umi_max_t-15', 'vento_t-13', 'vento_t-29', 'vento_t-14', 'Eto_t-12', 'temp_media_t-16', 'temp_min_t-10', 'umi_max_t-10', 'umi_rel_t-24', 'vento_t-17', 'vento_t-18', 'vento_t-25', 'temp_media_t-24', 'press_atm_t-17', 'temp_min_t-27', 'radiacao_t-13', 'umi_max_t-27', 'Eto_t-26', 'vento_t-27', 'vento_t-20', 'temp_media_t-20', 'umi_rel_t-22', 'radiacao_t-21', 'umi_max_t-13', 'umi_rel_t-19', 'temp_media_t-14', 'press_atm_t-16', 'radiacao_t-12', 'temp_max_t-30', 'press_atm_t-29', 'press_atm_t-13', 'umi_max_t-18', 'radiacao_t-20', 'umi_min_t-22', 'temp_min_t-19', 'umi_min_t-19', 'J_t-28', 'Eto_t-24', 'temp_max_t-27', 'press_atm_t-27', 'umi_rel_t-28', 'umi_min_t-20', 'temp_media_t-11', 'Eto_t-20', 'radiacao_t-24', 'vento_t-10', 'temp_max_t-15', 'radiacao_t-25', 'temp_media_t-26', 'Eto_t-19', 'umi_max_t-14', 'umi_min_t-12', 'vento_t-11', 'radiacao_t-28', 'press_atm_t-21', 'temp_media_t-28', 'umi_rel_t-25', 'vento_t-12', 'radiacao_t-17', 'vento_t-26', 'press_atm_t-19', 'temp_min_t-21', 'radiacao_t-14', 'radiacao_t-22', 'temp_min_t-14', 'radiacao_t-18', 'umi_min_t-10', 'press_atm_t-24', 'Eto_t-29', 'radiacao_t-30', 'umi_rel_t-18', 'vento_t-28', 'temp_media_t-21', 'umi_min_t-24', 'temp_min_t-13', 'temp_min_t-18', 'press_atm_t-18', 'Eto_t-18', 'temp_max_t-14', 'umi_rel_t-27', 'umi_min_t-29', 'temp_media_t-30', 'Eto_t-23', 'umi_max_t-24', 'vento_t-21', 'temp_min_t-16', 'temp_min_t-22', 'temp_min_t-29', 'press_atm_t-14', 'umi_min_t-27', 'temp_max_t-10', 'umi_min_t-21', 'temp_min_t-11', 'temp_min_t-23', 'temp_media_t-29', 'J_t-29', 'umi_max_t-30', 'temp_min_t-25', 'temp_media_t-17', 'umi_min_t-14', 'umi_max_t-23', 'radiacao_t-19', 'temp_media_t-19', 'temp_max_t-24', 'radiacao_t-27', 'temp_media_t-27', 'umi_min_t-25', 'press_atm_t-11', 'press_atm_t-10', 'umi_min_t-18', 'umi_min_t-23', 'umi_min_t-28', 'Eto_t-22', 'press_atm_t-12', 'press_atm_t-30', 'temp_min_t-12', 'umi_min_t-26', 'temp_max_t-22', 'temp_max_t-23', 'radiacao_t-16', 'temp_min_t-20', 'temp_min_t-24', 'umi_max_t-26', 'press_atm_t-23', 'umi_rel_t-23', 'temp_max_t-19', 'temp_max_t-18', 'umi_max_t-19', 'radiacao_t-29', 'temp_media_t-22', 'press_atm_t-25', 'umi_max_t-28', 'radiacao_t-23', 'temp_max_t-25', 'umi_max_t-22', 'umi_min_t-15', 'temp_max_t-17', 'press_atm_t-15', 'radiacao_t-11', 'press_atm_t-20', 'umi_min_t-11', 'umi_max_t-12', 'umi_max_t-16', 'J_t-27', 'temp_max_t-13', 'temp_media_t-18', 'temp_min_t-15', 'Eto_t-21', 'umi_max_t-20', 'Eto_t-28', 'radiacao_t-15', 'umi_rel_t-20', 'umi_rel_t-29', 'radiacao_t-26', 'J_t-22', 'temp_media_t-10', 'vento_t-15', 'temp_min_t-28', 'vento_t-22', 'press_atm_t-22', 'temp_max_t-20', 'umi_rel_t-26', 'temp_media_t-25', 'temp_media_t-15', 'vento_t-19', 'temp_max_t-21', 'umi_max_t-25', 'temp_min_t-26', 'temp_max_t-11', 'umi_max_t-29', 'temp_max_t-29', 'temp_media_t-13', 'Eto_t-27', 'umi_rel_t-21', 'umi_max_t-21', 'temp_min_t-17', 'temp_max_t-26', 'J_t-25'])\n",
            "lista_selecionada [['umi_rel', '13'], ['umi_rel', '12'], ['umi_rel', '14'], ['umi_rel', '10'], ['Eto', '13'], ['umi_rel', '11'], ['umi_rel', '15'], ['umi_rel', '16'], ['Eto', '14'], ['umi_rel', '17']]\n",
            "lista ['umi_rel']\n",
            "Eto ['Eto']\n",
            "lags [[13, 12, 14, 10, 11, 15, 16, 17]]\n",
            "lags_eto [13, 14]\n",
            "lista_selecionada [['J', '21'], ['J', '14'], ['J', '30'], ['umi_min', '13'], ['J', '12'], ['J', '11'], ['J', '23'], ['J', '24'], ['J', '16'], ['J', '15']]\n",
            "lista ['J', 'umi_min']\n",
            "Eto []\n",
            "lags [[21, 14, 30, 12, 11, 23, 24, 16, 15], [13]]\n",
            "lags_eto []\n",
            "\n",
            " -----------Para----10----dias --------\n",
            "\n",
            "lista_Formatada_1 ------->  [['umi_rel'], [[13, 12, 14, 10, 11, 15, 16, 17]], ['Eto'], [13, 14]]\n",
            "lista_Formatada_2 ------->  [['J', 'umi_min'], [[21, 14, 30, 12, 11, 23, 24, 16, 15], [13]], [], []]\n",
            "lista_Formatada_3 ------->  [['vento', 'radiacao', 'temp_max', 'temp_min', 'umi_max', 'umi_min', 'umi_rel', 'press_atm', 'temp_media', 'J'], [[10, 11, 12, 13, 14, 15, 16, 17, 18, 19, 20, 21, 22, 23, 24, 25, 26, 27, 28, 29, 30], [10, 11, 12, 13, 14, 15, 16, 17, 18, 19, 20, 21, 22, 23, 24, 25, 26, 27, 28, 29, 30], [10, 11, 12, 13, 14, 15, 16, 17, 18, 19, 20, 21, 22, 23, 24, 25, 26, 27, 28, 29, 30], [10, 11, 12, 13, 14, 15, 16, 17, 18, 19, 20, 21, 22, 23, 24, 25, 26, 27, 28, 29, 30], [10, 11, 12, 13, 14, 15, 16, 17, 18, 19, 20, 21, 22, 23, 24, 25, 26, 27, 28, 29, 30], [10, 11, 12, 13, 14, 15, 16, 17, 18, 19, 20, 21, 22, 23, 24, 25, 26, 27, 28, 29, 30], [10, 11, 12, 13, 14, 15, 16, 17, 18, 19, 20, 21, 22, 23, 24, 25, 26, 27, 28, 29, 30], [10, 11, 12, 13, 14, 15, 16, 17, 18, 19, 20, 21, 22, 23, 24, 25, 26, 27, 28, 29, 30], [10, 11, 12, 13, 14, 15, 16, 17, 18, 19, 20, 21, 22, 23, 24, 25, 26, 27, 28, 29, 30], [10, 11, 12, 13, 14, 15, 16, 17, 18, 19, 20, 21, 22, 23, 24, 25, 26, 27, 28, 29, 30]], ['Eto'], [10, 11, 12, 13, 14, 15, 16, 17, 18, 19, 20, 21, 22, 23, 24, 25, 26, 27, 28, 29, 30]]\n",
            "\n",
            " ---------------------------------------------\n",
            "\n"
          ]
        }
      ]
    },
    {
      "cell_type": "markdown",
      "metadata": {
        "id": "MRitGJ5MCjFh"
      },
      "source": [
        "# Para  1 dia - Grid Arvore"
      ]
    },
    {
      "cell_type": "code",
      "metadata": {
        "id": "8pYM2tzGC67E"
      },
      "source": [
        "\n",
        "lista_Formatada_1=  [['umi_rel', 'umi_min', 'temp_media', 'temp_max', 'radiacao', 'umi_max', 'temp_min'], [[1, 2], [1], [1], [1], [1], [1], [1]], ['Eto'], [1, 2]]\n",
        "lista_Formatada_2=  [['umi_min', 'umi_rel', 'temp_max', 'temp_media', 'radiacao', 'vento', 'umi_max'], [[1], [1, 16], [1], [2, 1], [1], [1], [1]], ['Eto'], [1]]"
      ],
      "execution_count": 37,
      "outputs": []
    },
    {
      "cell_type": "code",
      "metadata": {
        "colab": {
          "base_uri": "https://localhost:8080/"
        },
        "id": "I5kq7nkVzomg",
        "outputId": "4a027d21-56fe-450c-89fa-1a68640326d1"
      },
      "source": [
        "parametrosSearchA=gridSearchAs(df,[lista_Formatada_1,lista_Formatada_2],\"Eto\")"
      ],
      "execution_count": 38,
      "outputs": [
        {
          "output_type": "stream",
          "name": "stdout",
          "text": [
            "---------------------------------------------------------------------------------\n",
            "***************************************\n",
            "(1824, 10) x1_train\n",
            "*****************++*********************\n",
            "(731, 10) x1_test\n",
            "******************---********************\n",
            "(1824,) y1_train\n",
            "****************1234*********************\n",
            "(731,) y1_test\n",
            "*****************asddfg******************\n",
            " -----------------grid_search.fit--------------\n",
            "Fitting 3 folds for each of 50400 candidates, totalling 151200 fits\n"
          ]
        },
        {
          "output_type": "stream",
          "name": "stderr",
          "text": [
            "/usr/local/lib/python3.7/dist-packages/sklearn/model_selection/_validation.py:372: FitFailedWarning: \n",
            "67200 fits failed out of a total of 151200.\n",
            "The score on these train-test partitions for these parameters will be set to nan.\n",
            "If these failures are not expected, you can try to debug them by setting error_score='raise'.\n",
            "\n",
            "Below are more details about the failures:\n",
            "--------------------------------------------------------------------------------\n",
            "67200 fits failed with the following error:\n",
            "Traceback (most recent call last):\n",
            "  File \"/usr/local/lib/python3.7/dist-packages/sklearn/model_selection/_validation.py\", line 680, in _fit_and_score\n",
            "    estimator.fit(X_train, y_train, **fit_params)\n",
            "  File \"/usr/local/lib/python3.7/dist-packages/sklearn/tree/_classes.py\", line 1320, in fit\n",
            "    X_idx_sorted=X_idx_sorted,\n",
            "  File \"/usr/local/lib/python3.7/dist-packages/sklearn/tree/_classes.py\", line 304, in fit\n",
            "    raise ValueError(\"min_weight_fraction_leaf must in [0, 0.5]\")\n",
            "ValueError: min_weight_fraction_leaf must in [0, 0.5]\n",
            "\n",
            "  warnings.warn(some_fits_failed_message, FitFailedWarning)\n",
            "/usr/local/lib/python3.7/dist-packages/sklearn/model_selection/_search.py:972: UserWarning: One or more of the test scores are non-finite: [-1.161 -1.449 -1.161 ...    nan    nan    nan]\n",
            "  category=UserWarning,\n",
            "/usr/local/lib/python3.7/dist-packages/sklearn/model_selection/_search.py:972: UserWarning: One or more of the train scores are non-finite: [-1.11  -1.424 -1.11  ...    nan    nan    nan]\n",
            "  category=UserWarning,\n"
          ]
        },
        {
          "output_type": "stream",
          "name": "stdout",
          "text": [
            "0 Best_hyperparameter_Arvore {'max_depth': 5, 'max_features': 'auto', 'max_leaf_nodes': None, 'min_samples_leaf': 1, 'min_weight_fraction_leaf': 0.1, 'splitter': 'best'}\n",
            "***************************************\n",
            "(1810, 10) x1_train\n",
            "*****************++*********************\n",
            "(731, 10) x1_test\n",
            "******************---********************\n",
            "(1810,) y1_train\n",
            "****************1234*********************\n",
            "(731,) y1_test\n",
            "*****************asddfg******************\n",
            " -----------------grid_search.fit--------------\n",
            "Fitting 3 folds for each of 50400 candidates, totalling 151200 fits\n"
          ]
        },
        {
          "output_type": "stream",
          "name": "stderr",
          "text": [
            "/usr/local/lib/python3.7/dist-packages/sklearn/model_selection/_validation.py:372: FitFailedWarning: \n",
            "67200 fits failed out of a total of 151200.\n",
            "The score on these train-test partitions for these parameters will be set to nan.\n",
            "If these failures are not expected, you can try to debug them by setting error_score='raise'.\n",
            "\n",
            "Below are more details about the failures:\n",
            "--------------------------------------------------------------------------------\n",
            "67200 fits failed with the following error:\n",
            "Traceback (most recent call last):\n",
            "  File \"/usr/local/lib/python3.7/dist-packages/sklearn/model_selection/_validation.py\", line 680, in _fit_and_score\n",
            "    estimator.fit(X_train, y_train, **fit_params)\n",
            "  File \"/usr/local/lib/python3.7/dist-packages/sklearn/tree/_classes.py\", line 1320, in fit\n",
            "    X_idx_sorted=X_idx_sorted,\n",
            "  File \"/usr/local/lib/python3.7/dist-packages/sklearn/tree/_classes.py\", line 304, in fit\n",
            "    raise ValueError(\"min_weight_fraction_leaf must in [0, 0.5]\")\n",
            "ValueError: min_weight_fraction_leaf must in [0, 0.5]\n",
            "\n",
            "  warnings.warn(some_fits_failed_message, FitFailedWarning)\n"
          ]
        },
        {
          "output_type": "stream",
          "name": "stdout",
          "text": [
            "1 Best_hyperparameter_Arvore {'max_depth': 5, 'max_features': 'auto', 'max_leaf_nodes': None, 'min_samples_leaf': 1, 'min_weight_fraction_leaf': 0.1, 'splitter': 'best'}\n",
            "---------------------------------------------------------------------------------\n"
          ]
        },
        {
          "output_type": "stream",
          "name": "stderr",
          "text": [
            "/usr/local/lib/python3.7/dist-packages/sklearn/model_selection/_search.py:972: UserWarning: One or more of the test scores are non-finite: [-1.158 -1.219 -1.158 ...    nan    nan    nan]\n",
            "  category=UserWarning,\n",
            "/usr/local/lib/python3.7/dist-packages/sklearn/model_selection/_search.py:972: UserWarning: One or more of the train scores are non-finite: [-1.117 -1.215 -1.117 ...    nan    nan    nan]\n",
            "  category=UserWarning,\n"
          ]
        }
      ]
    },
    {
      "cell_type": "code",
      "metadata": {
        "id": "eP5BNxMWiqvw"
      },
      "source": [
        "# 0 Best_hyperparameter_Arvore {'max_depth': 5, 'max_features': 'auto', 'max_leaf_nodes': None, 'min_samples_leaf': 1, 'min_weight_fraction_leaf': 0.1, 'splitter': 'best'}\n",
        "# 1 Best_hyperparameter_Arvore {'max_depth': 5, 'max_features': 'auto', 'max_leaf_nodes': None, 'min_samples_leaf': 1, 'min_weight_fraction_leaf': 0.1, 'splitter': 'best'}"
      ],
      "execution_count": 39,
      "outputs": []
    },
    {
      "cell_type": "markdown",
      "metadata": {
        "id": "n9anPfPWZpp1"
      },
      "source": [
        "#Para  3 dias - Grid Arvore"
      ]
    },
    {
      "cell_type": "code",
      "metadata": {
        "id": "hxV_eKviYjB3"
      },
      "source": [
        "lista_Formatada_1=  [['umi_rel'], [[3, 13, 9, 8, 4, 12, 14, 7, 10]], ['Eto'], [3]]\n",
        "lista_Formatada_2=  [['J', 'umi_min'], [[4, 5, 19, 15, 6, 13, 7, 21], [4]], ['Eto'], [13]]"
      ],
      "execution_count": 40,
      "outputs": []
    },
    {
      "cell_type": "code",
      "metadata": {
        "colab": {
          "base_uri": "https://localhost:8080/"
        },
        "id": "G2A56wB-at2-",
        "outputId": "5e0bb0bf-ffbf-4d81-cb31-4e2e9d17332b"
      },
      "source": [
        "parametrosSearchA=gridSearchAs(df,[lista_Formatada_1,lista_Formatada_2],\"Eto\")\n"
      ],
      "execution_count": 41,
      "outputs": [
        {
          "output_type": "stream",
          "name": "stdout",
          "text": [
            "---------------------------------------------------------------------------------\n",
            "***************************************\n",
            "(1812, 10) x1_train\n",
            "*****************++*********************\n",
            "(731, 10) x1_test\n",
            "******************---********************\n",
            "(1812,) y1_train\n",
            "****************1234*********************\n",
            "(731,) y1_test\n",
            "*****************asddfg******************\n",
            " -----------------grid_search.fit--------------\n",
            "Fitting 3 folds for each of 50400 candidates, totalling 151200 fits\n"
          ]
        },
        {
          "output_type": "stream",
          "name": "stderr",
          "text": [
            "/usr/local/lib/python3.7/dist-packages/sklearn/model_selection/_validation.py:372: FitFailedWarning: \n",
            "67200 fits failed out of a total of 151200.\n",
            "The score on these train-test partitions for these parameters will be set to nan.\n",
            "If these failures are not expected, you can try to debug them by setting error_score='raise'.\n",
            "\n",
            "Below are more details about the failures:\n",
            "--------------------------------------------------------------------------------\n",
            "67200 fits failed with the following error:\n",
            "Traceback (most recent call last):\n",
            "  File \"/usr/local/lib/python3.7/dist-packages/sklearn/model_selection/_validation.py\", line 680, in _fit_and_score\n",
            "    estimator.fit(X_train, y_train, **fit_params)\n",
            "  File \"/usr/local/lib/python3.7/dist-packages/sklearn/tree/_classes.py\", line 1320, in fit\n",
            "    X_idx_sorted=X_idx_sorted,\n",
            "  File \"/usr/local/lib/python3.7/dist-packages/sklearn/tree/_classes.py\", line 304, in fit\n",
            "    raise ValueError(\"min_weight_fraction_leaf must in [0, 0.5]\")\n",
            "ValueError: min_weight_fraction_leaf must in [0, 0.5]\n",
            "\n",
            "  warnings.warn(some_fits_failed_message, FitFailedWarning)\n",
            "/usr/local/lib/python3.7/dist-packages/sklearn/model_selection/_search.py:972: UserWarning: One or more of the test scores are non-finite: [-1.58  -1.601 -1.58  ...    nan    nan    nan]\n",
            "  category=UserWarning,\n",
            "/usr/local/lib/python3.7/dist-packages/sklearn/model_selection/_search.py:972: UserWarning: One or more of the train scores are non-finite: [-1.496 -1.582 -1.496 ...    nan    nan    nan]\n",
            "  category=UserWarning,\n"
          ]
        },
        {
          "output_type": "stream",
          "name": "stdout",
          "text": [
            "0 Best_hyperparameter_Arvore {'max_depth': 5, 'max_features': 'auto', 'max_leaf_nodes': 10, 'min_samples_leaf': 1, 'min_weight_fraction_leaf': 0.1, 'splitter': 'best'}\n",
            "***************************************\n",
            "(1805, 10) x1_train\n",
            "*****************++*********************\n",
            "(731, 10) x1_test\n",
            "******************---********************\n",
            "(1805,) y1_train\n",
            "****************1234*********************\n",
            "(731,) y1_test\n",
            "*****************asddfg******************\n",
            " -----------------grid_search.fit--------------\n",
            "Fitting 3 folds for each of 50400 candidates, totalling 151200 fits\n"
          ]
        },
        {
          "output_type": "stream",
          "name": "stderr",
          "text": [
            "/usr/local/lib/python3.7/dist-packages/sklearn/model_selection/_validation.py:372: FitFailedWarning: \n",
            "67200 fits failed out of a total of 151200.\n",
            "The score on these train-test partitions for these parameters will be set to nan.\n",
            "If these failures are not expected, you can try to debug them by setting error_score='raise'.\n",
            "\n",
            "Below are more details about the failures:\n",
            "--------------------------------------------------------------------------------\n",
            "67200 fits failed with the following error:\n",
            "Traceback (most recent call last):\n",
            "  File \"/usr/local/lib/python3.7/dist-packages/sklearn/model_selection/_validation.py\", line 680, in _fit_and_score\n",
            "    estimator.fit(X_train, y_train, **fit_params)\n",
            "  File \"/usr/local/lib/python3.7/dist-packages/sklearn/tree/_classes.py\", line 1320, in fit\n",
            "    X_idx_sorted=X_idx_sorted,\n",
            "  File \"/usr/local/lib/python3.7/dist-packages/sklearn/tree/_classes.py\", line 304, in fit\n",
            "    raise ValueError(\"min_weight_fraction_leaf must in [0, 0.5]\")\n",
            "ValueError: min_weight_fraction_leaf must in [0, 0.5]\n",
            "\n",
            "  warnings.warn(some_fits_failed_message, FitFailedWarning)\n"
          ]
        },
        {
          "output_type": "stream",
          "name": "stdout",
          "text": [
            "1 Best_hyperparameter_Arvore {'max_depth': 5, 'max_features': 'auto', 'max_leaf_nodes': None, 'min_samples_leaf': 1, 'min_weight_fraction_leaf': 0.1, 'splitter': 'random'}\n",
            "---------------------------------------------------------------------------------\n"
          ]
        },
        {
          "output_type": "stream",
          "name": "stderr",
          "text": [
            "/usr/local/lib/python3.7/dist-packages/sklearn/model_selection/_search.py:972: UserWarning: One or more of the test scores are non-finite: [-1.612 -1.623 -1.612 ...    nan    nan    nan]\n",
            "  category=UserWarning,\n",
            "/usr/local/lib/python3.7/dist-packages/sklearn/model_selection/_search.py:972: UserWarning: One or more of the train scores are non-finite: [-1.522 -1.583 -1.522 ...    nan    nan    nan]\n",
            "  category=UserWarning,\n"
          ]
        }
      ]
    },
    {
      "cell_type": "markdown",
      "metadata": {
        "id": "8xjZeWHrZvdV"
      },
      "source": [
        "# Para 7 dias Grid Arvore"
      ]
    },
    {
      "cell_type": "code",
      "metadata": {
        "id": "7EFF8RM4Iy9n"
      },
      "source": [
        "lista_Formatada_1=  [['umi_rel'], [[13, 9, 8, 12, 14, 7, 10, 11]], ['Eto'], [13, 8]]\n",
        "lista_Formatada_2=  [['temp_max', 'J', 'umi_rel', 'umi_min'], [[8], [13, 14, 16, 9, 27, 10], [9, 13], [16]], [], []]"
      ],
      "execution_count": 42,
      "outputs": []
    },
    {
      "cell_type": "code",
      "metadata": {
        "colab": {
          "base_uri": "https://localhost:8080/"
        },
        "id": "8CCr4Mrtan5X",
        "outputId": "6ad63567-6acd-4e42-afed-541ac6019af7"
      },
      "source": [
        "parametrosSearchA=gridSearchAs(df,[lista_Formatada_1,lista_Formatada_2],\"Eto\")\n"
      ],
      "execution_count": 43,
      "outputs": [
        {
          "output_type": "stream",
          "name": "stdout",
          "text": [
            "---------------------------------------------------------------------------------\n",
            "***************************************\n",
            "(1812, 10) x1_train\n",
            "*****************++*********************\n",
            "(731, 10) x1_test\n",
            "******************---********************\n",
            "(1812,) y1_train\n",
            "****************1234*********************\n",
            "(731,) y1_test\n",
            "*****************asddfg******************\n",
            " -----------------grid_search.fit--------------\n",
            "Fitting 3 folds for each of 50400 candidates, totalling 151200 fits\n"
          ]
        },
        {
          "output_type": "stream",
          "name": "stderr",
          "text": [
            "/usr/local/lib/python3.7/dist-packages/sklearn/model_selection/_validation.py:372: FitFailedWarning: \n",
            "67200 fits failed out of a total of 151200.\n",
            "The score on these train-test partitions for these parameters will be set to nan.\n",
            "If these failures are not expected, you can try to debug them by setting error_score='raise'.\n",
            "\n",
            "Below are more details about the failures:\n",
            "--------------------------------------------------------------------------------\n",
            "67200 fits failed with the following error:\n",
            "Traceback (most recent call last):\n",
            "  File \"/usr/local/lib/python3.7/dist-packages/sklearn/model_selection/_validation.py\", line 680, in _fit_and_score\n",
            "    estimator.fit(X_train, y_train, **fit_params)\n",
            "  File \"/usr/local/lib/python3.7/dist-packages/sklearn/tree/_classes.py\", line 1320, in fit\n",
            "    X_idx_sorted=X_idx_sorted,\n",
            "  File \"/usr/local/lib/python3.7/dist-packages/sklearn/tree/_classes.py\", line 304, in fit\n",
            "    raise ValueError(\"min_weight_fraction_leaf must in [0, 0.5]\")\n",
            "ValueError: min_weight_fraction_leaf must in [0, 0.5]\n",
            "\n",
            "  warnings.warn(some_fits_failed_message, FitFailedWarning)\n",
            "/usr/local/lib/python3.7/dist-packages/sklearn/model_selection/_search.py:972: UserWarning: One or more of the test scores are non-finite: [-1.605 -1.582 -1.605 ...    nan    nan    nan]\n",
            "  category=UserWarning,\n",
            "/usr/local/lib/python3.7/dist-packages/sklearn/model_selection/_search.py:972: UserWarning: One or more of the train scores are non-finite: [-1.505 -1.589 -1.505 ...    nan    nan    nan]\n",
            "  category=UserWarning,\n"
          ]
        },
        {
          "output_type": "stream",
          "name": "stdout",
          "text": [
            "0 Best_hyperparameter_Arvore {'max_depth': 7, 'max_features': 'auto', 'max_leaf_nodes': None, 'min_samples_leaf': 1, 'min_weight_fraction_leaf': 0.1, 'splitter': 'best'}\n",
            "***************************************\n",
            "(1799, 10) x1_train\n",
            "*****************++*********************\n",
            "(731, 10) x1_test\n",
            "******************---********************\n",
            "(1799,) y1_train\n",
            "****************1234*********************\n",
            "(731,) y1_test\n",
            "*****************asddfg******************\n",
            " -----------------grid_search.fit--------------\n",
            "Fitting 3 folds for each of 50400 candidates, totalling 151200 fits\n"
          ]
        },
        {
          "output_type": "stream",
          "name": "stderr",
          "text": [
            "/usr/local/lib/python3.7/dist-packages/sklearn/model_selection/_validation.py:372: FitFailedWarning: \n",
            "67200 fits failed out of a total of 151200.\n",
            "The score on these train-test partitions for these parameters will be set to nan.\n",
            "If these failures are not expected, you can try to debug them by setting error_score='raise'.\n",
            "\n",
            "Below are more details about the failures:\n",
            "--------------------------------------------------------------------------------\n",
            "67200 fits failed with the following error:\n",
            "Traceback (most recent call last):\n",
            "  File \"/usr/local/lib/python3.7/dist-packages/sklearn/model_selection/_validation.py\", line 680, in _fit_and_score\n",
            "    estimator.fit(X_train, y_train, **fit_params)\n",
            "  File \"/usr/local/lib/python3.7/dist-packages/sklearn/tree/_classes.py\", line 1320, in fit\n",
            "    X_idx_sorted=X_idx_sorted,\n",
            "  File \"/usr/local/lib/python3.7/dist-packages/sklearn/tree/_classes.py\", line 304, in fit\n",
            "    raise ValueError(\"min_weight_fraction_leaf must in [0, 0.5]\")\n",
            "ValueError: min_weight_fraction_leaf must in [0, 0.5]\n",
            "\n",
            "  warnings.warn(some_fits_failed_message, FitFailedWarning)\n"
          ]
        },
        {
          "output_type": "stream",
          "name": "stdout",
          "text": [
            "1 Best_hyperparameter_Arvore {'max_depth': 5, 'max_features': 'auto', 'max_leaf_nodes': 10, 'min_samples_leaf': 1, 'min_weight_fraction_leaf': 0.1, 'splitter': 'random'}\n",
            "---------------------------------------------------------------------------------\n"
          ]
        },
        {
          "output_type": "stream",
          "name": "stderr",
          "text": [
            "/usr/local/lib/python3.7/dist-packages/sklearn/model_selection/_search.py:972: UserWarning: One or more of the test scores are non-finite: [-1.608 -1.657 -1.608 ...    nan    nan    nan]\n",
            "  category=UserWarning,\n",
            "/usr/local/lib/python3.7/dist-packages/sklearn/model_selection/_search.py:972: UserWarning: One or more of the train scores are non-finite: [-1.516 -1.621 -1.516 ...    nan    nan    nan]\n",
            "  category=UserWarning,\n"
          ]
        }
      ]
    },
    {
      "cell_type": "markdown",
      "metadata": {
        "id": "gjsxoJgpZ7_o"
      },
      "source": [
        "# Para 10 dias - Grid Arvore"
      ]
    },
    {
      "cell_type": "code",
      "metadata": {
        "id": "-XU7YQm9aZov"
      },
      "source": [
        "lista_Formatada_1=  [['umi_rel'], [[13, 12, 14, 10, 11, 15, 16, 17]], ['Eto'], [13, 14]]\n",
        "lista_Formatada_2=  [['J', 'umi_min'], [[21, 14, 30, 12, 11, 23, 24, 16, 15], [13]], [], []]"
      ],
      "execution_count": 45,
      "outputs": []
    },
    {
      "cell_type": "code",
      "metadata": {
        "colab": {
          "base_uri": "https://localhost:8080/"
        },
        "id": "xhZjC3-0FYCF",
        "outputId": "e68b3c39-2c65-4b7c-b970-4e1ff6fc6df7"
      },
      "source": [
        "parametrosSearchA=gridSearchAs(df,[lista_Formatada_1,lista_Formatada_2],\"Eto\")\n"
      ],
      "execution_count": 46,
      "outputs": [
        {
          "output_type": "stream",
          "name": "stdout",
          "text": [
            "---------------------------------------------------------------------------------\n",
            "***************************************\n",
            "(1809, 10) x1_train\n",
            "*****************++*********************\n",
            "(731, 10) x1_test\n",
            "******************---********************\n",
            "(1809,) y1_train\n",
            "****************1234*********************\n",
            "(731,) y1_test\n",
            "*****************asddfg******************\n",
            " -----------------grid_search.fit--------------\n",
            "Fitting 3 folds for each of 50400 candidates, totalling 151200 fits\n"
          ]
        },
        {
          "output_type": "stream",
          "name": "stderr",
          "text": [
            "/usr/local/lib/python3.7/dist-packages/sklearn/model_selection/_validation.py:372: FitFailedWarning: \n",
            "67200 fits failed out of a total of 151200.\n",
            "The score on these train-test partitions for these parameters will be set to nan.\n",
            "If these failures are not expected, you can try to debug them by setting error_score='raise'.\n",
            "\n",
            "Below are more details about the failures:\n",
            "--------------------------------------------------------------------------------\n",
            "67200 fits failed with the following error:\n",
            "Traceback (most recent call last):\n",
            "  File \"/usr/local/lib/python3.7/dist-packages/sklearn/model_selection/_validation.py\", line 680, in _fit_and_score\n",
            "    estimator.fit(X_train, y_train, **fit_params)\n",
            "  File \"/usr/local/lib/python3.7/dist-packages/sklearn/tree/_classes.py\", line 1320, in fit\n",
            "    X_idx_sorted=X_idx_sorted,\n",
            "  File \"/usr/local/lib/python3.7/dist-packages/sklearn/tree/_classes.py\", line 304, in fit\n",
            "    raise ValueError(\"min_weight_fraction_leaf must in [0, 0.5]\")\n",
            "ValueError: min_weight_fraction_leaf must in [0, 0.5]\n",
            "\n",
            "  warnings.warn(some_fits_failed_message, FitFailedWarning)\n",
            "/usr/local/lib/python3.7/dist-packages/sklearn/model_selection/_search.py:972: UserWarning: One or more of the test scores are non-finite: [-1.578 -1.595 -1.578 ...    nan    nan    nan]\n",
            "  category=UserWarning,\n",
            "/usr/local/lib/python3.7/dist-packages/sklearn/model_selection/_search.py:972: UserWarning: One or more of the train scores are non-finite: [-1.514 -1.586 -1.514 ...    nan    nan    nan]\n",
            "  category=UserWarning,\n"
          ]
        },
        {
          "output_type": "stream",
          "name": "stdout",
          "text": [
            "0 Best_hyperparameter_Arvore {'max_depth': 5, 'max_features': 'auto', 'max_leaf_nodes': None, 'min_samples_leaf': 1, 'min_weight_fraction_leaf': 0.1, 'splitter': 'best'}\n",
            "***************************************\n",
            "(1796, 10) x1_train\n",
            "*****************++*********************\n",
            "(731, 10) x1_test\n",
            "******************---********************\n",
            "(1796,) y1_train\n",
            "****************1234*********************\n",
            "(731,) y1_test\n",
            "*****************asddfg******************\n",
            " -----------------grid_search.fit--------------\n",
            "Fitting 3 folds for each of 50400 candidates, totalling 151200 fits\n"
          ]
        },
        {
          "output_type": "stream",
          "name": "stderr",
          "text": [
            "/usr/local/lib/python3.7/dist-packages/sklearn/model_selection/_validation.py:372: FitFailedWarning: \n",
            "67200 fits failed out of a total of 151200.\n",
            "The score on these train-test partitions for these parameters will be set to nan.\n",
            "If these failures are not expected, you can try to debug them by setting error_score='raise'.\n",
            "\n",
            "Below are more details about the failures:\n",
            "--------------------------------------------------------------------------------\n",
            "67200 fits failed with the following error:\n",
            "Traceback (most recent call last):\n",
            "  File \"/usr/local/lib/python3.7/dist-packages/sklearn/model_selection/_validation.py\", line 680, in _fit_and_score\n",
            "    estimator.fit(X_train, y_train, **fit_params)\n",
            "  File \"/usr/local/lib/python3.7/dist-packages/sklearn/tree/_classes.py\", line 1320, in fit\n",
            "    X_idx_sorted=X_idx_sorted,\n",
            "  File \"/usr/local/lib/python3.7/dist-packages/sklearn/tree/_classes.py\", line 304, in fit\n",
            "    raise ValueError(\"min_weight_fraction_leaf must in [0, 0.5]\")\n",
            "ValueError: min_weight_fraction_leaf must in [0, 0.5]\n",
            "\n",
            "  warnings.warn(some_fits_failed_message, FitFailedWarning)\n"
          ]
        },
        {
          "output_type": "stream",
          "name": "stdout",
          "text": [
            "1 Best_hyperparameter_Arvore {'max_depth': 5, 'max_features': 'auto', 'max_leaf_nodes': 10, 'min_samples_leaf': 1, 'min_weight_fraction_leaf': 0.1, 'splitter': 'random'}\n",
            "---------------------------------------------------------------------------------\n"
          ]
        },
        {
          "output_type": "stream",
          "name": "stderr",
          "text": [
            "/usr/local/lib/python3.7/dist-packages/sklearn/model_selection/_search.py:972: UserWarning: One or more of the test scores are non-finite: [-1.621 -1.674 -1.621 ...    nan    nan    nan]\n",
            "  category=UserWarning,\n",
            "/usr/local/lib/python3.7/dist-packages/sklearn/model_selection/_search.py:972: UserWarning: One or more of the train scores are non-finite: [-1.526 -1.632 -1.526 ...    nan    nan    nan]\n",
            "  category=UserWarning,\n"
          ]
        }
      ]
    }
  ]
}