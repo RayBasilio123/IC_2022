{
  "cells": [
    {
      "cell_type": "markdown",
      "metadata": {
        "id": "view-in-github",
        "colab_type": "text"
      },
      "source": [
        "<a href=\"https://colab.research.google.com/github/RayBasilio123/IC_2022/blob/main/hyperForest_Porto_Alegre.ipynb\" target=\"_parent\"><img src=\"https://colab.research.google.com/assets/colab-badge.svg\" alt=\"Open In Colab\"/></a>"
      ]
    },
    {
      "cell_type": "code",
      "execution_count": 1,
      "metadata": {
        "id": "apLQnPo9gd8n"
      },
      "outputs": [],
      "source": [
        "import numpy as np\n",
        "import pandas as pd\n",
        "import math\n",
        "from sklearn.tree import DecisionTreeRegressor\n",
        "import matplotlib.pyplot as plt\n",
        "from sklearn.metrics import mean_absolute_error, mean_squared_error\n",
        "from sklearn.metrics import f1_score\n",
        "from datetime import datetime\n",
        "from matplotlib import pyplot\n",
        "from sklearn.ensemble import RandomForestRegressor\n",
        "from math import nan\n",
        "from numpy import set_printoptions\n",
        "from sklearn.feature_selection import SelectKBest\n",
        "from sklearn.feature_selection import f_regression\n",
        "from sklearn.ensemble import ExtraTreesRegressor\n",
        "from sklearn.model_selection import GridSearchCV\n"
      ]
    },
    {
      "cell_type": "code",
      "execution_count": 2,
      "metadata": {
        "id": "Yymrk7qjzsHL"
      },
      "outputs": [],
      "source": [
        "def get_x2(df,lista,lags,Eto,lags_eto):\n",
        "  lags=lags\n",
        "  lista_aux=[]\n",
        "  lista_aux2=[]\n",
        "  max_lag=0;\n",
        "  data = pd.DataFrame()\n",
        "  eta_nois = pd.DataFrame()\n",
        "  eta_nois['Data']=df['Data']\n",
        "  for coluna in lista:\n",
        "    data[coluna] = df[coluna]       \n",
        "\n",
        "  for i in range(len(lags)):\n",
        "    for j in range(len(lags[i])):\n",
        "      lista_aux = data.iloc[:,i].tolist()\n",
        "      for displacement in range((lags[i][j])):\n",
        "        if max_lag<(lags[i][j]):\n",
        "          max_lag=(lags[i][j])\n",
        "        del lista_aux[len(lista_aux)-1]\n",
        "        lista_aux.insert(0,nan)\n",
        "      eta_nois[((data.iloc[:,i]).name)+(\"_t-\")+str(lags[i][j])]=(lista_aux)  \n",
        "  \n",
        "  for i in range(len(lags_eto)):\n",
        "    lista_aux2=df[Eto].iloc[:,0].tolist()\n",
        "    for displacement in range((lags_eto[i])):\n",
        "      if max_lag<(lags_eto[i]):\n",
        "        max_lag=(lags_eto[i])\n",
        "      del lista_aux2[len(lista_aux2)-1]\n",
        "      lista_aux2.insert(0,nan)\n",
        "    eta_nois[((df[Eto].iloc[:,0]).name)+(\"_t-\")+str(lags_eto[i])]=lista_aux2        \n",
        "  return eta_nois,max_lag,lista,lags,Eto,lags_eto;"
      ]
    },
    {
      "cell_type": "code",
      "execution_count": 3,
      "metadata": {
        "id": "aNMrPVD-GHOq"
      },
      "outputs": [],
      "source": [
        "def get_x30(df,lista, Eto):\n",
        "  ix = []\n",
        "  idx =  [i for i in np.arange(1, 31)]\n",
        "  for i in range(len(lista)):\n",
        "    ix.append(idx)\n",
        "\n",
        "  resultado = get_x2(df, lista, ix, Eto, idx)\n",
        "  return resultado"
      ]
    },
    {
      "cell_type": "code",
      "execution_count": 4,
      "metadata": {
        "id": "w3HkdxhWCU5H"
      },
      "outputs": [],
      "source": [
        "def column_Filter(df,dias):\n",
        "  list_column = []\n",
        "  # pegando colunas do data frame\n",
        "  for column in (df.columns):\n",
        "    if column != 'Data':\n",
        "      list_column.append(column)\n",
        "  # prosseguindo com a filtração\n",
        "  b=[]\n",
        "  lags=[]\n",
        "  aux3=[]\n",
        "  lista=[]\n",
        "  Eto=[]\n",
        "  lags_eto=[]\n",
        " \n",
        "  # filtra e  remove colunas \n",
        "  for i in range(len(list_column)):\n",
        "    j=list_column[i].split(\"_t-\")\n",
        "    if (int(j[1])>=dias):\n",
        "      b.append(j)\n",
        "  # print(\"Lista_Filtrada\",b)\n",
        "\n",
        "  #localiza as colunas  e faz uma lista se a coluna for Eto cria uma lista só pra ela\n",
        "  for k in range(len(b)):\n",
        "    if b[k][0] not in lista and b[k][0]!=\"Eto\":\n",
        "        lista.append(b[k][0])\n",
        "    elif b[k][0] not in Eto and b[k][0]==\"Eto\":\n",
        "        Eto.append(b[k][0])\n",
        "\n",
        "  # print(\"lista\",lista)\n",
        "  # print(\"Eto\",Eto)\n",
        " \n",
        "  # localiza as colunas e cria uma lista de lags para cada\n",
        "  for i in range(len(lista)):\n",
        "    aux=[]\n",
        "    for k in range(len(b)):\n",
        "      if (lista[i]==b[k][0])  :\n",
        "          aux.append(int(b[k][1]))\n",
        "    lags.append(aux)\n",
        "    del(aux)\n",
        "\n",
        "  # print(\"lags\",lags)\n",
        "           \n",
        "  # print(\"Eto\",Eto)\n",
        "  \n",
        "  \n",
        "  if Eto!=[]:\n",
        "    for k in range(len(b)):\n",
        "      if b[k][0]==Eto[0]:\n",
        "        lags_eto.append(int(b[k][1]))\n",
        "  # print(\"lags_eto\",lags_eto)\n",
        " \n",
        "  aux3.append(lista)\n",
        "  aux3.append(lags)\n",
        "  aux3.append(Eto)\n",
        "  aux3.append(lags_eto)\n",
        " \n",
        "\n",
        "  return aux3\n",
        "\n",
        "\n",
        "\n",
        "\n",
        "\n",
        "\n",
        "\n"
      ]
    },
    {
      "cell_type": "code",
      "execution_count": 5,
      "metadata": {
        "id": "TjXOWhtbCQwR"
      },
      "outputs": [],
      "source": [
        "def resource_ranking(df,lista_filtrada3,variavel_alvo) :\n",
        "  \n",
        "  # resource_ranking(df_la,lista_filtrada2,\"temp_min\")  \n",
        "  #Monta a tabela com os dados filtrados \n",
        "  \n",
        "  tab=get_x2(df,lista_filtrada3[0],lista_filtrada3[1],lista_filtrada3[2],lista_filtrada3[3])\n",
        " \n",
        "  # dff=tab[0].drop(\"Data\",axis=1)\n",
        "  \n",
        "  # train_size = int(((len(tab[0]))-tab[1]) )\n",
        "  # dff=dff.iloc[tab[1]:train_size,:]\n",
        "\n",
        "  # array1 = dff.values\n",
        "\n",
        "  # df= df.drop(\"Data\",axis=1)\n",
        "  # df=df.iloc[tab[1]:train_size,:]\n",
        "  # array2 = df[variavel_alvo]\n",
        "  selecao_treino = (tab[0]['Data'] >= '2014') & (tab[0]['Data'] <= '2018-12-31')\n",
        "  \n",
        "  dff=tab[0][selecao_treino].drop(\"Data\",axis=1)\n",
        "\n",
        "  train_size = int(((len(tab[0][selecao_treino]))-tab[1]) )\n",
        "  dff=dff.iloc[tab[1]:train_size,:]\n",
        "  array1 = dff.values\n",
        "\n",
        "  df= df[selecao_treino].drop(\"Data\",axis=1)\n",
        "  df=df.iloc[tab[1]:train_size,:]\n",
        "  array2 = df[variavel_alvo]\n",
        "\n",
        " \n",
        "\n",
        "  X =array1[:,0:len(tab[0].columns)]\n",
        "  Y = array2\n",
        "  # feature extraction\n",
        "  test = SelectKBest(score_func=f_regression, k=4)\n",
        "  fit = test.fit(X, Y)\n",
        "  # summarize scores\n",
        "  set_printoptions(precision=3)\n",
        " \n",
        "\n",
        "    \n",
        "  # print(\"Selecao_univariada\",fit.scores_)\n",
        "  f=fit.scores_\n",
        "  f_ord = sorted(f,reverse=True)\n",
        "  # print(\"Selecao_univariada_ordenada\",f_ord)\n",
        "\n",
        "  ll=[]\n",
        "  for y in range(len(f_ord)):\n",
        "    for i in range(len(f)):\n",
        "      if (f_ord[y]==f[i]):\n",
        "        ll.append(i)\n",
        "        # print(\"f[i]\",f[i])\n",
        "        # print(\"f_ord[y]\",f_ord[y])\n",
        "  leg_seq=[]\n",
        "  for i in range(len(ll)):\n",
        "    leg_seq.append(dff.columns[ll[i]])    \n",
        "\n",
        "  # print(\"Colunas_selecionadas [0]- Selecao_univariada\",leg_seq)\n",
        " \n",
        "  model = ExtraTreesRegressor(n_estimators=10,random_state=42)\n",
        "  model.fit(X,Y)\n",
        "  g=model.feature_importances_\n",
        "  g_ord=sorted(model.feature_importances_,reverse=True)\n",
        "  # print(\"Importancia\",g)\n",
        "  # print(\"Importancia_ordenada\",g_ord)\n",
        "  jj=[]\n",
        "  for y in range(len(g_ord)):\n",
        "    for i in range(len(g)):\n",
        "      if (g_ord[y]==g[i]):\n",
        "        jj.append(i)\n",
        "  leg_seq2=[]\n",
        "  for i in range(len(ll)):\n",
        "    leg_seq2.append(dff.columns[jj[i]])    \n",
        "  # print(\"Colunas_selecionadas [1]- Importância do recurso\",leg_seq2)\n",
        "  return leg_seq,leg_seq2"
      ]
    },
    {
      "cell_type": "code",
      "execution_count": 6,
      "metadata": {
        "id": "8JVCQk5uCPU9"
      },
      "outputs": [],
      "source": [
        "\n",
        "\n",
        "def list_Format(melhores_recursos,q,dias):\n",
        "  b=[]\n",
        "  lags=[]\n",
        "  aux3=[]\n",
        "  lista=[]\n",
        "  Eto=[]\n",
        "  lags_eto=[]\n",
        "  q = len(melhores_recursos) if q==0 else q\n",
        "  # filtra e  remove colunas \n",
        "  for i in range(q):\n",
        "    j=melhores_recursos[i].split(\"_t-\")\n",
        "    if (int(j[1])>=dias):\n",
        "      b.append(j)\n",
        "  print(\"lista_selecionada\",b)\n",
        "\n",
        "  #localiza as colunas  e faz uma lista se a coluna for Eto cria uma lista só pra ela\n",
        "  for k in range(len(b)):\n",
        "    if b[k][0] not in lista and b[k][0]!=\"Eto\":\n",
        "        lista.append(b[k][0])\n",
        "    elif b[k][0] not in Eto and b[k][0]==\"Eto\":\n",
        "        Eto.append(b[k][0])\n",
        "\n",
        "  print(\"lista\",lista)\n",
        "  print(\"Eto\",Eto)\n",
        " \n",
        "  # localiza as colunas e cria uma lista de lags para cada\n",
        "  for i in range(len(lista)):\n",
        "    aux=[]\n",
        "    for k in range(len(b)):\n",
        "      if (lista[i]==b[k][0])  :\n",
        "          aux.append(int(b[k][1]))\n",
        "    lags.append(aux)\n",
        "    del(aux)\n",
        "\n",
        "  print(\"lags\",lags)\n",
        "           \n",
        "  # print(\"Eto\",Eto)\n",
        "  \n",
        "  \n",
        "  if Eto!=[]:\n",
        "    for k in range(len(b)):\n",
        "      if b[k][0]==Eto[0]:\n",
        "        lags_eto.append(int(b[k][1]))\n",
        "  print(\"lags_eto\",lags_eto)\n",
        " \n",
        "  aux3.append(lista)\n",
        "  aux3.append(lags)\n",
        "  aux3.append(Eto)\n",
        "  aux3.append(lags_eto)\n",
        " \n",
        "\n",
        "  return aux3"
      ]
    },
    {
      "cell_type": "code",
      "execution_count": 7,
      "metadata": {
        "id": "H76rZiKFRrzz"
      },
      "outputs": [],
      "source": [
        "def train_test(df, lista,lags,Eto,lags_eto,variavel_Alvo,data_Itest= '2019-01-01',data_Ftest= '2020-12-31',data_Itreino='2014-01-01',data_Ftreino='2018-12-31'):\n",
        "  tabela = get_x2(df, lista,lags,Eto,lags_eto)\n",
        "  selecao_treino = (tabela[0]['Data'] >= data_Itreino) & (tabela[0]['Data'] <= data_Ftreino)\n",
        "  selecao_teste = (tabela[0]['Data'] >= data_Itest) & (tabela[0]['Data'] <= data_Ftest)\n",
        "\n",
        "  x1_train = tabela[0][selecao_treino].drop(\"Data\", axis=1)\n",
        "  x1_test = tabela[0][selecao_teste].drop(\"Data\", axis=1)\n",
        "  \n",
        "  y1_train = df[variavel_Alvo][selecao_treino]\n",
        "  y1_test = df[variavel_Alvo][selecao_teste]\n",
        "\n",
        "  x1_train = x1_train[tabela[1]:]\n",
        "  y1_train = y1_train[tabela[1]:]\n",
        "\n",
        "  \n",
        "  print(\"***************************************\")\n",
        "  print(x1_train.shape,\"x1_train\")\n",
        "  #[6569 rows x 10 columns] x1_train\n",
        "  print(\"*****************++*********************\")\n",
        "  print(x1_test.shape,\"x1_test\")\n",
        "  print(\"******************---********************\")\n",
        "  print(y1_train.shape,\"y1_train\")\n",
        "  print(\"****************1234*********************\")\n",
        "  print(y1_test.shape,\"y1_test\")\n",
        "  print(\"*****************asddfg******************\")\n",
        " \n",
        "  \n",
        "  return x1_train, x1_test,y1_train, y1_test"
      ]
    },
    {
      "cell_type": "code",
      "execution_count": 8,
      "metadata": {
        "id": "gHwvw3ghzjEP"
      },
      "outputs": [],
      "source": [
        "def gridSearchF(df, lista,lags,Eto,lags_eto,variavel_Alvo):\n",
        "  x1_train, x1_test,y1_train, y1_test = train_test(df, lista,lags,Eto,lags_eto,variavel_Alvo)\n",
        "   # Create the parameter grid based on the results of random search \n",
        "  param_grid = {\n",
        "      'bootstrap': [True],\n",
        "      'max_depth': [10,80, 90, 100, 110],\n",
        "      'max_features': [2, 4,5],\n",
        "      'min_samples_leaf': [3, 4, 5],\n",
        "      'min_samples_split': [2,8, 10, 12],\n",
        "      'n_estimators': [100,300, 1000]\n",
        "  }\n",
        "\n",
        "  # Create a base model\n",
        "  rf = RandomForestRegressor(random_state = 42)\n",
        "\n",
        "  # Instantiate the grid search model\n",
        "  grid_search = GridSearchCV(estimator = rf, param_grid = param_grid, \n",
        "                            cv = 3, n_jobs = -1, verbose = 2, return_train_score=True)\n",
        "\n",
        "  print(\" -----------------grid_search.fit--------------\")\n",
        " \n",
        "  start_time=timer(None)\n",
        "\n",
        "  grid_search.fit(x1_train, y1_train);\n",
        "\n",
        "  timer(start_time)  \n",
        "  \n",
        "    \n",
        "  return grid_search.best_params_\n",
        "\n",
        "def gridSearchFs(df,parametros,variavel_Alvo):\n",
        "\n",
        "  lista_colunas=[\"gridSearch\"]\n",
        "  tb = pd.DataFrame(columns=lista_colunas)\n",
        "  \n",
        "  print(\"gridSearchFs\")\n",
        "  print('---------------------------------------------------------------------------------')\n",
        "  \n",
        "  for x in range(len(parametros)):\n",
        "    a=gridSearchF(df,parametros[x][0],parametros[x][1],parametros[x][2],parametros[x][3],variavel_Alvo)\n",
        "    \n",
        "    print(x,\"Best_hyperparameter_Arvore\", a)\n",
        "   \n",
        "  print('---------------------------------------------------------------------------------')\n",
        "  \n",
        "\n",
        "  return a\n",
        "\n",
        "\n"
      ]
    },
    {
      "cell_type": "code",
      "execution_count": 9,
      "metadata": {
        "id": "rPR_Z1XN7GCY"
      },
      "outputs": [],
      "source": [
        "def timer(start_time=None):\n",
        "    if not start_time:\n",
        "        start_time=datetime.now()\n",
        "        return start_time\n",
        "    elif start_time:\n",
        "        thour,temp_sec=divmod((datetime.now()-start_time).total_seconds(),3600)\n",
        "        tmin,tsec=divmod(temp_sec,60)"
      ]
    },
    {
      "cell_type": "code",
      "execution_count": 10,
      "metadata": {
        "id": "aqzZfUSFI33R"
      },
      "outputs": [],
      "source": [
        "url=('https://raw.githubusercontent.com/RayBasilio123/database/main/INMET/CSV/J_Database/PORTO_ALEGRE_J_2014_2020.csv')\n",
        "df = pd.read_csv(url, sep=\",\", encoding = \"ISO-8859-1\")\n",
        "df=df.drop(columns=['Unnamed: 0'])"
      ]
    },
    {
      "cell_type": "code",
      "execution_count": 11,
      "metadata": {
        "colab": {
          "base_uri": "https://localhost:8080/",
          "height": 424
        },
        "id": "BgIgzsxVWlM8",
        "outputId": "0fb07695-b9c3-4e72-a9e1-da20745c70ab"
      },
      "outputs": [
        {
          "output_type": "execute_result",
          "data": {
            "text/html": [
              "\n",
              "  <div id=\"df-95b28d2a-8329-43dc-adb3-4f041f7d572a\">\n",
              "    <div class=\"colab-df-container\">\n",
              "      <div>\n",
              "<style scoped>\n",
              "    .dataframe tbody tr th:only-of-type {\n",
              "        vertical-align: middle;\n",
              "    }\n",
              "\n",
              "    .dataframe tbody tr th {\n",
              "        vertical-align: top;\n",
              "    }\n",
              "\n",
              "    .dataframe thead th {\n",
              "        text-align: right;\n",
              "    }\n",
              "</style>\n",
              "<table border=\"1\" class=\"dataframe\">\n",
              "  <thead>\n",
              "    <tr style=\"text-align: right;\">\n",
              "      <th></th>\n",
              "      <th>Data</th>\n",
              "      <th>vento</th>\n",
              "      <th>radiacao</th>\n",
              "      <th>temp_max</th>\n",
              "      <th>temp_min</th>\n",
              "      <th>umi_max</th>\n",
              "      <th>umi_min</th>\n",
              "      <th>umi_rel</th>\n",
              "      <th>press_atm</th>\n",
              "      <th>temp_media</th>\n",
              "      <th>Eto</th>\n",
              "      <th>J</th>\n",
              "    </tr>\n",
              "  </thead>\n",
              "  <tbody>\n",
              "    <tr>\n",
              "      <th>0</th>\n",
              "      <td>2014-01-01</td>\n",
              "      <td>0.928706</td>\n",
              "      <td>1.371140</td>\n",
              "      <td>34.1</td>\n",
              "      <td>23.5</td>\n",
              "      <td>91.0</td>\n",
              "      <td>54.0</td>\n",
              "      <td>73.666667</td>\n",
              "      <td>1001.320833</td>\n",
              "      <td>27.437500</td>\n",
              "      <td>2.917568</td>\n",
              "      <td>1</td>\n",
              "    </tr>\n",
              "    <tr>\n",
              "      <th>1</th>\n",
              "      <td>2014-01-02</td>\n",
              "      <td>1.446039</td>\n",
              "      <td>0.778367</td>\n",
              "      <td>34.4</td>\n",
              "      <td>24.7</td>\n",
              "      <td>90.0</td>\n",
              "      <td>50.0</td>\n",
              "      <td>73.125000</td>\n",
              "      <td>996.962500</td>\n",
              "      <td>28.035417</td>\n",
              "      <td>3.648835</td>\n",
              "      <td>2</td>\n",
              "    </tr>\n",
              "    <tr>\n",
              "      <th>2</th>\n",
              "      <td>2014-01-03</td>\n",
              "      <td>1.031549</td>\n",
              "      <td>0.193829</td>\n",
              "      <td>27.9</td>\n",
              "      <td>19.4</td>\n",
              "      <td>94.0</td>\n",
              "      <td>72.0</td>\n",
              "      <td>88.708333</td>\n",
              "      <td>1003.116667</td>\n",
              "      <td>22.054167</td>\n",
              "      <td>0.982221</td>\n",
              "      <td>3</td>\n",
              "    </tr>\n",
              "    <tr>\n",
              "      <th>3</th>\n",
              "      <td>2014-01-04</td>\n",
              "      <td>1.305798</td>\n",
              "      <td>1.176481</td>\n",
              "      <td>28.7</td>\n",
              "      <td>17.4</td>\n",
              "      <td>84.0</td>\n",
              "      <td>34.0</td>\n",
              "      <td>62.875000</td>\n",
              "      <td>1012.112500</td>\n",
              "      <td>22.343750</td>\n",
              "      <td>3.564776</td>\n",
              "      <td>4</td>\n",
              "    </tr>\n",
              "    <tr>\n",
              "      <th>4</th>\n",
              "      <td>2014-01-05</td>\n",
              "      <td>1.034666</td>\n",
              "      <td>1.337948</td>\n",
              "      <td>32.5</td>\n",
              "      <td>17.6</td>\n",
              "      <td>86.0</td>\n",
              "      <td>28.0</td>\n",
              "      <td>62.583333</td>\n",
              "      <td>1010.945833</td>\n",
              "      <td>24.377083</td>\n",
              "      <td>3.854867</td>\n",
              "      <td>5</td>\n",
              "    </tr>\n",
              "    <tr>\n",
              "      <th>...</th>\n",
              "      <td>...</td>\n",
              "      <td>...</td>\n",
              "      <td>...</td>\n",
              "      <td>...</td>\n",
              "      <td>...</td>\n",
              "      <td>...</td>\n",
              "      <td>...</td>\n",
              "      <td>...</td>\n",
              "      <td>...</td>\n",
              "      <td>...</td>\n",
              "      <td>...</td>\n",
              "      <td>...</td>\n",
              "    </tr>\n",
              "    <tr>\n",
              "      <th>2552</th>\n",
              "      <td>2020-12-27</td>\n",
              "      <td>1.433573</td>\n",
              "      <td>0.738310</td>\n",
              "      <td>31.0</td>\n",
              "      <td>21.4</td>\n",
              "      <td>90.0</td>\n",
              "      <td>49.0</td>\n",
              "      <td>74.750000</td>\n",
              "      <td>1008.025000</td>\n",
              "      <td>24.762500</td>\n",
              "      <td>2.926815</td>\n",
              "      <td>362</td>\n",
              "    </tr>\n",
              "    <tr>\n",
              "      <th>2553</th>\n",
              "      <td>2020-12-28</td>\n",
              "      <td>1.823131</td>\n",
              "      <td>1.169640</td>\n",
              "      <td>30.6</td>\n",
              "      <td>21.0</td>\n",
              "      <td>91.0</td>\n",
              "      <td>52.0</td>\n",
              "      <td>72.875000</td>\n",
              "      <td>1008.158333</td>\n",
              "      <td>24.950000</td>\n",
              "      <td>3.756797</td>\n",
              "      <td>363</td>\n",
              "    </tr>\n",
              "    <tr>\n",
              "      <th>2554</th>\n",
              "      <td>2020-12-29</td>\n",
              "      <td>1.168674</td>\n",
              "      <td>1.190469</td>\n",
              "      <td>33.5</td>\n",
              "      <td>20.5</td>\n",
              "      <td>92.0</td>\n",
              "      <td>41.0</td>\n",
              "      <td>70.250000</td>\n",
              "      <td>1003.887500</td>\n",
              "      <td>25.910417</td>\n",
              "      <td>3.679275</td>\n",
              "      <td>364</td>\n",
              "    </tr>\n",
              "    <tr>\n",
              "      <th>2555</th>\n",
              "      <td>2020-12-30</td>\n",
              "      <td>1.181139</td>\n",
              "      <td>1.043798</td>\n",
              "      <td>34.9</td>\n",
              "      <td>21.4</td>\n",
              "      <td>92.0</td>\n",
              "      <td>45.0</td>\n",
              "      <td>72.666667</td>\n",
              "      <td>999.675000</td>\n",
              "      <td>26.964583</td>\n",
              "      <td>3.546235</td>\n",
              "      <td>365</td>\n",
              "    </tr>\n",
              "    <tr>\n",
              "      <th>2556</th>\n",
              "      <td>2020-12-31</td>\n",
              "      <td>1.131276</td>\n",
              "      <td>1.073069</td>\n",
              "      <td>29.3</td>\n",
              "      <td>21.1</td>\n",
              "      <td>96.0</td>\n",
              "      <td>47.0</td>\n",
              "      <td>72.333333</td>\n",
              "      <td>1003.004167</td>\n",
              "      <td>24.947917</td>\n",
              "      <td>2.990942</td>\n",
              "      <td>366</td>\n",
              "    </tr>\n",
              "  </tbody>\n",
              "</table>\n",
              "<p>2557 rows × 12 columns</p>\n",
              "</div>\n",
              "      <button class=\"colab-df-convert\" onclick=\"convertToInteractive('df-95b28d2a-8329-43dc-adb3-4f041f7d572a')\"\n",
              "              title=\"Convert this dataframe to an interactive table.\"\n",
              "              style=\"display:none;\">\n",
              "        \n",
              "  <svg xmlns=\"http://www.w3.org/2000/svg\" height=\"24px\"viewBox=\"0 0 24 24\"\n",
              "       width=\"24px\">\n",
              "    <path d=\"M0 0h24v24H0V0z\" fill=\"none\"/>\n",
              "    <path d=\"M18.56 5.44l.94 2.06.94-2.06 2.06-.94-2.06-.94-.94-2.06-.94 2.06-2.06.94zm-11 1L8.5 8.5l.94-2.06 2.06-.94-2.06-.94L8.5 2.5l-.94 2.06-2.06.94zm10 10l.94 2.06.94-2.06 2.06-.94-2.06-.94-.94-2.06-.94 2.06-2.06.94z\"/><path d=\"M17.41 7.96l-1.37-1.37c-.4-.4-.92-.59-1.43-.59-.52 0-1.04.2-1.43.59L10.3 9.45l-7.72 7.72c-.78.78-.78 2.05 0 2.83L4 21.41c.39.39.9.59 1.41.59.51 0 1.02-.2 1.41-.59l7.78-7.78 2.81-2.81c.8-.78.8-2.07 0-2.86zM5.41 20L4 18.59l7.72-7.72 1.47 1.35L5.41 20z\"/>\n",
              "  </svg>\n",
              "      </button>\n",
              "      \n",
              "  <style>\n",
              "    .colab-df-container {\n",
              "      display:flex;\n",
              "      flex-wrap:wrap;\n",
              "      gap: 12px;\n",
              "    }\n",
              "\n",
              "    .colab-df-convert {\n",
              "      background-color: #E8F0FE;\n",
              "      border: none;\n",
              "      border-radius: 50%;\n",
              "      cursor: pointer;\n",
              "      display: none;\n",
              "      fill: #1967D2;\n",
              "      height: 32px;\n",
              "      padding: 0 0 0 0;\n",
              "      width: 32px;\n",
              "    }\n",
              "\n",
              "    .colab-df-convert:hover {\n",
              "      background-color: #E2EBFA;\n",
              "      box-shadow: 0px 1px 2px rgba(60, 64, 67, 0.3), 0px 1px 3px 1px rgba(60, 64, 67, 0.15);\n",
              "      fill: #174EA6;\n",
              "    }\n",
              "\n",
              "    [theme=dark] .colab-df-convert {\n",
              "      background-color: #3B4455;\n",
              "      fill: #D2E3FC;\n",
              "    }\n",
              "\n",
              "    [theme=dark] .colab-df-convert:hover {\n",
              "      background-color: #434B5C;\n",
              "      box-shadow: 0px 1px 3px 1px rgba(0, 0, 0, 0.15);\n",
              "      filter: drop-shadow(0px 1px 2px rgba(0, 0, 0, 0.3));\n",
              "      fill: #FFFFFF;\n",
              "    }\n",
              "  </style>\n",
              "\n",
              "      <script>\n",
              "        const buttonEl =\n",
              "          document.querySelector('#df-95b28d2a-8329-43dc-adb3-4f041f7d572a button.colab-df-convert');\n",
              "        buttonEl.style.display =\n",
              "          google.colab.kernel.accessAllowed ? 'block' : 'none';\n",
              "\n",
              "        async function convertToInteractive(key) {\n",
              "          const element = document.querySelector('#df-95b28d2a-8329-43dc-adb3-4f041f7d572a');\n",
              "          const dataTable =\n",
              "            await google.colab.kernel.invokeFunction('convertToInteractive',\n",
              "                                                     [key], {});\n",
              "          if (!dataTable) return;\n",
              "\n",
              "          const docLinkHtml = 'Like what you see? Visit the ' +\n",
              "            '<a target=\"_blank\" href=https://colab.research.google.com/notebooks/data_table.ipynb>data table notebook</a>'\n",
              "            + ' to learn more about interactive tables.';\n",
              "          element.innerHTML = '';\n",
              "          dataTable['output_type'] = 'display_data';\n",
              "          await google.colab.output.renderOutput(dataTable, element);\n",
              "          const docLink = document.createElement('div');\n",
              "          docLink.innerHTML = docLinkHtml;\n",
              "          element.appendChild(docLink);\n",
              "        }\n",
              "      </script>\n",
              "    </div>\n",
              "  </div>\n",
              "  "
            ],
            "text/plain": [
              "            Data     vento  radiacao  ...  temp_media       Eto    J\n",
              "0     2014-01-01  0.928706  1.371140  ...   27.437500  2.917568    1\n",
              "1     2014-01-02  1.446039  0.778367  ...   28.035417  3.648835    2\n",
              "2     2014-01-03  1.031549  0.193829  ...   22.054167  0.982221    3\n",
              "3     2014-01-04  1.305798  1.176481  ...   22.343750  3.564776    4\n",
              "4     2014-01-05  1.034666  1.337948  ...   24.377083  3.854867    5\n",
              "...          ...       ...       ...  ...         ...       ...  ...\n",
              "2552  2020-12-27  1.433573  0.738310  ...   24.762500  2.926815  362\n",
              "2553  2020-12-28  1.823131  1.169640  ...   24.950000  3.756797  363\n",
              "2554  2020-12-29  1.168674  1.190469  ...   25.910417  3.679275  364\n",
              "2555  2020-12-30  1.181139  1.043798  ...   26.964583  3.546235  365\n",
              "2556  2020-12-31  1.131276  1.073069  ...   24.947917  2.990942  366\n",
              "\n",
              "[2557 rows x 12 columns]"
            ]
          },
          "metadata": {},
          "execution_count": 11
        }
      ],
      "source": [
        "df"
      ]
    },
    {
      "cell_type": "code",
      "execution_count": 12,
      "metadata": {
        "colab": {
          "base_uri": "https://localhost:8080/"
        },
        "id": "SbEuhJBPDR2E",
        "outputId": "1af36185-7d75-4129-c000-bafdea1831fe"
      },
      "outputs": [
        {
          "output_type": "stream",
          "name": "stderr",
          "text": [
            "/usr/local/lib/python3.7/dist-packages/ipykernel_launcher.py:20: PerformanceWarning: DataFrame is highly fragmented.  This is usually the result of calling `frame.insert` many times, which has poor performance.  Consider joining all columns at once using pd.concat(axis=1) instead.  To get a de-fragmented frame, use `newframe = frame.copy()`\n",
            "/usr/local/lib/python3.7/dist-packages/ipykernel_launcher.py:29: PerformanceWarning: DataFrame is highly fragmented.  This is usually the result of calling `frame.insert` many times, which has poor performance.  Consider joining all columns at once using pd.concat(axis=1) instead.  To get a de-fragmented frame, use `newframe = frame.copy()`\n"
          ]
        }
      ],
      "source": [
        "atributeP= [ 'vento'\t,'radiacao',\t'temp_max',\t'temp_min',\t'umi_max',\t'umi_min',\t'umi_rel',\t'press_atm',\t'temp_media','J']\n",
        "resultadoP=get_x30(df,atributeP,[\"Eto\"])"
      ]
    },
    {
      "cell_type": "code",
      "execution_count": 13,
      "metadata": {
        "colab": {
          "base_uri": "https://localhost:8080/"
        },
        "id": "6gVC3D2w8Eoy",
        "outputId": "bb2b3f96-7dc1-4cc2-9410-4fa245ef9c75"
      },
      "outputs": [
        {
          "output_type": "stream",
          "name": "stderr",
          "text": [
            "/usr/local/lib/python3.7/dist-packages/ipykernel_launcher.py:20: PerformanceWarning: DataFrame is highly fragmented.  This is usually the result of calling `frame.insert` many times, which has poor performance.  Consider joining all columns at once using pd.concat(axis=1) instead.  To get a de-fragmented frame, use `newframe = frame.copy()`\n",
            "/usr/local/lib/python3.7/dist-packages/ipykernel_launcher.py:29: PerformanceWarning: DataFrame is highly fragmented.  This is usually the result of calling `frame.insert` many times, which has poor performance.  Consider joining all columns at once using pd.concat(axis=1) instead.  To get a de-fragmented frame, use `newframe = frame.copy()`\n"
          ]
        },
        {
          "output_type": "stream",
          "name": "stdout",
          "text": [
            "lista_selecionada [['Eto', '1'], ['radiacao', '1'], ['Eto', '2'], ['temp_max', '1'], ['temp_media', '1'], ['Eto', '3'], ['temp_media', '5'], ['temp_media', '2'], ['temp_media', '4'], ['temp_media', '3']]\n",
            "lista ['radiacao', 'temp_max', 'temp_media']\n",
            "Eto ['Eto']\n",
            "lags [[1], [1], [1, 5, 2, 4, 3]]\n",
            "lags_eto [1, 2, 3]\n",
            "lista_selecionada [['Eto', '1'], ['radiacao', '1'], ['temp_media', '4'], ['Eto', '2'], ['radiacao', '3'], ['temp_min', '3'], ['temp_media', '13'], ['umi_min', '1'], ['umi_rel', '1'], ['temp_max', '1']]\n",
            "lista ['radiacao', 'temp_media', 'temp_min', 'umi_min', 'umi_rel', 'temp_max']\n",
            "Eto ['Eto']\n",
            "lags [[1, 3], [4, 13], [3], [1], [1], [1]]\n",
            "lags_eto [1, 2]\n",
            "\n",
            " -----------Para----1----dias --------\n",
            "\n",
            "lista_Formatada_1 ------->  [['radiacao', 'temp_max', 'temp_media'], [[1], [1], [1, 5, 2, 4, 3]], ['Eto'], [1, 2, 3]]\n",
            "lista_Formatada_2 ------->  [['radiacao', 'temp_media', 'temp_min', 'umi_min', 'umi_rel', 'temp_max'], [[1, 3], [4, 13], [3], [1], [1], [1]], ['Eto'], [1, 2]]\n",
            "lista_Formatada_3 ------->  [['vento', 'radiacao', 'temp_max', 'temp_min', 'umi_max', 'umi_min', 'umi_rel', 'press_atm', 'temp_media', 'J'], [[1, 2, 3, 4, 5, 6, 7, 8, 9, 10, 11, 12, 13, 14, 15, 16, 17, 18, 19, 20, 21, 22, 23, 24, 25, 26, 27, 28, 29, 30], [1, 2, 3, 4, 5, 6, 7, 8, 9, 10, 11, 12, 13, 14, 15, 16, 17, 18, 19, 20, 21, 22, 23, 24, 25, 26, 27, 28, 29, 30], [1, 2, 3, 4, 5, 6, 7, 8, 9, 10, 11, 12, 13, 14, 15, 16, 17, 18, 19, 20, 21, 22, 23, 24, 25, 26, 27, 28, 29, 30], [1, 2, 3, 4, 5, 6, 7, 8, 9, 10, 11, 12, 13, 14, 15, 16, 17, 18, 19, 20, 21, 22, 23, 24, 25, 26, 27, 28, 29, 30], [1, 2, 3, 4, 5, 6, 7, 8, 9, 10, 11, 12, 13, 14, 15, 16, 17, 18, 19, 20, 21, 22, 23, 24, 25, 26, 27, 28, 29, 30], [1, 2, 3, 4, 5, 6, 7, 8, 9, 10, 11, 12, 13, 14, 15, 16, 17, 18, 19, 20, 21, 22, 23, 24, 25, 26, 27, 28, 29, 30], [1, 2, 3, 4, 5, 6, 7, 8, 9, 10, 11, 12, 13, 14, 15, 16, 17, 18, 19, 20, 21, 22, 23, 24, 25, 26, 27, 28, 29, 30], [1, 2, 3, 4, 5, 6, 7, 8, 9, 10, 11, 12, 13, 14, 15, 16, 17, 18, 19, 20, 21, 22, 23, 24, 25, 26, 27, 28, 29, 30], [1, 2, 3, 4, 5, 6, 7, 8, 9, 10, 11, 12, 13, 14, 15, 16, 17, 18, 19, 20, 21, 22, 23, 24, 25, 26, 27, 28, 29, 30], [1, 2, 3, 4, 5, 6, 7, 8, 9, 10, 11, 12, 13, 14, 15, 16, 17, 18, 19, 20, 21, 22, 23, 24, 25, 26, 27, 28, 29, 30]], ['Eto'], [1, 2, 3, 4, 5, 6, 7, 8, 9, 10, 11, 12, 13, 14, 15, 16, 17, 18, 19, 20, 21, 22, 23, 24, 25, 26, 27, 28, 29, 30]]\n",
            "\n",
            " ---------------------------------------------\n",
            "\n"
          ]
        },
        {
          "output_type": "stream",
          "name": "stderr",
          "text": [
            "/usr/local/lib/python3.7/dist-packages/ipykernel_launcher.py:20: PerformanceWarning: DataFrame is highly fragmented.  This is usually the result of calling `frame.insert` many times, which has poor performance.  Consider joining all columns at once using pd.concat(axis=1) instead.  To get a de-fragmented frame, use `newframe = frame.copy()`\n",
            "/usr/local/lib/python3.7/dist-packages/ipykernel_launcher.py:29: PerformanceWarning: DataFrame is highly fragmented.  This is usually the result of calling `frame.insert` many times, which has poor performance.  Consider joining all columns at once using pd.concat(axis=1) instead.  To get a de-fragmented frame, use `newframe = frame.copy()`\n"
          ]
        },
        {
          "output_type": "stream",
          "name": "stdout",
          "text": [
            "lista_selecionada [['Eto', '3'], ['temp_media', '5'], ['temp_media', '4'], ['temp_media', '3'], ['temp_media', '6'], ['Eto', '4'], ['temp_media', '7'], ['temp_media', '12'], ['Eto', '5'], ['temp_media', '11']]\n",
            "lista ['temp_media']\n",
            "Eto ['Eto']\n",
            "lags [[5, 4, 3, 6, 7, 12, 11]]\n",
            "lags_eto [3, 4, 5]\n",
            "lista_selecionada [['temp_media', '7'], ['radiacao', '3'], ['Eto', '3'], ['temp_media', '3'], ['J', '26'], ['temp_media', '13'], ['temp_max', '3'], ['radiacao', '6'], ['Eto', '5'], ['J', '12']]\n",
            "lista ['temp_media', 'radiacao', 'J', 'temp_max']\n",
            "Eto ['Eto']\n",
            "lags [[7, 3, 13], [3, 6], [26, 12], [3]]\n",
            "lags_eto [3, 5]\n",
            "\n",
            " -----------Para----3----dias --------\n",
            "\n",
            "lista_Formatada_1 ------->  [['temp_media'], [[5, 4, 3, 6, 7, 12, 11]], ['Eto'], [3, 4, 5]]\n",
            "lista_Formatada_2 ------->  [['temp_media', 'radiacao', 'J', 'temp_max'], [[7, 3, 13], [3, 6], [26, 12], [3]], ['Eto'], [3, 5]]\n",
            "lista_Formatada_3 ------->  [['vento', 'radiacao', 'temp_max', 'temp_min', 'umi_max', 'umi_min', 'umi_rel', 'press_atm', 'temp_media', 'J'], [[3, 4, 5, 6, 7, 8, 9, 10, 11, 12, 13, 14, 15, 16, 17, 18, 19, 20, 21, 22, 23, 24, 25, 26, 27, 28, 29, 30], [3, 4, 5, 6, 7, 8, 9, 10, 11, 12, 13, 14, 15, 16, 17, 18, 19, 20, 21, 22, 23, 24, 25, 26, 27, 28, 29, 30], [3, 4, 5, 6, 7, 8, 9, 10, 11, 12, 13, 14, 15, 16, 17, 18, 19, 20, 21, 22, 23, 24, 25, 26, 27, 28, 29, 30], [3, 4, 5, 6, 7, 8, 9, 10, 11, 12, 13, 14, 15, 16, 17, 18, 19, 20, 21, 22, 23, 24, 25, 26, 27, 28, 29, 30], [3, 4, 5, 6, 7, 8, 9, 10, 11, 12, 13, 14, 15, 16, 17, 18, 19, 20, 21, 22, 23, 24, 25, 26, 27, 28, 29, 30], [3, 4, 5, 6, 7, 8, 9, 10, 11, 12, 13, 14, 15, 16, 17, 18, 19, 20, 21, 22, 23, 24, 25, 26, 27, 28, 29, 30], [3, 4, 5, 6, 7, 8, 9, 10, 11, 12, 13, 14, 15, 16, 17, 18, 19, 20, 21, 22, 23, 24, 25, 26, 27, 28, 29, 30], [3, 4, 5, 6, 7, 8, 9, 10, 11, 12, 13, 14, 15, 16, 17, 18, 19, 20, 21, 22, 23, 24, 25, 26, 27, 28, 29, 30], [3, 4, 5, 6, 7, 8, 9, 10, 11, 12, 13, 14, 15, 16, 17, 18, 19, 20, 21, 22, 23, 24, 25, 26, 27, 28, 29, 30], [3, 4, 5, 6, 7, 8, 9, 10, 11, 12, 13, 14, 15, 16, 17, 18, 19, 20, 21, 22, 23, 24, 25, 26, 27, 28, 29, 30]], ['Eto'], [3, 4, 5, 6, 7, 8, 9, 10, 11, 12, 13, 14, 15, 16, 17, 18, 19, 20, 21, 22, 23, 24, 25, 26, 27, 28, 29, 30]]\n",
            "\n",
            " ---------------------------------------------\n",
            "\n"
          ]
        },
        {
          "output_type": "stream",
          "name": "stderr",
          "text": [
            "/usr/local/lib/python3.7/dist-packages/ipykernel_launcher.py:20: PerformanceWarning: DataFrame is highly fragmented.  This is usually the result of calling `frame.insert` many times, which has poor performance.  Consider joining all columns at once using pd.concat(axis=1) instead.  To get a de-fragmented frame, use `newframe = frame.copy()`\n",
            "/usr/local/lib/python3.7/dist-packages/ipykernel_launcher.py:29: PerformanceWarning: DataFrame is highly fragmented.  This is usually the result of calling `frame.insert` many times, which has poor performance.  Consider joining all columns at once using pd.concat(axis=1) instead.  To get a de-fragmented frame, use `newframe = frame.copy()`\n"
          ]
        },
        {
          "output_type": "stream",
          "name": "stdout",
          "text": [
            "lista_selecionada [['temp_media', '7'], ['temp_media', '12'], ['temp_media', '11'], ['temp_media', '8'], ['temp_media', '13'], ['temp_media', '10'], ['temp_media', '9'], ['Eto', '7'], ['Eto', '13'], ['temp_max', '7']]\n",
            "lista ['temp_media', 'temp_max']\n",
            "Eto ['Eto']\n",
            "lags [[7, 12, 11, 8, 13, 10, 9], [7]]\n",
            "lags_eto [7, 13]\n",
            "lista_selecionada [['J', '23'], ['temp_media', '12'], ['temp_media', '7'], ['J', '14'], ['temp_media', '11'], ['temp_media', '16'], ['J', '22'], ['temp_media', '13'], ['J', '19'], ['radiacao', '13']]\n",
            "lista ['J', 'temp_media', 'radiacao']\n",
            "Eto []\n",
            "lags [[23, 14, 22, 19], [12, 7, 11, 16, 13], [13]]\n",
            "lags_eto []\n",
            "\n",
            " -----------Para----7----dias --------\n",
            "\n",
            "lista_Formatada_1 ------->  [['temp_media', 'temp_max'], [[7, 12, 11, 8, 13, 10, 9], [7]], ['Eto'], [7, 13]]\n",
            "lista_Formatada_2 ------->  [['J', 'temp_media', 'radiacao'], [[23, 14, 22, 19], [12, 7, 11, 16, 13], [13]], [], []]\n",
            "lista_Formatada_3 ------->  [['vento', 'radiacao', 'temp_max', 'temp_min', 'umi_max', 'umi_min', 'umi_rel', 'press_atm', 'temp_media', 'J'], [[7, 8, 9, 10, 11, 12, 13, 14, 15, 16, 17, 18, 19, 20, 21, 22, 23, 24, 25, 26, 27, 28, 29, 30], [7, 8, 9, 10, 11, 12, 13, 14, 15, 16, 17, 18, 19, 20, 21, 22, 23, 24, 25, 26, 27, 28, 29, 30], [7, 8, 9, 10, 11, 12, 13, 14, 15, 16, 17, 18, 19, 20, 21, 22, 23, 24, 25, 26, 27, 28, 29, 30], [7, 8, 9, 10, 11, 12, 13, 14, 15, 16, 17, 18, 19, 20, 21, 22, 23, 24, 25, 26, 27, 28, 29, 30], [7, 8, 9, 10, 11, 12, 13, 14, 15, 16, 17, 18, 19, 20, 21, 22, 23, 24, 25, 26, 27, 28, 29, 30], [7, 8, 9, 10, 11, 12, 13, 14, 15, 16, 17, 18, 19, 20, 21, 22, 23, 24, 25, 26, 27, 28, 29, 30], [7, 8, 9, 10, 11, 12, 13, 14, 15, 16, 17, 18, 19, 20, 21, 22, 23, 24, 25, 26, 27, 28, 29, 30], [7, 8, 9, 10, 11, 12, 13, 14, 15, 16, 17, 18, 19, 20, 21, 22, 23, 24, 25, 26, 27, 28, 29, 30], [7, 8, 9, 10, 11, 12, 13, 14, 15, 16, 17, 18, 19, 20, 21, 22, 23, 24, 25, 26, 27, 28, 29, 30], [7, 8, 9, 10, 11, 12, 13, 14, 15, 16, 17, 18, 19, 20, 21, 22, 23, 24, 25, 26, 27, 28, 29, 30]], ['Eto'], [7, 8, 9, 10, 11, 12, 13, 14, 15, 16, 17, 18, 19, 20, 21, 22, 23, 24, 25, 26, 27, 28, 29, 30]]\n",
            "\n",
            " ---------------------------------------------\n",
            "\n"
          ]
        },
        {
          "output_type": "stream",
          "name": "stderr",
          "text": [
            "/usr/local/lib/python3.7/dist-packages/ipykernel_launcher.py:20: PerformanceWarning: DataFrame is highly fragmented.  This is usually the result of calling `frame.insert` many times, which has poor performance.  Consider joining all columns at once using pd.concat(axis=1) instead.  To get a de-fragmented frame, use `newframe = frame.copy()`\n",
            "/usr/local/lib/python3.7/dist-packages/ipykernel_launcher.py:29: PerformanceWarning: DataFrame is highly fragmented.  This is usually the result of calling `frame.insert` many times, which has poor performance.  Consider joining all columns at once using pd.concat(axis=1) instead.  To get a de-fragmented frame, use `newframe = frame.copy()`\n"
          ]
        },
        {
          "output_type": "stream",
          "name": "stdout",
          "text": [
            "lista_selecionada [['temp_media', '12'], ['temp_media', '11'], ['temp_media', '13'], ['temp_media', '10'], ['Eto', '13'], ['temp_min', '12'], ['temp_media', '14'], ['Eto', '12'], ['Eto', '10'], ['temp_min', '11']]\n",
            "lista ['temp_media', 'temp_min']\n",
            "Eto ['Eto']\n",
            "lags [[12, 11, 13, 10, 14], [12, 11]]\n",
            "lags_eto [13, 12, 10]\n",
            "lista_selecionada [['temp_media', '11'], ['J', '30'], ['J', '28'], ['J', '24'], ['temp_media', '12'], ['temp_media', '16'], ['temp_media', '15'], ['J', '18'], ['J', '14'], ['J', '20']]\n",
            "lista ['temp_media', 'J']\n",
            "Eto []\n",
            "lags [[11, 12, 16, 15], [30, 28, 24, 18, 14, 20]]\n",
            "lags_eto []\n",
            "\n",
            " -----------Para----10----dias --------\n",
            "\n",
            "lista_Formatada_1 ------->  [['temp_media', 'temp_min'], [[12, 11, 13, 10, 14], [12, 11]], ['Eto'], [13, 12, 10]]\n",
            "lista_Formatada_2 ------->  [['temp_media', 'J'], [[11, 12, 16, 15], [30, 28, 24, 18, 14, 20]], [], []]\n",
            "lista_Formatada_3 ------->  [['vento', 'radiacao', 'temp_max', 'temp_min', 'umi_max', 'umi_min', 'umi_rel', 'press_atm', 'temp_media', 'J'], [[10, 11, 12, 13, 14, 15, 16, 17, 18, 19, 20, 21, 22, 23, 24, 25, 26, 27, 28, 29, 30], [10, 11, 12, 13, 14, 15, 16, 17, 18, 19, 20, 21, 22, 23, 24, 25, 26, 27, 28, 29, 30], [10, 11, 12, 13, 14, 15, 16, 17, 18, 19, 20, 21, 22, 23, 24, 25, 26, 27, 28, 29, 30], [10, 11, 12, 13, 14, 15, 16, 17, 18, 19, 20, 21, 22, 23, 24, 25, 26, 27, 28, 29, 30], [10, 11, 12, 13, 14, 15, 16, 17, 18, 19, 20, 21, 22, 23, 24, 25, 26, 27, 28, 29, 30], [10, 11, 12, 13, 14, 15, 16, 17, 18, 19, 20, 21, 22, 23, 24, 25, 26, 27, 28, 29, 30], [10, 11, 12, 13, 14, 15, 16, 17, 18, 19, 20, 21, 22, 23, 24, 25, 26, 27, 28, 29, 30], [10, 11, 12, 13, 14, 15, 16, 17, 18, 19, 20, 21, 22, 23, 24, 25, 26, 27, 28, 29, 30], [10, 11, 12, 13, 14, 15, 16, 17, 18, 19, 20, 21, 22, 23, 24, 25, 26, 27, 28, 29, 30], [10, 11, 12, 13, 14, 15, 16, 17, 18, 19, 20, 21, 22, 23, 24, 25, 26, 27, 28, 29, 30]], ['Eto'], [10, 11, 12, 13, 14, 15, 16, 17, 18, 19, 20, 21, 22, 23, 24, 25, 26, 27, 28, 29, 30]]\n",
            "\n",
            " ---------------------------------------------\n",
            "\n"
          ]
        }
      ],
      "source": [
        "for x in [1,3,7,10]:\n",
        " lista_Filtrada=column_Filter(resultadoP[0],x)\n",
        " ranking_data = resource_ranking(df,lista_Filtrada,'Eto')\n",
        " lista_Formatada1=list_Format(ranking_data[0],10,0)\n",
        " lista_Formatada2=list_Format(ranking_data[1],10,0)\n",
        " print('\\n -----------Para----' + str(x) + '----dias --------\\n')\n",
        " print(\"lista_Formatada_1 -------> \",lista_Formatada1)\n",
        " print(\"lista_Formatada_2 -------> \",lista_Formatada2)\n",
        " print(\"lista_Formatada_3 -------> \",lista_Filtrada)\n",
        " print('\\n ---------------------------------------------\\n')"
      ]
    },
    {
      "cell_type": "markdown",
      "metadata": {
        "id": "MRitGJ5MCjFh"
      },
      "source": [
        "# Para  1 dia - Grid Forest\n"
      ]
    },
    {
      "cell_type": "code",
      "execution_count": 15,
      "metadata": {
        "id": "8pYM2tzGC67E"
      },
      "outputs": [],
      "source": [
        "lista_Formatada_1=  [['radiacao', 'temp_max', 'temp_media'], [[1], [1], [1, 5, 2, 4, 3]], ['Eto'], [1, 2, 3]]\n",
        "lista_Formatada_2=  [['radiacao', 'temp_media', 'temp_min', 'umi_min', 'umi_rel', 'temp_max'], [[1, 3], [4, 13], [3], [1], [1], [1]], ['Eto'], [1, 2]]"
      ]
    },
    {
      "cell_type": "code",
      "execution_count": 16,
      "metadata": {
        "colab": {
          "base_uri": "https://localhost:8080/"
        },
        "id": "I5kq7nkVzomg",
        "outputId": "ec03f110-3f66-4ea6-91c4-415f2139fbd1"
      },
      "outputs": [
        {
          "output_type": "stream",
          "name": "stdout",
          "text": [
            "gridSearchFs\n",
            "---------------------------------------------------------------------------------\n",
            "***************************************\n",
            "(1821, 10) x1_train\n",
            "*****************++*********************\n",
            "(731, 10) x1_test\n",
            "******************---********************\n",
            "(1821,) y1_train\n",
            "****************1234*********************\n",
            "(731,) y1_test\n",
            "*****************asddfg******************\n",
            " -----------------grid_search.fit--------------\n",
            "Fitting 3 folds for each of 540 candidates, totalling 1620 fits\n",
            "0 Best_hyperparameter_Arvore {'bootstrap': True, 'max_depth': 10, 'max_features': 4, 'min_samples_leaf': 4, 'min_samples_split': 10, 'n_estimators': 300}\n",
            "***************************************\n",
            "(1813, 10) x1_train\n",
            "*****************++*********************\n",
            "(731, 10) x1_test\n",
            "******************---********************\n",
            "(1813,) y1_train\n",
            "****************1234*********************\n",
            "(731,) y1_test\n",
            "*****************asddfg******************\n",
            " -----------------grid_search.fit--------------\n",
            "Fitting 3 folds for each of 540 candidates, totalling 1620 fits\n",
            "1 Best_hyperparameter_Arvore {'bootstrap': True, 'max_depth': 80, 'max_features': 2, 'min_samples_leaf': 5, 'min_samples_split': 2, 'n_estimators': 1000}\n",
            "---------------------------------------------------------------------------------\n"
          ]
        }
      ],
      "source": [
        "parametrosSearchA=gridSearchFs(df,[lista_Formatada_1,lista_Formatada_2],\"Eto\")"
      ]
    },
    {
      "cell_type": "markdown",
      "metadata": {
        "id": "n9anPfPWZpp1"
      },
      "source": [
        "#Para  3 dias - Grid Forest"
      ]
    },
    {
      "cell_type": "code",
      "execution_count": 17,
      "metadata": {
        "id": "hxV_eKviYjB3"
      },
      "outputs": [],
      "source": [
        "lista_Formatada_1=  [['temp_media'], [[5, 4, 3, 6, 7, 12, 11]], ['Eto'], [3, 4, 5]]\n",
        "lista_Formatada_2=  [['temp_media', 'radiacao', 'J', 'temp_max'], [[7, 3, 13], [3, 6], [26, 12], [3]], ['Eto'], [3, 5]]"
      ]
    },
    {
      "cell_type": "code",
      "execution_count": 18,
      "metadata": {
        "colab": {
          "base_uri": "https://localhost:8080/"
        },
        "id": "G2A56wB-at2-",
        "outputId": "ed24b46b-2e37-4d81-b7e3-d2f12a74159b"
      },
      "outputs": [
        {
          "output_type": "stream",
          "name": "stdout",
          "text": [
            "gridSearchFs\n",
            "---------------------------------------------------------------------------------\n",
            "***************************************\n",
            "(1814, 10) x1_train\n",
            "*****************++*********************\n",
            "(731, 10) x1_test\n",
            "******************---********************\n",
            "(1814,) y1_train\n",
            "****************1234*********************\n",
            "(731,) y1_test\n",
            "*****************asddfg******************\n",
            " -----------------grid_search.fit--------------\n",
            "Fitting 3 folds for each of 540 candidates, totalling 1620 fits\n",
            "0 Best_hyperparameter_Arvore {'bootstrap': True, 'max_depth': 10, 'max_features': 4, 'min_samples_leaf': 4, 'min_samples_split': 2, 'n_estimators': 100}\n",
            "***************************************\n",
            "(1800, 10) x1_train\n",
            "*****************++*********************\n",
            "(731, 10) x1_test\n",
            "******************---********************\n",
            "(1800,) y1_train\n",
            "****************1234*********************\n",
            "(731,) y1_test\n",
            "*****************asddfg******************\n",
            " -----------------grid_search.fit--------------\n",
            "Fitting 3 folds for each of 540 candidates, totalling 1620 fits\n",
            "1 Best_hyperparameter_Arvore {'bootstrap': True, 'max_depth': 10, 'max_features': 2, 'min_samples_leaf': 4, 'min_samples_split': 10, 'n_estimators': 100}\n",
            "---------------------------------------------------------------------------------\n"
          ]
        }
      ],
      "source": [
        "parametrosSearchA=gridSearchFs(df,[lista_Formatada_1,lista_Formatada_2],\"Eto\")\n"
      ]
    },
    {
      "cell_type": "markdown",
      "metadata": {
        "id": "8xjZeWHrZvdV"
      },
      "source": [
        "# Para 7 dias Grid Forest"
      ]
    },
    {
      "cell_type": "code",
      "execution_count": 19,
      "metadata": {
        "id": "7EFF8RM4Iy9n"
      },
      "outputs": [],
      "source": [
        "\n",
        "lista_Formatada_1=  [['temp_media', 'temp_max'], [[7, 12, 11, 8, 13, 10, 9], [7]], ['Eto'], [7, 13]]\n",
        "lista_Formatada_2=  [['J', 'temp_media', 'radiacao'], [[23, 14, 22, 19], [12, 7, 11, 16, 13], [13]], [], []]"
      ]
    },
    {
      "cell_type": "code",
      "execution_count": 20,
      "metadata": {
        "id": "8CCr4Mrtan5X",
        "colab": {
          "base_uri": "https://localhost:8080/"
        },
        "outputId": "a934f785-37e0-4df6-9437-c4a84a3c4838"
      },
      "outputs": [
        {
          "output_type": "stream",
          "name": "stdout",
          "text": [
            "gridSearchFs\n",
            "---------------------------------------------------------------------------------\n",
            "***************************************\n",
            "(1813, 10) x1_train\n",
            "*****************++*********************\n",
            "(731, 10) x1_test\n",
            "******************---********************\n",
            "(1813,) y1_train\n",
            "****************1234*********************\n",
            "(731,) y1_test\n",
            "*****************asddfg******************\n",
            " -----------------grid_search.fit--------------\n",
            "Fitting 3 folds for each of 540 candidates, totalling 1620 fits\n",
            "0 Best_hyperparameter_Arvore {'bootstrap': True, 'max_depth': 80, 'max_features': 2, 'min_samples_leaf': 5, 'min_samples_split': 12, 'n_estimators': 100}\n",
            "***************************************\n",
            "(1803, 10) x1_train\n",
            "*****************++*********************\n",
            "(731, 10) x1_test\n",
            "******************---********************\n",
            "(1803,) y1_train\n",
            "****************1234*********************\n",
            "(731,) y1_test\n",
            "*****************asddfg******************\n",
            " -----------------grid_search.fit--------------\n",
            "Fitting 3 folds for each of 540 candidates, totalling 1620 fits\n",
            "1 Best_hyperparameter_Arvore {'bootstrap': True, 'max_depth': 10, 'max_features': 2, 'min_samples_leaf': 5, 'min_samples_split': 12, 'n_estimators': 1000}\n",
            "---------------------------------------------------------------------------------\n"
          ]
        }
      ],
      "source": [
        "parametrosSearchA=gridSearchFs(df,[lista_Formatada_1,lista_Formatada_2],\"Eto\")\n"
      ]
    },
    {
      "cell_type": "markdown",
      "metadata": {
        "id": "gjsxoJgpZ7_o"
      },
      "source": [
        "# Para 10 dias - Grid Forest"
      ]
    },
    {
      "cell_type": "code",
      "execution_count": 21,
      "metadata": {
        "id": "-XU7YQm9aZov"
      },
      "outputs": [],
      "source": [
        "lista_Formatada_1=  [['temp_media', 'temp_min'], [[12, 11, 13, 10, 14], [12, 11]], ['Eto'], [13, 12, 10]]\n",
        "lista_Formatada_2=  [['temp_media', 'J'], [[11, 12, 16, 15], [30, 28, 24, 18, 14, 20]], [], []]"
      ]
    },
    {
      "cell_type": "code",
      "execution_count": 22,
      "metadata": {
        "id": "xhZjC3-0FYCF",
        "colab": {
          "base_uri": "https://localhost:8080/"
        },
        "outputId": "0c688584-703b-43e4-ba58-46749acfee11"
      },
      "outputs": [
        {
          "output_type": "stream",
          "name": "stdout",
          "text": [
            "gridSearchFs\n",
            "---------------------------------------------------------------------------------\n",
            "***************************************\n",
            "(1812, 10) x1_train\n",
            "*****************++*********************\n",
            "(731, 10) x1_test\n",
            "******************---********************\n",
            "(1812,) y1_train\n",
            "****************1234*********************\n",
            "(731,) y1_test\n",
            "*****************asddfg******************\n",
            " -----------------grid_search.fit--------------\n",
            "Fitting 3 folds for each of 540 candidates, totalling 1620 fits\n",
            "0 Best_hyperparameter_Arvore {'bootstrap': True, 'max_depth': 10, 'max_features': 4, 'min_samples_leaf': 4, 'min_samples_split': 2, 'n_estimators': 300}\n",
            "***************************************\n",
            "(1796, 10) x1_train\n",
            "*****************++*********************\n",
            "(731, 10) x1_test\n",
            "******************---********************\n",
            "(1796,) y1_train\n",
            "****************1234*********************\n",
            "(731,) y1_test\n",
            "*****************asddfg******************\n",
            " -----------------grid_search.fit--------------\n",
            "Fitting 3 folds for each of 540 candidates, totalling 1620 fits\n",
            "1 Best_hyperparameter_Arvore {'bootstrap': True, 'max_depth': 80, 'max_features': 2, 'min_samples_leaf': 5, 'min_samples_split': 2, 'n_estimators': 100}\n",
            "---------------------------------------------------------------------------------\n"
          ]
        }
      ],
      "source": [
        "parametrosSearchA=gridSearchFs(df,[lista_Formatada_1,lista_Formatada_2],\"Eto\")\n"
      ]
    }
  ],
  "metadata": {
    "colab": {
      "collapsed_sections": [],
      "name": "hyperForest_Porto_Alegre.ipynb",
      "provenance": [],
      "authorship_tag": "ABX9TyOxkFc6Rjq1+tTHZcaRp8Qf",
      "include_colab_link": true
    },
    "kernelspec": {
      "display_name": "Python 3",
      "name": "python3"
    },
    "language_info": {
      "name": "python"
    }
  },
  "nbformat": 4,
  "nbformat_minor": 0
}